{
 "cells": [
  {
   "cell_type": "code",
   "execution_count": null,
   "metadata": {},
   "outputs": [],
   "source": [
    "def solution(numbers, target):\n",
    "    numbers = sorted(numbers, reverse=True)\n",
    "    largest = sum(numbers)\n",
    "    if largest == target:\n",
    "        return 1\n",
    "    elif largest < target:\n",
    "        return 0\n",
    "    else:\n",
    "        cnt = 0\n",
    "        summation = largest\n",
    "        for num in numbers:\n",
    "            summation -= 2*num\n",
    "            print(summation)\n",
    "            if summation < target:\n",
    "                # summation = largest\n",
    "                summation += 2*num\n",
    "            elif summation > target:\n",
    "                pass\n",
    "            else:\n",
    "                cnt += 1\n",
    "                # summation = largest\n",
    "                summation += 2*num\n",
    "    return cnt"
   ]
  }
 ],
 "metadata": {
  "kernelspec": {
   "display_name": "Python 3",
   "language": "python",
   "name": "python3"
  },
  "language_info": {
   "codemirror_mode": {
    "name": "ipython",
    "version": 3
   },
   "file_extension": ".py",
   "mimetype": "text/x-python",
   "name": "python",
   "nbconvert_exporter": "python",
   "pygments_lexer": "ipython3",
   "version": "3.7.7"
  }
 },
 "nbformat": 4,
 "nbformat_minor": 4
}
