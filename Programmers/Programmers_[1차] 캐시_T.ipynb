{
 "cells": [
  {
   "cell_type": "code",
   "execution_count": 1,
   "metadata": {},
   "outputs": [],
   "source": [
    "from collections import deque\n",
    "\n",
    "def solution(cacheSize, cities):\n",
    "    if cacheSize == 0:\n",
    "        return 5*len(cities)\n",
    "    else:\n",
    "        cache = deque()\n",
    "        time = 0\n",
    "        for city in cities:\n",
    "            city = city.upper()\n",
    "            if city in cache:\n",
    "                time += 1\n",
    "                cache.remove(city)\n",
    "            else:\n",
    "                time += 5\n",
    "                if len(cache) == cacheSize:\n",
    "                    cache.popleft()\n",
    "                else:\n",
    "                    pass\n",
    "            cache.append(city)\n",
    "    return time"
   ]
  },
  {
   "cell_type": "code",
   "execution_count": 2,
   "metadata": {},
   "outputs": [
    {
     "data": {
      "text/plain": [
       "52"
      ]
     },
     "execution_count": 2,
     "metadata": {},
     "output_type": "execute_result"
    }
   ],
   "source": [
    "cacheSize = 5\n",
    "cities = [\"Jeju\", \"Pangyo\", \"Seoul\", \"NewYork\", \"LA\", \"SanFrancisco\", \"Seoul\", \"Rome\", \"Paris\", \"Jeju\", \"NewYork\", \"Rome\"]\n",
    "\n",
    "solution(cacheSize, cities)"
   ]
  }
 ],
 "metadata": {
  "kernelspec": {
   "display_name": "Python 3",
   "language": "python",
   "name": "python3"
  },
  "language_info": {
   "codemirror_mode": {
    "name": "ipython",
    "version": 3
   },
   "file_extension": ".py",
   "mimetype": "text/x-python",
   "name": "python",
   "nbconvert_exporter": "python",
   "pygments_lexer": "ipython3",
   "version": "3.8.5"
  }
 },
 "nbformat": 4,
 "nbformat_minor": 4
}
