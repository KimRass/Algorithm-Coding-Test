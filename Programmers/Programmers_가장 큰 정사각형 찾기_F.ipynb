{
 "cells": [
  {
   "cell_type": "code",
   "execution_count": null,
   "metadata": {},
   "outputs": [],
   "source": [
    "def solution(board):\n",
    "    rows = len(board)\n",
    "    cols = len(board[0])\n",
    "    largest = 0\n",
    "    for i in range(rows):\n",
    "        for j in range(cols):\n",
    "            if board[i][j] == 1:\n",
    "                left = min(rows - i, cols - j)\n",
    "                for k in range(largest, left):\n",
    "                    breaker = False\n",
    "                    for p in range(k + 1):\n",
    "                        for q in range(k + 1):\n",
    "                            if board[i + p][j + q] != 1:\n",
    "                                breaker = True\n",
    "                                break\n",
    "                        if breaker == True:\n",
    "                            break\n",
    "                    else:\n",
    "                        # print(i, j, k + 1)\n",
    "                        if largest < k + 1:\n",
    "                            largest = k + 1\n",
    "    return largest**2"
   ]
  },
  {
   "cell_type": "code",
   "execution_count": null,
   "metadata": {},
   "outputs": [],
   "source": [
    "def solution(board):\n",
    "    rows = len(board)\n",
    "    cols = len(board[0])\n",
    "    largest = 0\n",
    "    summ = sum([sum(i) for i in board])\n",
    "    # if min(rows, cols) == 1 and summ != 0:\n",
    "    #     return 1\n",
    "    for i in range(rows):\n",
    "        for j in range(cols):\n",
    "            if board[i][j] == 1:\n",
    "                left_rows = rows - i\n",
    "                left_cols = cols - j\n",
    "                left = min(left_rows, left_cols)\n",
    "                for k in range(left):\n",
    "                    breaker = False\n",
    "                    for p in range(k + 1):\n",
    "                        for q in range(k + 1):\n",
    "                            if board[i + p][j + q] != 1:\n",
    "                                breaker = True\n",
    "                                break\n",
    "                        if breaker == True:\n",
    "                            break\n",
    "                    else:\n",
    "                        # print(i, j, k + 1)\n",
    "                        if largest < k + 1:\n",
    "                            largest = k + 1\n",
    "    return largest**2"
   ]
  },
  {
   "cell_type": "code",
   "execution_count": null,
   "metadata": {},
   "outputs": [],
   "source": [
    "def solution(board):\n",
    "    n_rows = len(board)\n",
    "    n_cols = len(board[0])\n",
    "    for i in range(n_rows):\n",
    "        for j in range(n_cols):\n",
    "            if board[i][j] == 1:\n",
    "                for p in range(i, n_rows):\n",
    "                    for q in range(j, n_cols):\n",
    "                        if board[p][q] == 1:\n",
    "                            pass\n",
    "                        else:\n",
    "                            break\n",
    "                else:\n",
    "                    print(\"a\")\n",
    "    return None"
   ]
  }
 ],
 "metadata": {
  "kernelspec": {
   "display_name": "Python 3",
   "language": "python",
   "name": "python3"
  },
  "language_info": {
   "codemirror_mode": {
    "name": "ipython",
    "version": 3
   },
   "file_extension": ".py",
   "mimetype": "text/x-python",
   "name": "python",
   "nbconvert_exporter": "python",
   "pygments_lexer": "ipython3",
   "version": "3.8.5"
  }
 },
 "nbformat": 4,
 "nbformat_minor": 4
}
