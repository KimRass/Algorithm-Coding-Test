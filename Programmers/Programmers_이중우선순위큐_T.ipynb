{
 "cells": [
  {
   "cell_type": "code",
   "execution_count": 1,
   "metadata": {},
   "outputs": [],
   "source": [
    "import heapq as hq\n",
    "\n",
    "def solution(operations):\n",
    "    hp = list()\n",
    "    for op in operations:\n",
    "        if op[0] == \"I\":\n",
    "            hq.heappush(hp, eval(op[2:]))\n",
    "        elif op == \"D -1\":\n",
    "            try:\n",
    "                hq.heappop(hp)\n",
    "            except:\n",
    "                continue\n",
    "        else:\n",
    "            try:\n",
    "                hp = hq.nlargest(len(hp), hp)[1:]\n",
    "                hq.heapify(hp)\n",
    "            except:\n",
    "                continue\n",
    "\n",
    "    if hp:\n",
    "        return [hq.nlargest(1, hp)[0], hq.heappop(hp)]\n",
    "    else:\n",
    "        return [0, 0]"
   ]
  },
  {
   "cell_type": "code",
   "execution_count": 2,
   "metadata": {},
   "outputs": [
    {
     "data": {
      "text/plain": [
       "[333, -45]"
      ]
     },
     "execution_count": 2,
     "metadata": {},
     "output_type": "execute_result"
    }
   ],
   "source": [
    "operations = [\"I -45\", \"I 653\", \"D 1\", \"I -642\", \"I 45\", \"I 97\", \"D 1\", \"D -1\", \"I 333\"]\n",
    "\n",
    "solution(operations)"
   ]
  }
 ],
 "metadata": {
  "kernelspec": {
   "display_name": "Python 3",
   "language": "python",
   "name": "python3"
  },
  "language_info": {
   "codemirror_mode": {
    "name": "ipython",
    "version": 3
   },
   "file_extension": ".py",
   "mimetype": "text/x-python",
   "name": "python",
   "nbconvert_exporter": "python",
   "pygments_lexer": "ipython3",
   "version": "3.8.5"
  }
 },
 "nbformat": 4,
 "nbformat_minor": 4
}
