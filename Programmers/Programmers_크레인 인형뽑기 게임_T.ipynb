{
 "cells": [
  {
   "cell_type": "code",
   "execution_count": null,
   "metadata": {},
   "outputs": [],
   "source": [
    "from collections import deque\n",
    "\n",
    "def solution(board, moves):\n",
    "    dim = len(board)\n",
    "    moves_ = [i - 1 for i in moves]\n",
    "    board_ = [[row[i] for row in reversed(board) if row[i] != 0] for i in range(dim)]\n",
    "    dq = deque([0])\n",
    "    gone = 0\n",
    "    for num in moves_:\n",
    "        line = board_[num]\n",
    "        if len(line) != 0:\n",
    "            dq.append(line.pop())\n",
    "        else:\n",
    "            pass\n",
    "    dq2 = deque([101])\n",
    "    cnt = 0\n",
    "    while True:\n",
    "        len1 = len(dq)\n",
    "        if dq2[-1] != dq[0]:\n",
    "            dq2.append(dq.popleft())\n",
    "        else:\n",
    "            cnt += 1\n",
    "            dq.popleft()\n",
    "            dq2.pop()\n",
    "            \n",
    "        if len(dq) == 0:\n",
    "            print(dq2)\n",
    "            dq = dq2.copy()\n",
    "            dq2 = deque([101])\n",
    "            if len1 != len(dq):\n",
    "                break\n",
    "    return cnt*2"
   ]
  }
 ],
 "metadata": {
  "kernelspec": {
   "display_name": "Python 3",
   "language": "python",
   "name": "python3"
  },
  "language_info": {
   "codemirror_mode": {
    "name": "ipython",
    "version": 3
   },
   "file_extension": ".py",
   "mimetype": "text/x-python",
   "name": "python",
   "nbconvert_exporter": "python",
   "pygments_lexer": "ipython3",
   "version": "3.8.5"
  }
 },
 "nbformat": 4,
 "nbformat_minor": 4
}
