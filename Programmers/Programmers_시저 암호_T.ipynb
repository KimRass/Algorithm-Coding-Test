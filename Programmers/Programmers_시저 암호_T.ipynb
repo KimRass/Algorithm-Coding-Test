{
 "cells": [
  {
   "cell_type": "code",
   "execution_count": 2,
   "metadata": {},
   "outputs": [],
   "source": [
    "def solution(s, n):\n",
    "    string = \"\"\n",
    "    for char in s:\n",
    "        if char != \" \" and char.islower():\n",
    "            string += chr((ord(char) - ord(\"a\")+ n)%(ord(\"z\") - ord(\"a\") + 1) + ord(\"a\"))\n",
    "        elif char != \" \" and char.isupper():\n",
    "            string += chr((ord(char) - ord(\"A\")+ n)%(ord(\"Z\") - ord(\"A\") + 1) + ord(\"A\"))\n",
    "        else:\n",
    "            string += \" \"\n",
    "    return string"
   ]
  },
  {
   "cell_type": "code",
   "execution_count": 4,
   "metadata": {},
   "outputs": [
    {
     "data": {
      "text/plain": [
       "'m  Np  Op qqQ rJ'"
      ]
     },
     "execution_count": 4,
     "metadata": {},
     "output_type": "execute_result"
    }
   ],
   "source": [
    "solution(\"a  Bd  Cd eeE fX\", 12)"
   ]
  },
  {
   "cell_type": "code",
   "execution_count": null,
   "metadata": {},
   "outputs": [],
   "source": []
  }
 ],
 "metadata": {
  "kernelspec": {
   "display_name": "Python 3",
   "language": "python",
   "name": "python3"
  },
  "language_info": {
   "codemirror_mode": {
    "name": "ipython",
    "version": 3
   },
   "file_extension": ".py",
   "mimetype": "text/x-python",
   "name": "python",
   "nbconvert_exporter": "python",
   "pygments_lexer": "ipython3",
   "version": "3.8.5"
  }
 },
 "nbformat": 4,
 "nbformat_minor": 4
}
