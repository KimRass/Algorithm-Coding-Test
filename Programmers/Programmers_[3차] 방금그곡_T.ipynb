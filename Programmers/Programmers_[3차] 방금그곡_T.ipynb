{
 "cells": [
  {
   "cell_type": "code",
   "execution_count": 16,
   "metadata": {},
   "outputs": [],
   "source": [
    "import datetime\n",
    "\n",
    "def solution(m, musicinfos):\n",
    "    m += \"X\"\n",
    "    m = [m[idx:idx + 2] if m[idx + 1] == \"#\" else m[idx] + \"0\" for idx in range(len(m) - 1) if m[idx] != \"#\"]\n",
    "    m = \"\".join(m)\n",
    "\n",
    "    title2interv = dict()\n",
    "    for info in musicinfos:\n",
    "        info = info.split(\",\")\n",
    "        start = datetime.datetime.strptime(info[0], \"%H:%M\")\n",
    "        end = datetime.datetime.strptime(info[1], \"%H:%M\")      \n",
    "        title = info[2]\n",
    "        melody = info[3] + \"X\"\n",
    "        \n",
    "        interv = int((end - start).total_seconds()/60)\n",
    "        \n",
    "        melody = [melody[idx:idx + 2] if melody[idx + 1] == \"#\" else melody[idx] + \"0\" for idx in range(len(melody) - 1) if melody[idx] != \"#\"]\n",
    "        melody *= interv//len(melody) + 1\n",
    "        melody = melody[:interv]\n",
    "        melody = \"\".join(melody)\n",
    "\n",
    "        if m in melody:\n",
    "            title2interv.update({title:interv})\n",
    "    if len(title2interv) == 0:\n",
    "        return \"(None)\"\n",
    "    else:\n",
    "        longest = max(title2interv.values())\n",
    "        lst = [k for k, v in title2interv.items() if v == longest]\n",
    "        return lst[0]"
   ]
  },
  {
   "cell_type": "code",
   "execution_count": 17,
   "metadata": {},
   "outputs": [
    {
     "data": {
      "text/plain": [
       "'FOO'"
      ]
     },
     "execution_count": 17,
     "metadata": {},
     "output_type": "execute_result"
    }
   ],
   "source": [
    "m = \"CC#BCC#BCC#BCC#B\"\n",
    "musicinfos = [\"03:00,03:30,FOO,CC#B\", \"04:00,04:08,BAR,CC#BCC#BCC#B\"]\n",
    "\n",
    "solution(m, musicinfos)"
   ]
  }
 ],
 "metadata": {
  "kernelspec": {
   "display_name": "Python 3",
   "language": "python",
   "name": "python3"
  },
  "language_info": {
   "codemirror_mode": {
    "name": "ipython",
    "version": 3
   },
   "file_extension": ".py",
   "mimetype": "text/x-python",
   "name": "python",
   "nbconvert_exporter": "python",
   "pygments_lexer": "ipython3",
   "version": "3.7.7"
  }
 },
 "nbformat": 4,
 "nbformat_minor": 4
}
