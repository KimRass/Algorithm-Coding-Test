{
 "cells": [
  {
   "cell_type": "markdown",
   "metadata": {},
   "source": [
    "- Source: https://programmers.co.kr/learn/courses/30/lessons/42577\n",
    "\n",
    "## Trie Data Structure(F)"
   ]
  },
  {
   "cell_type": "code",
   "execution_count": null,
   "metadata": {},
   "outputs": [],
   "source": [
    "class Node():\n",
    "    def __init__(self, key, data=None):\n",
    "        self.key = key\n",
    "        self.data = data\n",
    "        self.child = dict()\n",
    "\n",
    "class Trie():\n",
    "    def __init__(self):\n",
    "        self.head = Node(None)\n",
    "    def func(self, word):\n",
    "        cur_node = self.head\n",
    "        for char in word:\n",
    "            if char not in cur_node.child:\n",
    "                cur_node.child[char] = Node(char)\n",
    "            cur_node = cur_node.child[char]\n",
    "            if cur_node.data:\n",
    "                return True\n",
    "        cur_node.data = True\n",
    "        return False\n",
    "\n",
    "def solution(phone_book):\n",
    "    phone_book.sort()\n",
    "    trie = Trie()\n",
    "    for num in phone_book:\n",
    "        if trie.func(num):\n",
    "            return False\n",
    "    else:\n",
    "        return True"
   ]
  },
  {
   "cell_type": "markdown",
   "metadata": {},
   "source": [
    "## `str.startswith()`(T)"
   ]
  },
  {
   "cell_type": "code",
   "execution_count": 1,
   "metadata": {},
   "outputs": [],
   "source": [
    "def solution(phone_book):\n",
    "    phone_book = sorted(phone_book)\n",
    "    answer = True\n",
    "    for i in range(len(phone_book) - 1):\n",
    "        if phone_book[i+1].startswith(phone_book[i]):\n",
    "            answer = False\n",
    "    return answer"
   ]
  },
  {
   "cell_type": "markdown",
   "metadata": {},
   "source": [
    "## `hash()`(T)"
   ]
  },
  {
   "cell_type": "code",
   "execution_count": 29,
   "metadata": {},
   "outputs": [],
   "source": [
    "def solution(phone_book):\n",
    "    answer = True\n",
    "    hashes = dict()\n",
    "    for phone_num in phone_book:\n",
    "        hashes[hash(phone_num)] = 1\n",
    "    for phone_num in phone_book:\n",
    "        temp = \"\"\n",
    "        for num in phone_num[:-1]:\n",
    "            temp += num\n",
    "            if hash(temp) in hashes:\n",
    "                answer = False\n",
    "                break\n",
    "    return answer"
   ]
  }
 ],
 "metadata": {
  "kernelspec": {
   "display_name": "Python 3",
   "language": "python",
   "name": "python3"
  },
  "language_info": {
   "codemirror_mode": {
    "name": "ipython",
    "version": 3
   },
   "file_extension": ".py",
   "mimetype": "text/x-python",
   "name": "python",
   "nbconvert_exporter": "python",
   "pygments_lexer": "ipython3",
   "version": "3.8.5"
  }
 },
 "nbformat": 4,
 "nbformat_minor": 4
}
