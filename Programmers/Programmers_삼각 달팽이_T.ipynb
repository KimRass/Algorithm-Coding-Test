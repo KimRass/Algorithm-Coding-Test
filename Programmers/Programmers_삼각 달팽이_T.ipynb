{
 "cells": [
  {
   "cell_type": "code",
   "execution_count": 138,
   "metadata": {},
   "outputs": [],
   "source": [
    "import math\n",
    "def solution(n):\n",
    "    ans = [[] for _ in range(n)]\n",
    "    num = 0\n",
    "    idx = -1\n",
    "    for i, cycle in enumerate(range(n, 0, -1)):\n",
    "        for _ in range(cycle):\n",
    "            if i%3 == 0:\n",
    "                idx += 1\n",
    "                num += 1\n",
    "                idx_to_put = math.ceil(len(ans[idx])/2)\n",
    "                ans[idx].insert(idx_to_put, num)\n",
    "            elif i%3 == 1:\n",
    "                num += 1\n",
    "                if _ == cycle - 1:\n",
    "                    temp = [k for k in range(num, num - idx + 2*i//3, -1)]\n",
    "                    idx_to_put = math.ceil(len(ans[idx])/2)\n",
    "                    for el in temp:\n",
    "                        ans[idx].insert(idx_to_put, el)\n",
    "            else:\n",
    "                idx -= 1\n",
    "                num += 1\n",
    "                idx_to_put = math.ceil(len(ans[idx])/2)\n",
    "                ans[idx].insert(idx_to_put, num)\n",
    "    ans = sum(ans, [])\n",
    "    return ans"
   ]
  },
  {
   "cell_type": "code",
   "execution_count": 139,
   "metadata": {},
   "outputs": [
    {
     "data": {
      "text/plain": [
       "[1, 2, 15, 3, 16, 14, 4, 17, 21, 13, 5, 18, 19, 20, 12, 6, 7, 8, 9, 10, 11]"
      ]
     },
     "execution_count": 139,
     "metadata": {},
     "output_type": "execute_result"
    }
   ],
   "source": [
    "solution(6)"
   ]
  }
 ],
 "metadata": {
  "kernelspec": {
   "display_name": "Python 3",
   "language": "python",
   "name": "python3"
  },
  "language_info": {
   "codemirror_mode": {
    "name": "ipython",
    "version": 3
   },
   "file_extension": ".py",
   "mimetype": "text/x-python",
   "name": "python",
   "nbconvert_exporter": "python",
   "pygments_lexer": "ipython3",
   "version": "3.7.7"
  }
 },
 "nbformat": 4,
 "nbformat_minor": 4
}
