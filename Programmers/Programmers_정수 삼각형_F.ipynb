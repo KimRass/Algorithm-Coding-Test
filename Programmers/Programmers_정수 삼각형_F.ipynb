{
 "cells": [
  {
   "cell_type": "code",
   "execution_count": 1,
   "metadata": {},
   "outputs": [],
   "source": [
    "맨 위에서부터 k번째 층까지의 최대값 = max_sum\n",
    "max_sum[1] = 7\n",
    "max_sum[2] = 7 + 8\n",
    "max_sum[3] = 7 + 3 + max(8, 1) or 7 + 8 + max(1, 0)\n",
    "= 7 + max(3 + max(8, 1), 8 + max(1, 0))\n",
    "\n",
    "max_sum[0] = 0\n",
    "max_sum[1][0] = triangle[0][0]\n",
    "max_sum[2][0] = max_sum[1][0] + max(triangle[1][0], trianble[1][1])\n",
    "max_sum[3][0] = max_sum[2][0] + max(trianble[2][0], trianble[2][1])\n",
    "\n",
    "4층 도달\n",
    "max([8 선택 + max(2, 7), 1 선택 + max(7, 4), ...])\n",
    "\n",
    "def solution(triangle):\n",
    "    answer = 0\n",
    "    return answer"
   ]
  }
 ],
 "metadata": {
  "kernelspec": {
   "display_name": "Python 3",
   "language": "python",
   "name": "python3"
  },
  "language_info": {
   "codemirror_mode": {
    "name": "ipython",
    "version": 3
   },
   "file_extension": ".py",
   "mimetype": "text/x-python",
   "name": "python",
   "nbconvert_exporter": "python",
   "pygments_lexer": "ipython3",
   "version": "3.8.5"
  }
 },
 "nbformat": 4,
 "nbformat_minor": 4
}
