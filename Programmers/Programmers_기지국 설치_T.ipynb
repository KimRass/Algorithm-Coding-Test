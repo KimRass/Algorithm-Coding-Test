{
 "cells": [
  {
   "cell_type": "code",
   "execution_count": 1,
   "metadata": {},
   "outputs": [],
   "source": [
    "import math\n",
    "\n",
    "def solution(n, stations, w):\n",
    "    stack = list()\n",
    "    right = 1\n",
    "    for apt in stations:\n",
    "        left = apt - w\n",
    "        stack.append(left - right)\n",
    "        right = apt + w + 1\n",
    "    stack.append(n + 1 - right)\n",
    "    stack = [i for i in stack if i > 0]\n",
    "    \n",
    "    effect = 2*w + 1\n",
    "    ans = 0\n",
    "    for ran in stack:\n",
    "        ans += math.ceil(ran/effect)\n",
    "    return ans"
   ]
  },
  {
   "cell_type": "code",
   "execution_count": 2,
   "metadata": {},
   "outputs": [
    {
     "data": {
      "text/plain": [
       "3"
      ]
     },
     "execution_count": 2,
     "metadata": {},
     "output_type": "execute_result"
    }
   ],
   "source": [
    "n = 11\n",
    "stations = [4, 11]\n",
    "w = 1\n",
    "\n",
    "solution(n, stations, w)"
   ]
  }
 ],
 "metadata": {
  "kernelspec": {
   "display_name": "Python 3",
   "language": "python",
   "name": "python3"
  },
  "language_info": {
   "codemirror_mode": {
    "name": "ipython",
    "version": 3
   },
   "file_extension": ".py",
   "mimetype": "text/x-python",
   "name": "python",
   "nbconvert_exporter": "python",
   "pygments_lexer": "ipython3",
   "version": "3.8.5"
  }
 },
 "nbformat": 4,
 "nbformat_minor": 4
}
