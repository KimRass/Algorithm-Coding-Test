{
 "cells": [
  {
   "cell_type": "markdown",
   "metadata": {},
   "source": [
    "Written by KimRass\n",
    "- Source:https://programmers.co.kr/learn/courses/30/lessons/43164#"
   ]
  },
  {
   "cell_type": "code",
   "execution_count": 29,
   "metadata": {},
   "outputs": [],
   "source": [
    "from collections import deque\n",
    "\n",
    "def solution(tickets):\n",
    "    all_ports = set(sum(tickets, []))\n",
    "    \n",
    "    dep2arr = dict()\n",
    "    for port in all_ports:\n",
    "        dq = deque(sorted([j for i, j in tickets if i == port]))\n",
    "        dep2arr.update({port:dq})\n",
    "    \n",
    "    stack = [\"ICN\"]\n",
    "    route = []\n",
    "    while True:\n",
    "        dep = stack[-1]\n",
    "        if dep2arr[dep]:\n",
    "            arr = dep2arr[dep].popleft()\n",
    "            stack.append(arr)\n",
    "        else:\n",
    "            arr = stack.pop()\n",
    "            route.append(arr)            \n",
    "        if len(route) == len(tickets) + 1:\n",
    "            break\n",
    "    return list(reversed(route))"
   ]
  },
  {
   "cell_type": "code",
   "execution_count": 30,
   "metadata": {},
   "outputs": [
    {
     "data": {
      "text/plain": [
       "['ICN', 'B', 'ICN', 'A', 'D', 'A']"
      ]
     },
     "execution_count": 30,
     "metadata": {},
     "output_type": "execute_result"
    }
   ],
   "source": [
    "tickets = [[\"ICN\", \"B\"], [\"B\", \"ICN\"], [\"ICN\", \"A\"], [\"A\", \"D\"], [\"D\", \"A\"]]\n",
    "\n",
    "solution(tickets)"
   ]
  }
 ],
 "metadata": {
  "hide_input": false,
  "kernelspec": {
   "display_name": "Python 3",
   "language": "python",
   "name": "python3"
  },
  "language_info": {
   "codemirror_mode": {
    "name": "ipython",
    "version": 3
   },
   "file_extension": ".py",
   "mimetype": "text/x-python",
   "name": "python",
   "nbconvert_exporter": "python",
   "pygments_lexer": "ipython3",
   "version": "3.8.5"
  },
  "toc": {
   "base_numbering": 1,
   "nav_menu": {},
   "number_sections": true,
   "sideBar": true,
   "skip_h1_title": false,
   "title_cell": "Table of Contents",
   "title_sidebar": "Contents",
   "toc_cell": false,
   "toc_position": {},
   "toc_section_display": true,
   "toc_window_display": false
  },
  "varInspector": {
   "cols": {
    "lenName": 16,
    "lenType": 16,
    "lenVar": 40
   },
   "kernels_config": {
    "python": {
     "delete_cmd_postfix": "",
     "delete_cmd_prefix": "del ",
     "library": "var_list.py",
     "varRefreshCmd": "print(var_dic_list())"
    },
    "r": {
     "delete_cmd_postfix": ") ",
     "delete_cmd_prefix": "rm(",
     "library": "var_list.r",
     "varRefreshCmd": "cat(var_dic_list()) "
    }
   },
   "types_to_exclude": [
    "module",
    "function",
    "builtin_function_or_method",
    "instance",
    "_Feature"
   ],
   "window_display": false
  }
 },
 "nbformat": 4,
 "nbformat_minor": 4
}
