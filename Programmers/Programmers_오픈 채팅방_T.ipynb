{
 "cells": [
  {
   "cell_type": "code",
   "execution_count": 1,
   "metadata": {},
   "outputs": [],
   "source": [
    "import re\n",
    "\n",
    "def solution(record):\n",
    "    id2nick = dict()\n",
    "    p_enter_change = re.compile(r\"(Enter|Change) ([a-zA-Z0-9]+) ([a-zA-Z0-9]+)\")\n",
    "    for rec in record:\n",
    "        if \"Enter\" in rec or \"Change\" in rec:\n",
    "            id2nick[p_enter_change.search(rec).group(2)] = p_enter_change.search(rec).group(3)\n",
    "    p_enter = re.compile(r\"(Enter) ([a-zA-Z0-9]+) ()\")\n",
    "    p_leave = re.compile(r\"(Leave) ([a-zA-Z0-9]+)\")\n",
    "    return [f\"{id2nick[p_enter.search(rec).group(2)]}님이 들어왔습니다.\" if \"Enter\" in rec else f\"{id2nick[p_leave.search(rec).group(2)]}님이 나갔습니다.\" for rec in record if \"Enter\" in rec or \"Leave\" in rec]"
   ]
  },
  {
   "cell_type": "code",
   "execution_count": 2,
   "metadata": {},
   "outputs": [
    {
     "data": {
      "text/plain": [
       "['Prodo님이 들어왔습니다.', 'Ryan님이 들어왔습니다.', 'Prodo님이 나갔습니다.', 'Prodo님이 들어왔습니다.']"
      ]
     },
     "execution_count": 2,
     "metadata": {},
     "output_type": "execute_result"
    }
   ],
   "source": [
    "record = [\"Enter uid1234 Muzi\", \"Enter uid4567 Prodo\",\"Leave uid1234\",\"Enter uid1234 Prodo\",\"Change uid4567 Ryan\"]\n",
    "\n",
    "solution(record)"
   ]
  }
 ],
 "metadata": {
  "kernelspec": {
   "display_name": "Python 3",
   "language": "python",
   "name": "python3"
  },
  "language_info": {
   "codemirror_mode": {
    "name": "ipython",
    "version": 3
   },
   "file_extension": ".py",
   "mimetype": "text/x-python",
   "name": "python",
   "nbconvert_exporter": "python",
   "pygments_lexer": "ipython3",
   "version": "3.8.5"
  }
 },
 "nbformat": 4,
 "nbformat_minor": 4
}
