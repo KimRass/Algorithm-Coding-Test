{
 "cells": [
  {
   "cell_type": "code",
   "execution_count": 18,
   "metadata": {},
   "outputs": [],
   "source": [
    "from collections import deque\n",
    "\n",
    "def solution(progresses, speeds):\n",
    "    days = deque([(100 - a)/b if (100 - a)%b == 0 else (100 - a)//b + 1 for a, b in zip(progresses, speeds)])\n",
    "    stack = list()\n",
    "    stack2 = [1]\n",
    "    stack.append(days.popleft())\n",
    "    while True:\n",
    "        if stack[-1] < days[0]:\n",
    "            stack.append(days.popleft())\n",
    "            stack2.append(1)\n",
    "        else:\n",
    "            days.popleft()\n",
    "            stack2[-1] += 1\n",
    "        if len(days) == 0:\n",
    "            break\n",
    "    return stack2"
   ]
  },
  {
   "cell_type": "code",
   "execution_count": 20,
   "metadata": {},
   "outputs": [
    {
     "name": "stdout",
     "output_type": "stream",
     "text": [
      "[2, 1]\n",
      "[1, 3, 2]\n"
     ]
    }
   ],
   "source": [
    "print(solution([93, 30, 55], [1, 30, 5]))\n",
    "print(solution([95, 90, 99, 99, 80, 99], [1, 1, 1, 1, 1, 1]))"
   ]
  },
  {
   "cell_type": "code",
   "execution_count": null,
   "metadata": {},
   "outputs": [],
   "source": []
  }
 ],
 "metadata": {
  "kernelspec": {
   "display_name": "Python 3",
   "language": "python",
   "name": "python3"
  },
  "language_info": {
   "codemirror_mode": {
    "name": "ipython",
    "version": 3
   },
   "file_extension": ".py",
   "mimetype": "text/x-python",
   "name": "python",
   "nbconvert_exporter": "python",
   "pygments_lexer": "ipython3",
   "version": "3.8.5"
  }
 },
 "nbformat": 4,
 "nbformat_minor": 4
}
