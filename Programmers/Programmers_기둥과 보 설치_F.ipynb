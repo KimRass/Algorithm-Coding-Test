{
 "cells": [
  {
   "cell_type": "code",
   "execution_count": null,
   "metadata": {},
   "outputs": [],
   "source": [
    "def solution(n, build_frame):\n",
    "    columns = list()\n",
    "    beams = list()\n",
    "    ans = list()\n",
    "    for x, y, a, b in build_frame:\n",
    "        if b == 1:\n",
    "            if a == 0 and ((x, y) in beams or (x, y) in columns or y == 0):\n",
    "                columns.append((x, y + 1))\n",
    "                ans.append([x, y, a])\n",
    "            elif a == 1 and ((x, y) in columns or (x, y) in beams or (x + 1, y) in columns):\n",
    "                beams.append((x + 1, y))\n",
    "                ans.append([x, y, a])\n",
    "        else:\n",
    "            if a == 0 and (x, y + 1) in columns:\n",
    "                columns.remove((x, y + 1))\n",
    "                ans.remove([x, y, a])\n",
    "            elif a == 1 and ((x + 2, y) in columns and (x - 1, y) in columns) and (x + 1, y) in beams and [x, y, a] in ans:\n",
    "                beams.remove((x + 1, y))\n",
    "                ans.remove([x, y, a])\n",
    "        # print(columns)\n",
    "        # print(beams)\n",
    "        # print(\"\")\n",
    "        # print(ans)\n",
    "                             \n",
    "    ans = sorted(ans, key=lambda x:x[2])\n",
    "    ans = sorted(ans, key=lambda x:x[1])\n",
    "    ans = sorted(ans, key=lambda x:x[0])\n",
    "    # print(ans)\n",
    "    return ans\n",
    "    # return None"
   ]
  }
 ],
 "metadata": {
  "kernelspec": {
   "display_name": "Python 3",
   "language": "python",
   "name": "python3"
  },
  "language_info": {
   "codemirror_mode": {
    "name": "ipython",
    "version": 3
   },
   "file_extension": ".py",
   "mimetype": "text/x-python",
   "name": "python",
   "nbconvert_exporter": "python",
   "pygments_lexer": "ipython3",
   "version": "3.8.5"
  }
 },
 "nbformat": 4,
 "nbformat_minor": 4
}
