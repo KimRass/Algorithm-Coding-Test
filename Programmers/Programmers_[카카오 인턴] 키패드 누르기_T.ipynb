{
 "cells": [
  {
   "cell_type": "code",
   "execution_count": 28,
   "metadata": {},
   "outputs": [],
   "source": [
    "def dist(n, m):\n",
    "    n = 10 if n == 0 else n - 1\n",
    "    m = 10 if m == 0 else m - 1\n",
    "    return abs(m//3 - n//3) + abs(m%3 - n%3)\n",
    "\n",
    "def solution(numbers, hand):\n",
    "    left_now = [10]\n",
    "    right_now = [10]\n",
    "    string = \"\"\n",
    "    for num in numbers:\n",
    "        if num in [1, 4, 7]:\n",
    "            left_now.append(num)\n",
    "            string += \"L\"\n",
    "        elif num in [3, 6, 9]:\n",
    "            right_now.append(num)\n",
    "            string += \"R\"\n",
    "        else:\n",
    "            if dist(left_now[-1], num) == dist(right_now[-1], num):\n",
    "                if hand == \"right\":\n",
    "                    right_now.append(num)\n",
    "                    string += \"R\"\n",
    "                else:\n",
    "                    left_now.append(num)\n",
    "                    string += \"L\"\n",
    "            elif dist(left_now[-1], num) < dist(right_now[-1], num):\n",
    "                left_now.append(num)\n",
    "                string += \"L\"\n",
    "            else:\n",
    "                right_now.append(num)\n",
    "                string += \"R\"\n",
    "    return string"
   ]
  },
  {
   "cell_type": "code",
   "execution_count": 29,
   "metadata": {},
   "outputs": [
    {
     "data": {
      "text/plain": [
       "'LLRLLRLLRL'"
      ]
     },
     "execution_count": 29,
     "metadata": {},
     "output_type": "execute_result"
    }
   ],
   "source": [
    "numbers = [1, 2, 3, 4, 5, 6, 7, 8, 9, 0]\n",
    "hand = \"right\"\n",
    "solution(numbers, hand)"
   ]
  },
  {
   "cell_type": "code",
   "execution_count": null,
   "metadata": {},
   "outputs": [],
   "source": []
  }
 ],
 "metadata": {
  "kernelspec": {
   "display_name": "Python 3",
   "language": "python",
   "name": "python3"
  },
  "language_info": {
   "codemirror_mode": {
    "name": "ipython",
    "version": 3
   },
   "file_extension": ".py",
   "mimetype": "text/x-python",
   "name": "python",
   "nbconvert_exporter": "python",
   "pygments_lexer": "ipython3",
   "version": "3.7.7"
  }
 },
 "nbformat": 4,
 "nbformat_minor": 4
}
