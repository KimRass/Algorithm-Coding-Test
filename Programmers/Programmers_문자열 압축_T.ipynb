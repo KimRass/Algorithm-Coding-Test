{
 "cells": [
  {
   "cell_type": "code",
   "execution_count": null,
   "metadata": {},
   "outputs": [],
   "source": [
    "def solution(s):\n",
    "    temp = s\n",
    "    shortest = len(s)\n",
    "    for n in range(1, len(s)//2 + 1):\n",
    "        s = temp\n",
    "        string = \"\"\n",
    "        cnt = 1\n",
    "        while True:\n",
    "            sub1 = s[:n]\n",
    "            sub2 = s[n:2*n]\n",
    "            if sub1 == sub2:\n",
    "                cnt += 1\n",
    "            else:\n",
    "                if cnt == 1:\n",
    "                    string += sub1\n",
    "                else:\n",
    "                    string += str(cnt) + sub1\n",
    "                    cnt = 1\n",
    "            s = s[n:]\n",
    "            if len(s) < n:\n",
    "                string += s\n",
    "                break\n",
    "        shortest = min(shortest, len(string))\n",
    "    return shortest"
   ]
  }
 ],
 "metadata": {
  "kernelspec": {
   "display_name": "Python 3",
   "language": "python",
   "name": "python3"
  },
  "language_info": {
   "codemirror_mode": {
    "name": "ipython",
    "version": 3
   },
   "file_extension": ".py",
   "mimetype": "text/x-python",
   "name": "python",
   "nbconvert_exporter": "python",
   "pygments_lexer": "ipython3",
   "version": "3.8.5"
  }
 },
 "nbformat": 4,
 "nbformat_minor": 4
}
