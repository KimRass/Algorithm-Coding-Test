{
 "cells": [
  {
   "cell_type": "code",
   "execution_count": 2,
   "metadata": {},
   "outputs": [
    {
     "data": {
      "text/plain": [
       "4"
      ]
     },
     "execution_count": 2,
     "metadata": {},
     "output_type": "execute_result"
    }
   ],
   "source": [
    "f(number, N)\n",
    "N = 2:\n",
    "    f(1) = 1\n",
    "    f(2) = 1\n",
    "    f(3) = f(1 + 2) = 3\n",
    "    f(4) = f(2*2) = f(1) + f(1) = 2 : 4 = 2*2\n",
    "    f(5) = 4 : 5 = 2*2 + 2/2\n",
    "    f(6) = f(2*3) = 1 + f(3) = 4 : 6 = 2*2*2 - 2\n",
    "    f(7) = f(6 + 1) = 5: \n",
    "    f(8) = f(2*2*2) = 3 : 8 = 2*2*2\n",
    "f(4) = f(2) + f(2) = \n",
    "f(5) = f(2) + f(3) = 4\n",
    "f(6) = f(2) + f(3) = \n",
    "f(7) = f(6 + 1) = f(6) + 2 = f(2) + f(3) + 2\n",
    "    = f(8 - 1) = f(8) + 2 = f(2)*3 + 2 = 5\n",
    "f(8) = f(2)*3 = 3\n",
    "number : 짝수\n",
    "    f(number) = f(number/2) + 1\n",
    "def solution(N, number):\n",
    "    dp = list()\n",
    "    dp[0] = 0\n",
    "    dp[1] = 1\n",
    "    dp[2] = 1\n",
    "    dp[3] = 3\n",
    "    if number%2 = 0\n",
    "        dp[number] = dp[number/2] + 1\n",
    "        return solution(N, number/2) + 1\n",
    "    else:\n",
    "        return solution(N, number)\n",
    "        dp[number] = dp[number + 1] + 2\n",
    "        \n",
    "    answer = 0\n",
    "    return answer"
   ]
  }
 ],
 "metadata": {
  "kernelspec": {
   "display_name": "Python 3",
   "language": "python",
   "name": "python3"
  },
  "language_info": {
   "codemirror_mode": {
    "name": "ipython",
    "version": 3
   },
   "file_extension": ".py",
   "mimetype": "text/x-python",
   "name": "python",
   "nbconvert_exporter": "python",
   "pygments_lexer": "ipython3",
   "version": "3.8.5"
  }
 },
 "nbformat": 4,
 "nbformat_minor": 4
}
