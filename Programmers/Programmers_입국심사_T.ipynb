{
 "cells": [
  {
   "cell_type": "code",
   "execution_count": 3,
   "metadata": {},
   "outputs": [],
   "source": [
    "def solution(n, times):\n",
    "    right = max(times)*n\n",
    "    left = 1\n",
    "    while True:\n",
    "        mid = (left + right)//2\n",
    "        imig = sum([mid//i for i in times])\n",
    "        if imig >= n:\n",
    "            right = mid\n",
    "        else:\n",
    "            left = mid + 1\n",
    "        \n",
    "        if left == mid:\n",
    "            return mid"
   ]
  },
  {
   "cell_type": "code",
   "execution_count": 4,
   "metadata": {},
   "outputs": [
    {
     "data": {
      "text/plain": [
       "116614729"
      ]
     },
     "execution_count": 4,
     "metadata": {},
     "output_type": "execute_result"
    }
   ],
   "source": [
    "n = 276587394\n",
    "times = [3, 4, 12, 55, 23, 1, 23, 2, 10]\n",
    "\n",
    "solution(n, times)"
   ]
  }
 ],
 "metadata": {
  "kernelspec": {
   "display_name": "Python 3",
   "language": "python",
   "name": "python3"
  },
  "language_info": {
   "codemirror_mode": {
    "name": "ipython",
    "version": 3
   },
   "file_extension": ".py",
   "mimetype": "text/x-python",
   "name": "python",
   "nbconvert_exporter": "python",
   "pygments_lexer": "ipython3",
   "version": "3.8.5"
  }
 },
 "nbformat": 4,
 "nbformat_minor": 4
}
