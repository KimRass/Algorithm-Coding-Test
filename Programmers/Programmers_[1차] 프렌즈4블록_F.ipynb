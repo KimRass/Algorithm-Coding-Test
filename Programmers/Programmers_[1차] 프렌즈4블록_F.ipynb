{
 "cells": [
  {
   "cell_type": "code",
   "execution_count": 2,
   "metadata": {},
   "outputs": [
    {
     "name": "stdout",
     "output_type": "stream",
     "text": [
      "((1, 2), 10)\n"
     ]
    }
   ],
   "source": [
    "def solution(m, n, board):\n",
    "    board = [[i for i in row] for row in board]\n",
    "    # print(board)\n",
    "    \n",
    "    # cnt = 0\n",
    "    # while True:\n",
    "    for _ in range(1):\n",
    "        pops = dict()\n",
    "        for i in range(m - 1):\n",
    "            for j in range(n - 1):\n",
    "                left_up = board[i][j]\n",
    "                right_up = board[i][j + 1]\n",
    "                left_down = board[i + 1][j]\n",
    "                right_down = board[i + 1][j + 1]\n",
    "                if left_up == right_up and left_up == left_down and left_up == right_down and left_up != 0:\n",
    "                    pops.update({(i, j):left_up})\n",
    "                    # pops.append((i, j))\n",
    "        print(f\"pops:{pops}\")\n",
    "        \n",
    "        if not pops.items():\n",
    "            break\n",
    "        \n",
    "        board[2][2] = board[0][2]\n",
    "        # print(board)\n",
    "        for (i, j), sig in pops.items():\n",
    "            # print(i, j)\n",
    "            board[i][j] = 0\n",
    "            board[i][j + 1] = 0\n",
    "            board[i + 1][j] = 0\n",
    "            board[i + 1][j + 1] = 0\n",
    "            for p in range(i - 1, -1, -1):\n",
    "                print(board)\n",
    "                if board[p][j] != 0:\n",
    "                    print(\"route1\")\n",
    "                    board[p + 2][j] = board[p][j]\n",
    "                    board[p][j] = 0\n",
    "                    print(p, j + 1, board[2][1])\n",
    "                if board[p][j + 1] != 0:\n",
    "                    print(\"route2\")\n",
    "                    board[p + 2][j + 1] = board[p][j + 1]\n",
    "                    board[p][j + 1] = 0\n",
    "                    print(p, j + 1, board[2][1])\n",
    "            # print(board)\n",
    "    return sum([i.count(0) for i in board])"
   ]
  },
  {
   "cell_type": "code",
   "execution_count": null,
   "metadata": {},
   "outputs": [],
   "source": [
    "c c b d e\n",
    "a a a d e\n",
    "a a a b f\n",
    "c c b b f\n",
    "\n",
    "0 0 b d e\n",
    "0 0 a d e\n",
    "c c a b f\n",
    "c c b b f\n",
    "\n",
    "0 0 0 d e\n",
    "0 0 0 d e\n",
    "c c b b f\n",
    "c c b b f\n",
    "\n",
    "0 0 0 d e\n",
    "0 0 0 d e\n",
    "0 0 b b f\n",
    "0 0 b b f\n",
    "\n",
    "0 0 0 0 e\n",
    "0 0 0 0 e\n",
    "0 0 0 d f\n",
    "0 0 0 d f"
   ]
  },
  {
   "cell_type": "code",
   "execution_count": null,
   "metadata": {},
   "outputs": [],
   "source": [
    "0 0 b d e\n",
    "0 0 a d e\n",
    "c c a b f\n",
    "c c b b f\n",
    "\n",
    "0 0 0 d e\n",
    "0 0 0 d e\n",
    "c 0 b b f\n",
    "c c b b f"
   ]
  }
 ],
 "metadata": {
  "kernelspec": {
   "display_name": "Python 3",
   "language": "python",
   "name": "python3"
  },
  "language_info": {
   "codemirror_mode": {
    "name": "ipython",
    "version": 3
   },
   "file_extension": ".py",
   "mimetype": "text/x-python",
   "name": "python",
   "nbconvert_exporter": "python",
   "pygments_lexer": "ipython3",
   "version": "3.8.5"
  }
 },
 "nbformat": 4,
 "nbformat_minor": 4
}
