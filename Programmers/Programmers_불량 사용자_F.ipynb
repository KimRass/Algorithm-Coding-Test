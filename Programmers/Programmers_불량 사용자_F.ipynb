{
 "cells": [
  {
   "cell_type": "code",
   "execution_count": null,
   "metadata": {},
   "outputs": [],
   "source": [
    "from itertools import permutations\n",
    "import re\n",
    "import math\n",
    "\n",
    "def solution(user_id, banned_id):\n",
    "    check = {ban:set() for ban in banned_id}\n",
    "    for ban in banned_id:\n",
    "        for user in user_id:\n",
    "            if len(ban) == len(user) and re.search(ban.replace(\"*\", \"[a-z0-9]\"), user):\n",
    "                check[ban].update({user})\n",
    "    # print(check)\n",
    "                \n",
    "    n = len(banned_id)\n",
    "    pairs = [{i:j for i, j in zip(perm, banned_id)} for perm in permutations(user_id, n)]\n",
    "    # print(pairs)\n",
    "    \n",
    "    ans = list()\n",
    "    for pair in pairs:\n",
    "        for a, b in pair.items():\n",
    "            if a not in check[b]:\n",
    "                break\n",
    "        else:\n",
    "            ans.append(True)\n",
    "    # print(ans)\n",
    "    \n",
    "    ban2cnt = {i:0 for i in banned_id}\n",
    "    for ban in banned_id:\n",
    "        ban2cnt[ban] += 1\n",
    "    # print(ban2cnt)\n",
    "    \n",
    "    temp = sum(ans)\n",
    "    for cnt in ban2cnt.values():\n",
    "        temp /= math.factorial(cnt)\n",
    "    \n",
    "    return temp\n",
    "    # return None"
   ]
  }
 ],
 "metadata": {
  "kernelspec": {
   "display_name": "Python 3",
   "language": "python",
   "name": "python3"
  },
  "language_info": {
   "codemirror_mode": {
    "name": "ipython",
    "version": 3
   },
   "file_extension": ".py",
   "mimetype": "text/x-python",
   "name": "python",
   "nbconvert_exporter": "python",
   "pygments_lexer": "ipython3",
   "version": "3.8.5"
  }
 },
 "nbformat": 4,
 "nbformat_minor": 4
}
