{
 "cells": [
  {
   "cell_type": "code",
   "execution_count": 9,
   "metadata": {},
   "outputs": [],
   "source": [
    "import math\n",
    "\n",
    "def solution(n):\n",
    "    max_quot = int(math.log(n)/math.log(3))\n",
    "    quots = list()\n",
    "    for k in range(max_quot, -1, -1):\n",
    "        quot = 0\n",
    "        while True:\n",
    "            if n >= 3**k:\n",
    "                n -= 3**k\n",
    "                quot += 1\n",
    "            else:\n",
    "                break\n",
    "        quots.append(quot)\n",
    "    ans = 0\n",
    "    for i, num in enumerate(quots):\n",
    "        ans += num*(3**i)\n",
    "    return ans"
   ]
  },
  {
   "cell_type": "code",
   "execution_count": 10,
   "metadata": {},
   "outputs": [
    {
     "data": {
      "text/plain": [
       "85430"
      ]
     },
     "execution_count": 10,
     "metadata": {},
     "output_type": "execute_result"
    }
   ],
   "source": [
    "solution(123214)"
   ]
  }
 ],
 "metadata": {
  "kernelspec": {
   "display_name": "Python 3",
   "language": "python",
   "name": "python3"
  },
  "language_info": {
   "codemirror_mode": {
    "name": "ipython",
    "version": 3
   },
   "file_extension": ".py",
   "mimetype": "text/x-python",
   "name": "python",
   "nbconvert_exporter": "python",
   "pygments_lexer": "ipython3",
   "version": "3.8.5"
  }
 },
 "nbformat": 4,
 "nbformat_minor": 4
}
