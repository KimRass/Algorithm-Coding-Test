{
 "cells": [
  {
   "cell_type": "code",
   "execution_count": null,
   "metadata": {},
   "outputs": [],
   "source": [
    "from bisect import bisect_left, bisect_right\n",
    "\n",
    "def solution(distance, rocks, n):\n",
    "    rocks = sorted(rocks)\n",
    "    dists = sorted([j - i for i, j in zip([0] + rocks, rocks + [distance])])\n",
    "    # dists = sorted(dists)\n",
    "    left = min(dists)\n",
    "    right = distance\n",
    "    mid = (left + right)//2\n",
    "    # print(dists)\n",
    "    # mid 미만의 원소의 개수\n",
    "    if n == len(rocks):\n",
    "        return distance\n",
    "    else:\n",
    "        while True:\n",
    "        # for _ in range(10):\n",
    "            if bisect_left(dists, mid) - 2*n > 0:\n",
    "                right = mid - 1\n",
    "            else:\n",
    "                left = mid\n",
    "            mid = (left + right)//2\n",
    "            # print(left, mid, right)\n",
    "                \n",
    "            if left == mid:\n",
    "            # if mid == right:\n",
    "                return mid\n",
    "                # return None\n",
    "    # return mid"
   ]
  }
 ],
 "metadata": {
  "kernelspec": {
   "display_name": "Python 3",
   "language": "python",
   "name": "python3"
  },
  "language_info": {
   "codemirror_mode": {
    "name": "ipython",
    "version": 3
   },
   "file_extension": ".py",
   "mimetype": "text/x-python",
   "name": "python",
   "nbconvert_exporter": "python",
   "pygments_lexer": "ipython3",
   "version": "3.8.5"
  }
 },
 "nbformat": 4,
 "nbformat_minor": 4
}
