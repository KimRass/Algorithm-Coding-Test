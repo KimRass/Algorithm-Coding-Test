{
 "cells": [
  {
   "cell_type": "code",
   "execution_count": null,
   "metadata": {},
   "outputs": [],
   "source": [
    "import re\n",
    "from itertools import permutations\n",
    "\n",
    "def solution(expression):\n",
    "    expr = expression\n",
    "    perm = list(permutations([\"*\", \"+\", \"-\"]))\n",
    "    largest = 0\n",
    "    for signs in perm:\n",
    "        # print(signs)\n",
    "        expr = expression\n",
    "        for s in signs:\n",
    "            p = re.compile(rf\"[0-9]+[{s}][0-9]+\")\n",
    "            while True:\n",
    "                try:\n",
    "                    calc = re.search(p, expr).group()\n",
    "                    expr = re.sub(p, str(eval(calc)), expr, count=1)\n",
    "                    print(s, expr)\n",
    "                except:\n",
    "                    break\n",
    "        # value = abs(int(expr))\n",
    "        # if value > largest:\n",
    "        #     largest = value\n",
    "    return largest"
   ]
  },
  {
   "cell_type": "code",
   "execution_count": null,
   "metadata": {},
   "outputs": [],
   "source": [
    "import re\n",
    "from itertools import permutations\n",
    "\n",
    "def solution(expression):\n",
    "    expr = expression\n",
    "    perm = list(permutations([\"*\", \"+\", \"-\"]))\n",
    "    largest = 0\n",
    "    for signs in perm:\n",
    "        # print(signs)\n",
    "        expr = expression\n",
    "        for s in signs:\n",
    "            if s == \"-\":\n",
    "                p = re.compile(rf\"[-]*[0-9]+[{s}][0-9]+\")\n",
    "            elif s == \"*\":\n",
    "                p = re.compile(rf\"[-]*[0-9]+[{s}][-]*[0-9]+\")\n",
    "            else:\n",
    "                p = re.compile(rf\"[0-9]+[{s}][0-9]+\")\n",
    "            while True:\n",
    "                try:\n",
    "                    # expr = expr.replace(\"+-\", \"-\")\n",
    "                    expr = re.sub(r\"[+][-][0-9]+[*]*[-][0-9]+\", )\n",
    "                    calc = re.search(p, expr).group()\n",
    "                    expr = re.sub(p, str(eval(calc)), expr, count=1)\n",
    "                    print(s, expr)\n",
    "                except:\n",
    "                    break\n",
    "        value = abs(int(expr))\n",
    "        if value > largest:\n",
    "            largest = value\n",
    "    return largest"
   ]
  }
 ],
 "metadata": {
  "kernelspec": {
   "display_name": "Python 3",
   "language": "python",
   "name": "python3"
  },
  "language_info": {
   "codemirror_mode": {
    "name": "ipython",
    "version": 3
   },
   "file_extension": ".py",
   "mimetype": "text/x-python",
   "name": "python",
   "nbconvert_exporter": "python",
   "pygments_lexer": "ipython3",
   "version": "3.8.5"
  }
 },
 "nbformat": 4,
 "nbformat_minor": 4
}
