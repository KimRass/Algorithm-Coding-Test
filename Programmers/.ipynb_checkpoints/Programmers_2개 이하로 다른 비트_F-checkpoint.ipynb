{
 "cells": [
  {
   "cell_type": "markdown",
   "metadata": {},
   "source": [
    "- Source: https://programmers.co.kr/learn/courses/30/lessons/77885#"
   ]
  },
  {
   "cell_type": "code",
   "execution_count": 5,
   "metadata": {},
   "outputs": [
    {
     "name": "stdout",
     "output_type": "stream",
     "text": [
      "0b111\n",
      "0b1011\n"
     ]
    }
   ],
   "source": [
    "a = 7\n",
    "b = 11\n",
    "print(bin(a))\n",
    "print(bin(b))"
   ]
  },
  {
   "cell_type": "code",
   "execution_count": 14,
   "metadata": {},
   "outputs": [
    {
     "data": {
      "text/plain": [
       "2"
      ]
     },
     "execution_count": 14,
     "metadata": {},
     "output_type": "execute_result"
    }
   ],
   "source": [
    "sum(list(map(int, bin(a ^ b)[2:])))"
   ]
  },
  {
   "cell_type": "code",
   "execution_count": null,
   "metadata": {},
   "outputs": [],
   "source": [
    "import math\n",
    "\n",
    "def solution(numbers):\n",
    "    ans = list()\n",
    "    for ori in numbers:\n",
    "        if ori%2 != 1:\n",
    "            ans.append(ori + 1)\n",
    "        # elif (ori + 1)%4 == 0:\n",
    "        #     ans.append(ori + (ori + 1)//2)       \n",
    "        else:\n",
    "            comp = ori\n",
    "            while True:\n",
    "                comp += 1\n",
    "                diff = sum(list(map(int, bin(ori ^ comp)[2:])))\n",
    "                if diff == 1 or diff == 2:\n",
    "                    ans.append(comp)\n",
    "                    break\n",
    "    print(ans)\n",
    "    return ans"
   ]
  },
  {
   "cell_type": "code",
   "execution_count": null,
   "metadata": {},
   "outputs": [],
   "source": [
    "def solution(numbers):\n",
    "    ans = list()\n",
    "    for ori in numbers:\n",
    "        comp = ori\n",
    "        ori_bin = bin(ori)[2:]\n",
    "        while True:\n",
    "        # for _ in range(10):\n",
    "            len_ori = len(ori_bin)\n",
    "            comp += 1\n",
    "            comp_bin = bin(comp)[2:]\n",
    "            len_comp = len(comp_bin)\n",
    "            if len_ori >= len_comp:\n",
    "                comp_bin = \"x\"*(len_ori - len_comp) + comp_bin\n",
    "            else:\n",
    "                ori_bin = \"x\"*(len_comp - len_ori) + ori_bin\n",
    "            diff = sum([1 for i, j in zip(ori_bin, comp_bin) if i != j])\n",
    "            if diff == 1 or diff == 2:\n",
    "                ans.append(comp)\n",
    "                # print(ori, comp - ori)\n",
    "                break\n",
    "    # print(ans)\n",
    "    return ans"
   ]
  }
 ],
 "metadata": {
  "kernelspec": {
   "display_name": "Python 3",
   "language": "python",
   "name": "python3"
  },
  "language_info": {
   "codemirror_mode": {
    "name": "ipython",
    "version": 3
   },
   "file_extension": ".py",
   "mimetype": "text/x-python",
   "name": "python",
   "nbconvert_exporter": "python",
   "pygments_lexer": "ipython3",
   "version": "3.8.5"
  }
 },
 "nbformat": 4,
 "nbformat_minor": 4
}
