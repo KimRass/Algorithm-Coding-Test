{
 "cells": [
  {
   "cell_type": "code",
   "execution_count": null,
   "metadata": {},
   "outputs": [],
   "source": [
    "def solution(s):\n",
    "    tar = \"110\"\n",
    "    ans = list()\n",
    "    for str_ in s:\n",
    "        i = str_.index(tar)\n",
    "        while True:\n",
    "        # for _ in range(3):\n",
    "            len_ = len(str_)\n",
    "            pop = str_[:i] if i + 3 == len_ else (str_[i + 3:] if i == 0 else str_[:i] + str_[i + 3:])\n",
    "\n",
    "            if \"111\" in pop:\n",
    "                j = pop.index(\"111\")\n",
    "                str_aft = f\"{pop[:j]}{tar}{pop[j:]}\"\n",
    "                if tar in pop:\n",
    "                    i = pop.index(tar) + 3\n",
    "                else:\n",
    "                    i = str_.index(tar)\n",
    "                # if j < i - 3:\n",
    "                # else:\n",
    "            elif len(pop) == 2 or pop == \"0\":\n",
    "                str_aft = f\"{pop}{tar}\"\n",
    "                i = str_.index(tar)\n",
    "            elif pop == \"1\":\n",
    "                str_aft = f\"{tar}{pop}\"\n",
    "                i = str_.index(tar)\n",
    "            else:\n",
    "                str_aft = f\"{pop}{tar}\"\n",
    "                i = str_.index(tar)\n",
    "                \n",
    "            if str_aft == str_:\n",
    "                break\n",
    "            else:\n",
    "                str_ = str_aft\n",
    "            # print(str_)\n",
    "        ans.append(str_)\n",
    "    return ans"
   ]
  }
 ],
 "metadata": {
  "kernelspec": {
   "display_name": "Python 3",
   "language": "python",
   "name": "python3"
  },
  "language_info": {
   "codemirror_mode": {
    "name": "ipython",
    "version": 3
   },
   "file_extension": ".py",
   "mimetype": "text/x-python",
   "name": "python",
   "nbconvert_exporter": "python",
   "pygments_lexer": "ipython3",
   "version": "3.8.5"
  }
 },
 "nbformat": 4,
 "nbformat_minor": 4
}
