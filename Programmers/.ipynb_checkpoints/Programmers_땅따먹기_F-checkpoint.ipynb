{
 "cells": [
  {
   "cell_type": "code",
   "execution_count": null,
   "metadata": {},
   "outputs": [],
   "source": [
    "def solution(land):\n",
    "    # for step in land:\n",
    "    #     first = max(step)\n",
    "    #     first_idx = step.index()\n",
    "    land_sort = [sorted(i, reverse=True) for i in land]\n",
    "    # print(land)\n",
    "    # for round in land:\n",
    "    #     stack\n",
    "    # summation = sorted(sum(land, []), reverse=True)\n",
    "    # print(summation)\n",
    "    # a = [i - j for i, j in zip(summation, summation[1:])]\n",
    "    print(land_sort)\n",
    "    # land_sum = sum(land, [])\n",
    "    diff = [[i - j for i, j in zip(stage, stage[1:])] for stage in land_sort]\n",
    "    print(diff)\n",
    "    max_diffs = sorted([max(i) for i in diff], reverse=True)\n",
    "    print(max_diffs)\n",
    "    diff_sum = sum(diff, [])\n",
    "    print(diff_sum)\n",
    "    for max_diff in max_diffs:\n",
    "        i = diff_sum.index(max_diff)//3\n",
    "        value = land_sort[i][0]\n",
    "        j = land[i].index(value)\n",
    "        if i - 1\n",
    "        dic.update({(i, j):value})\n",
    "    return None"
   ]
  }
 ],
 "metadata": {
  "kernelspec": {
   "display_name": "Python 3",
   "language": "python",
   "name": "python3"
  },
  "language_info": {
   "codemirror_mode": {
    "name": "ipython",
    "version": 3
   },
   "file_extension": ".py",
   "mimetype": "text/x-python",
   "name": "python",
   "nbconvert_exporter": "python",
   "pygments_lexer": "ipython3",
   "version": "3.8.5"
  }
 },
 "nbformat": 4,
 "nbformat_minor": 4
}
