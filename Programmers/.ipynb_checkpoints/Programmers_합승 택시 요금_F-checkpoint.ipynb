{
 "cells": [
  {
   "cell_type": "code",
   "execution_count": null,
   "metadata": {},
   "outputs": [],
   "source": [
    "def solution(n, s, a, b, fares):\n",
    "    fares = {(a, b):c for a, b, c in fares}\n",
    "    graph = [[a if b == i else b for a, b in fares.keys() if a == i or b == i] for i in range(1, n + 1)]\n",
    "    graph = [[]] + graph\n",
    "    print(fares, end=\"\\n\\n\")\n",
    "    print(graph)\n",
    "    \n",
    "    start = s\n",
    "    end = a\n",
    "    # while True:\n",
    "    #     cands = [[b (for (a, b):c in fares) if]\n",
    "    return None"
   ]
  }
 ],
 "metadata": {
  "kernelspec": {
   "display_name": "Python 3",
   "language": "python",
   "name": "python3"
  },
  "language_info": {
   "codemirror_mode": {
    "name": "ipython",
    "version": 3
   },
   "file_extension": ".py",
   "mimetype": "text/x-python",
   "name": "python",
   "nbconvert_exporter": "python",
   "pygments_lexer": "ipython3",
   "version": "3.8.5"
  }
 },
 "nbformat": 4,
 "nbformat_minor": 4
}
