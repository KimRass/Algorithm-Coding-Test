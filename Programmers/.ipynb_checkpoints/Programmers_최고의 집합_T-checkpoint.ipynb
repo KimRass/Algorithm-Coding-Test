{
 "cells": [
  {
   "cell_type": "code",
   "execution_count": 5,
   "metadata": {},
   "outputs": [],
   "source": [
    "def solution(n, s):\n",
    "    avg = s//n\n",
    "    tar = avg*n\n",
    "    ans = [tar//n for _ in range(n)]\n",
    "        \n",
    "    if s != tar:\n",
    "        diff = s - tar\n",
    "        for i in range(diff):\n",
    "            ans[i] += 1\n",
    "            \n",
    "    if 0 in ans:\n",
    "        return [-1]\n",
    "    else:\n",
    "        return sorted(ans)"
   ]
  },
  {
   "cell_type": "code",
   "execution_count": 6,
   "metadata": {},
   "outputs": [
    {
     "data": {
      "text/plain": [
       "[4, 4, 4, 5]"
      ]
     },
     "execution_count": 6,
     "metadata": {},
     "output_type": "execute_result"
    }
   ],
   "source": [
    "n = 4\n",
    "s = 17\n",
    "\n",
    "solution(n, s)"
   ]
  }
 ],
 "metadata": {
  "kernelspec": {
   "display_name": "Python 3",
   "language": "python",
   "name": "python3"
  },
  "language_info": {
   "codemirror_mode": {
    "name": "ipython",
    "version": 3
   },
   "file_extension": ".py",
   "mimetype": "text/x-python",
   "name": "python",
   "nbconvert_exporter": "python",
   "pygments_lexer": "ipython3",
   "version": "3.8.5"
  }
 },
 "nbformat": 4,
 "nbformat_minor": 4
}
