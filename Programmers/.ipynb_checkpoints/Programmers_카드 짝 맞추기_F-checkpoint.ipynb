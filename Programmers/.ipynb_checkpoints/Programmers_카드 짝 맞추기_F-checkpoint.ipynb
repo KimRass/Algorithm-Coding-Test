{
 "cells": [
  {
   "cell_type": "code",
   "execution_count": null,
   "metadata": {},
   "outputs": [],
   "source": [
    "def solution(board, r, c):\n",
    "    cur_row = r\n",
    "    cur_col = c\n",
    "    cnt = 0\n",
    "    stack = list()\n",
    "    while True:\n",
    "        if sum(sum(board, [])) == 0:\n",
    "            break\n",
    "        \n",
    "        if board[cur_row][cur_col] != 0:\n",
    "            tar = board[cur_row][cur_col]\n",
    "            board[cur_row][cur_col] = 0\n",
    "            cnt += 1\n",
    "            if stack:\n",
    "                stack.pop()\n",
    "            else:\n",
    "                stack.append(tar)\n",
    "            print(\"ENTER\", tar, (cur_row, cur_col), stack)\n",
    "        else:\n",
    "            if stack:\n",
    "                tar = stack[0]\n",
    "                board_sum = sum(board, [])\n",
    "                idx = board_sum.index(tar)\n",
    "                tar_row = idx//4\n",
    "                tar_col = idx%4\n",
    "                cnt += int(tar_row != cur_row) + int(tar_col != cur_col)\n",
    "                cur_row = tar_row\n",
    "                cur_col = tar_col\n",
    "                print(\"CHASE\", tar, (cur_row, cur_col), stack)\n",
    "            elif sum(board[cur_row]) != 0:\n",
    "                for i, tar in enumerate(board[cur_row]):\n",
    "                    if tar != 0:\n",
    "                        cur_col = i\n",
    "                        cnt += 1\n",
    "                        print(\"HORIZONTAL MOVE\")\n",
    "                        break\n",
    "            elif sum([i[cur_col] for i in board]) != 0:\n",
    "                for i, tar in enumerate([i[cur_col] for i in board]):\n",
    "                    if tar != 0:\n",
    "                        cur_row = i\n",
    "                        cnt += 1\n",
    "                        print(\"VERTICAL MOVE\")\n",
    "                        break\n",
    "            else:\n",
    "                board_sum = sum(board, [])\n",
    "                tar = [i for i in board_sum if i != 0][0]\n",
    "                idx = board_sum.index(tar)\n",
    "                tar_row = idx//4\n",
    "                tar_col = idx%4\n",
    "                cnt += int(tar_row != cur_row) + int(tar_col != cur_col)\n",
    "                cur_row = tar_row\n",
    "                cur_col = tar_col\n",
    "                print(\"DOUBLE MOVE\")\n",
    "    return cnt"
   ]
  }
 ],
 "metadata": {
  "kernelspec": {
   "display_name": "Python 3",
   "language": "python",
   "name": "python3"
  },
  "language_info": {
   "codemirror_mode": {
    "name": "ipython",
    "version": 3
   },
   "file_extension": ".py",
   "mimetype": "text/x-python",
   "name": "python",
   "nbconvert_exporter": "python",
   "pygments_lexer": "ipython3",
   "version": "3.8.5"
  }
 },
 "nbformat": 4,
 "nbformat_minor": 4
}
