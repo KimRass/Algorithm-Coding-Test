{
 "cells": [
  {
   "cell_type": "code",
   "execution_count": null,
   "metadata": {},
   "outputs": [],
   "source": [
    "from collections import Counter\n",
    "\n",
    "def solution(routes):\n",
    "    n_cars = len(routes)\n",
    "    cnt = 0\n",
    "    lap = 0\n",
    "    while cnt < n_cars:\n",
    "        # print(routes)\n",
    "        temp = Counter([i for a, b in routes for i in range(a, b + 1)])\n",
    "        most = temp.most_common(1)\n",
    "        most0 = most[0][0]\n",
    "        most1 = most[0][1]\n",
    "        cnt += most1\n",
    "        lap += 1\n",
    "        routes = [i for i in routes if not (i[0] <= most0 and most0 <= i[1])]\n",
    "    return lap\n",
    "    return None"
   ]
  }
 ],
 "metadata": {
  "kernelspec": {
   "display_name": "Python 3",
   "language": "python",
   "name": "python3"
  },
  "language_info": {
   "codemirror_mode": {
    "name": "ipython",
    "version": 3
   },
   "file_extension": ".py",
   "mimetype": "text/x-python",
   "name": "python",
   "nbconvert_exporter": "python",
   "pygments_lexer": "ipython3",
   "version": "3.8.5"
  }
 },
 "nbformat": 4,
 "nbformat_minor": 4
}
