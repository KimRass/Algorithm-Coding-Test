{
 "cells": [
  {
   "cell_type": "code",
   "execution_count": null,
   "metadata": {},
   "outputs": [],
   "source": [
    "def solution(A, B):\n",
    "    A = sorted(A)\n",
    "    B = sorted(B)\n",
    "    \n",
    "    win = 0\n",
    "    k = 0\n",
    "    while True:\n",
    "        k += 1\n",
    "        while True:\n",
    "            temp = A.copy()\n",
    "            for a in A:\n",
    "                # print(A, a)\n",
    "                try:\n",
    "                    B.remove(a + k)\n",
    "                    temp.remove(a)\n",
    "                    win += 1\n",
    "                except:\n",
    "                    pass\n",
    "            if A == temp:\n",
    "                break\n",
    "            else:\n",
    "                A = temp\n",
    "        if len([b - a for a, b in zip(A, B) if b - a > 0]) == 0:\n",
    "            return win\n",
    "            \n",
    "    print(A)\n",
    "    print(B)\n",
    "    print(win)\n",
    "    # return None"
   ]
  }
 ],
 "metadata": {
  "kernelspec": {
   "display_name": "Python 3",
   "language": "python",
   "name": "python3"
  },
  "language_info": {
   "codemirror_mode": {
    "name": "ipython",
    "version": 3
   },
   "file_extension": ".py",
   "mimetype": "text/x-python",
   "name": "python",
   "nbconvert_exporter": "python",
   "pygments_lexer": "ipython3",
   "version": "3.8.5"
  }
 },
 "nbformat": 4,
 "nbformat_minor": 4
}
