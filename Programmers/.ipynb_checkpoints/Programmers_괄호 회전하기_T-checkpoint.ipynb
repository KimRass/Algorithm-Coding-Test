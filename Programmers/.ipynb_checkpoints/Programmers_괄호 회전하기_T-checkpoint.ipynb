{
 "cells": [
  {
   "cell_type": "code",
   "execution_count": 2,
   "metadata": {},
   "outputs": [],
   "source": [
    "def solution(s):\n",
    "    def is_correct(s):\n",
    "        stack = [0]*len(s)\n",
    "        for char in s:\n",
    "            if char == \"[\":\n",
    "                stack.append(\"A\")\n",
    "            elif char == \"]\":\n",
    "                if not stack.pop() == \"A\":\n",
    "                    return False                    \n",
    "            elif char == \"{\":\n",
    "                stack.append(\"B\")\n",
    "            elif char == \"}\":\n",
    "                if not stack.pop() == \"B\":\n",
    "                    return False \n",
    "            elif char == \"(\":\n",
    "                stack.append(\"C\")\n",
    "            else:\n",
    "                if not stack.pop() == \"C\":\n",
    "                    return False \n",
    "        if len(stack) == len(s):\n",
    "            return True\n",
    "        else:\n",
    "            return False\n",
    "    \n",
    "    cnt = 0\n",
    "    for x in range(len(s)):\n",
    "        s_trans = s[x:] + s[:x]\n",
    "        if is_correct(s_trans):\n",
    "            cnt += 1\n",
    "    return cnt"
   ]
  },
  {
   "cell_type": "code",
   "execution_count": 3,
   "metadata": {},
   "outputs": [
    {
     "data": {
      "text/plain": [
       "3"
      ]
     },
     "execution_count": 3,
     "metadata": {},
     "output_type": "execute_result"
    }
   ],
   "source": [
    "s = \"[](){}\"\n",
    "\n",
    "solution(s)"
   ]
  }
 ],
 "metadata": {
  "kernelspec": {
   "display_name": "Python 3",
   "language": "python",
   "name": "python3"
  },
  "language_info": {
   "codemirror_mode": {
    "name": "ipython",
    "version": 3
   },
   "file_extension": ".py",
   "mimetype": "text/x-python",
   "name": "python",
   "nbconvert_exporter": "python",
   "pygments_lexer": "ipython3",
   "version": "3.7.7"
  }
 },
 "nbformat": 4,
 "nbformat_minor": 4
}
