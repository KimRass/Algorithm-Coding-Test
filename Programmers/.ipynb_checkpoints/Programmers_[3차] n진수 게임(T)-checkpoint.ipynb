{
 "cells": [
  {
   "cell_type": "markdown",
   "metadata": {},
   "source": [
    "- Source: https://programmers.co.kr/learn/courses/30/lessons/17687"
   ]
  },
  {
   "cell_type": "code",
   "execution_count": 1,
   "metadata": {},
   "outputs": [],
   "source": [
    "def solution(n, t, m, p):\n",
    "    tar_len = m*(t - 1) + p\n",
    "    num_list = [str(i) for i in range(10)] + [\"A\", \"B\", \"C\", \"D\", \"E\", \"F\"]\n",
    "    num = 0\n",
    "    temp = num\n",
    "    string = \"\"\n",
    "    ans = \"\"\n",
    "    while len(ans) < tar_len:\n",
    "        string += num_list[temp%n]\n",
    "        temp //= n\n",
    "        if temp < n:\n",
    "            if temp != 0:\n",
    "                string += num_list[temp]\n",
    "            string = \"\".join(reversed(string))\n",
    "            ans += string\n",
    "            string = \"\"\n",
    "            num += 1\n",
    "            temp = num\n",
    "    return ans[p - 1::m][:t]"
   ]
  },
  {
   "cell_type": "code",
   "execution_count": 3,
   "metadata": {},
   "outputs": [
    {
     "data": {
      "text/plain": [
       "'13579BDF01234567'"
      ]
     },
     "execution_count": 3,
     "metadata": {},
     "output_type": "execute_result"
    }
   ],
   "source": [
    "n = 16\n",
    "t = 16\n",
    "m = 2\n",
    "p = 2\n",
    "\n",
    "solution(n, t, m, p)"
   ]
  },
  {
   "cell_type": "code",
   "execution_count": 4,
   "metadata": {},
   "outputs": [
    {
     "data": {
      "text/plain": [
       "'280369C258B147A0369C258B1'"
      ]
     },
     "execution_count": 4,
     "metadata": {},
     "output_type": "execute_result"
    }
   ],
   "source": [
    "n = 13\n",
    "t = 25\n",
    "m = 6\n",
    "p = 3\n",
    "\n",
    "solution(n, t, m, p)"
   ]
  }
 ],
 "metadata": {
  "kernelspec": {
   "display_name": "Python 3",
   "language": "python",
   "name": "python3"
  },
  "language_info": {
   "codemirror_mode": {
    "name": "ipython",
    "version": 3
   },
   "file_extension": ".py",
   "mimetype": "text/x-python",
   "name": "python",
   "nbconvert_exporter": "python",
   "pygments_lexer": "ipython3",
   "version": "3.8.5"
  }
 },
 "nbformat": 4,
 "nbformat_minor": 4
}
