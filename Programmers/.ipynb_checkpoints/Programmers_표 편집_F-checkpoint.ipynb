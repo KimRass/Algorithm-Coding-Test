{
 "cells": [
  {
   "cell_type": "code",
   "execution_count": null,
   "metadata": {},
   "outputs": [],
   "source": [
    "def solution(n, k, cmd):\n",
    "    ori_n = n\n",
    "    cur = k\n",
    "    commands = [i.split() for i in cmd]\n",
    "    \n",
    "    delete = list()\n",
    "    exist = [i for i in range(n)]\n",
    "    for cmd in commands:\n",
    "        if cmd[0] == \"D\":\n",
    "            cur = exist[exist.index(cur) + int(cmd[1])]\n",
    "        elif cmd[0] == \"U\":\n",
    "            cur = exist[exist.index(cur) - int(cmd[1])]\n",
    "        elif cmd[0] == \"C\":\n",
    "            cur_to_delete = cur\n",
    "            if cur != exist[-1]:\n",
    "                cur = exist[exist.index(cur) + 1]\n",
    "            else:\n",
    "                cur = exist[exist.index(cur) - 1]\n",
    "            delete.append(cur_to_delete)\n",
    "            exist.remove(cur_to_delete)\n",
    "            n -= 1\n",
    "        else:\n",
    "            exist.append(delete.pop())\n",
    "            # exist = sorted(exist)\n",
    "            exist.sort()\n",
    "            n += 1\n",
    "        # print(cmd, cur, exist)\n",
    "    return \"\".join([\"O\" if i in exist else \"X\" for i in range(ori_n)])"
   ]
  }
 ],
 "metadata": {
  "kernelspec": {
   "display_name": "Python 3",
   "language": "python",
   "name": "python3"
  },
  "language_info": {
   "codemirror_mode": {
    "name": "ipython",
    "version": 3
   },
   "file_extension": ".py",
   "mimetype": "text/x-python",
   "name": "python",
   "nbconvert_exporter": "python",
   "pygments_lexer": "ipython3",
   "version": "3.8.5"
  }
 },
 "nbformat": 4,
 "nbformat_minor": 4
}
