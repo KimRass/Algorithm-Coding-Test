{
 "cells": [
  {
   "cell_type": "code",
   "execution_count": 1,
   "metadata": {},
   "outputs": [],
   "source": [
    "import re\n",
    "\n",
    "def solution(files):\n",
    "    file2head_tail = {file:(re.match(r\"[a-zA-Z-. ]+\", file).group(0).lower(), int(re.search(r\"[0-9]+\", file).group(0))) for file in files}\n",
    "    sort = sorted(file2head_tail.items(), key=lambda x:x[1][1])\n",
    "    sort = sorted(sort, key=lambda x:x[1][0])\n",
    "    ans = [i[0] for i in sort]\n",
    "    return ans"
   ]
  },
  {
   "cell_type": "code",
   "execution_count": 2,
   "metadata": {},
   "outputs": [
    {
     "data": {
      "text/plain": [
       "['A-10 Thunderbolt II',\n",
       " 'B-50 Superfortress',\n",
       " 'F-5 Freedom Fighter',\n",
       " 'F-14 Tomcat']"
      ]
     },
     "execution_count": 2,
     "metadata": {},
     "output_type": "execute_result"
    }
   ],
   "source": [
    "files = [\"F-5 Freedom Fighter\", \"B-50 Superfortress\", \"A-10 Thunderbolt II\", \"F-14 Tomcat\"]\n",
    "\n",
    "solution(files)"
   ]
  }
 ],
 "metadata": {
  "kernelspec": {
   "display_name": "Python 3",
   "language": "python",
   "name": "python3"
  },
  "language_info": {
   "codemirror_mode": {
    "name": "ipython",
    "version": 3
   },
   "file_extension": ".py",
   "mimetype": "text/x-python",
   "name": "python",
   "nbconvert_exporter": "python",
   "pygments_lexer": "ipython3",
   "version": "3.8.5"
  }
 },
 "nbformat": 4,
 "nbformat_minor": 4
}
