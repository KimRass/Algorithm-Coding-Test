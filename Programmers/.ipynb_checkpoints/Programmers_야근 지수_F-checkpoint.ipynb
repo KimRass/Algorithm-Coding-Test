{
 "cells": [
  {
   "cell_type": "code",
   "execution_count": null,
   "metadata": {},
   "outputs": [],
   "source": [
    "def solution(n, works):\n",
    "    if n >= sum(works):\n",
    "        return 0\n",
    "    works = sorted(works)\n",
    "    right = max(works)\n",
    "    left = 0\n",
    "    while True:\n",
    "        mid = (right + left)//2\n",
    "        summ = sum([i - mid for i in works if i > mid])\n",
    "        # print(left, mid, right, summ)\n",
    "        if left == mid:\n",
    "            break\n",
    "        if summ >= n:\n",
    "            left = mid\n",
    "        else:\n",
    "            right = mid - 1\n",
    "    works = [min(i, mid) for i in works]\n",
    "    # print(works, summ)\n",
    "    if summ == n:\n",
    "        pass\n",
    "    elif summ > n:\n",
    "        number = summ - n\n",
    "        works = [works[-1] + 1]*number + works[:-number]\n",
    "    elif summ < n:\n",
    "        number = n - summ\n",
    "        works = [works[-1] - 1]*number + works[:-number]\n",
    "    # elif works[-1] == 0:\n",
    "    #     return 0\n",
    "    return sum([i**2 for i in works])"
   ]
  }
 ],
 "metadata": {
  "kernelspec": {
   "display_name": "Python 3",
   "language": "python",
   "name": "python3"
  },
  "language_info": {
   "codemirror_mode": {
    "name": "ipython",
    "version": 3
   },
   "file_extension": ".py",
   "mimetype": "text/x-python",
   "name": "python",
   "nbconvert_exporter": "python",
   "pygments_lexer": "ipython3",
   "version": "3.8.5"
  }
 },
 "nbformat": 4,
 "nbformat_minor": 4
}
