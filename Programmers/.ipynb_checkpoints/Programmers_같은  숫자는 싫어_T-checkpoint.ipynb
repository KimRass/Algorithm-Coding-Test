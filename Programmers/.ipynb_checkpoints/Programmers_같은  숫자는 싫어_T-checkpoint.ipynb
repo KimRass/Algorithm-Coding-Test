{
 "cells": [
  {
   "cell_type": "code",
   "execution_count": 1,
   "metadata": {},
   "outputs": [],
   "source": [
    "def solution(arr):\n",
    "    stack = [\"FAKE\"]\n",
    "    ans = list()\n",
    "    for num in arr:\n",
    "        if num != stack[-1]:\n",
    "            ans.append(num)\n",
    "            stack.append(num)\n",
    "        else:\n",
    "            continue\n",
    "    return ans"
   ]
  },
  {
   "cell_type": "code",
   "execution_count": 3,
   "metadata": {},
   "outputs": [
    {
     "data": {
      "text/plain": [
       "[1, 3, 0, 1]"
      ]
     },
     "execution_count": 3,
     "metadata": {},
     "output_type": "execute_result"
    }
   ],
   "source": [
    "arr = [1, 1, 3, 3, 0, 1, 1]\n",
    "\n",
    "solution(arr)"
   ]
  }
 ],
 "metadata": {
  "kernelspec": {
   "display_name": "Python 3",
   "language": "python",
   "name": "python3"
  },
  "language_info": {
   "codemirror_mode": {
    "name": "ipython",
    "version": 3
   },
   "file_extension": ".py",
   "mimetype": "text/x-python",
   "name": "python",
   "nbconvert_exporter": "python",
   "pygments_lexer": "ipython3",
   "version": "3.8.5"
  }
 },
 "nbformat": 4,
 "nbformat_minor": 4
}
