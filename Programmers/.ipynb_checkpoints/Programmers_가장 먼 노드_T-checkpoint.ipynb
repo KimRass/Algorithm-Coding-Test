{
 "cells": [
  {
   "cell_type": "code",
   "execution_count": 1,
   "metadata": {},
   "outputs": [],
   "source": [
    "import heapq as hq\n",
    "\n",
    "def solution(n, edge):\n",
    "    graph = {i:list() for i in range(1, n + 1)}\n",
    "    for line in edge:\n",
    "        graph[line[0]].append(line[1])\n",
    "        graph[line[1]].append(line[0])\n",
    "\n",
    "    start = 1\n",
    "    inf = 1e9\n",
    "    dists = [inf for _ in range(n + 1)]\n",
    "    dists[0] = 0\n",
    "    dists[start] = 0\n",
    "    hp = list()\n",
    "    hq.heappush(hp, (dists[start], start))\n",
    "    li = list()\n",
    "    while hp:\n",
    "        dist, start = hq.heappop(hp)\n",
    "        li.append(dist)\n",
    "        for end in graph[start]:\n",
    "            new_dist = dist + 1\n",
    "            if new_dist < dists[end]:\n",
    "                dists[end] = new_dist\n",
    "                hq.heappush(hp, (dists[end], end))\n",
    "    max_dist = max(dists)\n",
    "    return dists.count(max_dist)"
   ]
  },
  {
   "cell_type": "code",
   "execution_count": 9,
   "metadata": {},
   "outputs": [
    {
     "data": {
      "text/plain": [
       "3"
      ]
     },
     "execution_count": 9,
     "metadata": {},
     "output_type": "execute_result"
    }
   ],
   "source": [
    "n = 6\n",
    "edge = [[3, 6], [4, 3], [3, 2], [1, 3], [1, 2], [2, 4], [5, 2]]\n",
    "\n",
    "solution(n, edge)"
   ]
  }
 ],
 "metadata": {
  "kernelspec": {
   "display_name": "Python 3",
   "language": "python",
   "name": "python3"
  },
  "language_info": {
   "codemirror_mode": {
    "name": "ipython",
    "version": 3
   },
   "file_extension": ".py",
   "mimetype": "text/x-python",
   "name": "python",
   "nbconvert_exporter": "python",
   "pygments_lexer": "ipython3",
   "version": "3.8.5"
  }
 },
 "nbformat": 4,
 "nbformat_minor": 4
}
