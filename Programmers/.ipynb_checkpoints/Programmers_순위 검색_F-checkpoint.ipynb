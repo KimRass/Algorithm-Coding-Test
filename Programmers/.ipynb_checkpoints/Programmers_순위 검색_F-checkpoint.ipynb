{
 "cells": [
  {
   "cell_type": "markdown",
   "metadata": {},
   "source": [
    "https://programmers.co.kr/learn/courses/30/lessons/72412"
   ]
  },
  {
   "cell_type": "code",
   "execution_count": null,
   "metadata": {},
   "outputs": [],
   "source": [
    "import re\n",
    "\n",
    "def solution(info, query):\n",
    "    infos = \"/\".join(info)\n",
    "    # print(infos)\n",
    "    queries = query\n",
    "    p1 = re.compile(r\"([a-z -]+)( )(\\d+)\")\n",
    "    # p2 = re.compile(r\"[a-z -]+ \\d+\")\n",
    "    ans = list()\n",
    "    for query in queries:\n",
    "        query = query.replace(\" and\", \"\")\n",
    "        lang1 = re.search(p1, query).group(1).replace(\"-\", \"[a-z]+\")\n",
    "        score1 = int(re.search(p1, query).group(3))\n",
    "        candis = \"/\".join(re.findall(rf\"{lang1} \\d+\", infos))\n",
    "        scores = re.findall(r\"\\d+\", candis)\n",
    "        ans.append(len([i for i in scores if int(i) >= score1]))\n",
    "    return ans"
   ]
  },
  {
   "cell_type": "code",
   "execution_count": null,
   "metadata": {},
   "outputs": [],
   "source": [
    "import re\n",
    "\n",
    "def solution(info, query):\n",
    "    infos = info\n",
    "    queries = query\n",
    "    p = re.compile(r\"([a-z -]+)( )(\\d+)\") \n",
    "    ans = list()\n",
    "    for query in queries:\n",
    "        query = query.replace(\" and\", \"\")\n",
    "        lang1 = re.search(p, query).group(1).replace(\"-\", \"[a-z]+\")\n",
    "        score1 = int(re.search(p, query).group(3))\n",
    "        sub_ans = 0\n",
    "        for info in infos:\n",
    "            lang2 = re.search(p, info).group(1)\n",
    "            score2 = int(re.search(p, info).group(3))\n",
    "            if re.search(rf\"{lang1}\", lang2) != None and score2 >= score1:\n",
    "                sub_ans += 1\n",
    "        ans.append(sub_ans)\n",
    "    return ans"
   ]
  }
 ],
 "metadata": {
  "kernelspec": {
   "display_name": "Python 3",
   "language": "python",
   "name": "python3"
  },
  "language_info": {
   "codemirror_mode": {
    "name": "ipython",
    "version": 3
   },
   "file_extension": ".py",
   "mimetype": "text/x-python",
   "name": "python",
   "nbconvert_exporter": "python",
   "pygments_lexer": "ipython3",
   "version": "3.7.7"
  }
 },
 "nbformat": 4,
 "nbformat_minor": 4
}
