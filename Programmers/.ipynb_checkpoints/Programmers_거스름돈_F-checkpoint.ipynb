{
 "cells": [
  {
   "cell_type": "code",
   "execution_count": null,
   "metadata": {},
   "outputs": [],
   "source": [
    "def solution(n, money):\n",
    "    money = sorted(money, reverse=True)\n",
    "    if n == 0 and not money:\n",
    "        return 1\n",
    "    elif money and n < money[-1]:\n",
    "        return 0\n",
    "    else:\n",
    "        highest = money[0]\n",
    "        maxim = n//highest\n",
    "        ans = 0\n",
    "        for i in range(maxim + 1):\n",
    "            ans += solution(n - highest*i, money[1:])\n",
    "        return ans"
   ]
  },
  {
   "cell_type": "code",
   "execution_count": null,
   "metadata": {},
   "outputs": [],
   "source": [
    "def solution(n, money):\n",
    "    money = sorted(money, reverse=True)\n",
    "    cnt = 0\n",
    "    # for mon in money:\n",
    "    i = 0\n",
    "    k = 0\n",
    "    # while True:\n",
    "    for _ in range(10):\n",
    "        mon = money[i]\n",
    "        print(n, mon)\n",
    "        if n >= mon:\n",
    "            rem = n//mon - k\n",
    "            n -= n*rem\n",
    "        else:\n",
    "            i += 1\n",
    "        if n == 0:\n",
    "            i -= 1\n",
    "            cnt += 1\n",
    "            n += n*rem\n",
    "            k += 1\n",
    "    return cnt"
   ]
  }
 ],
 "metadata": {
  "kernelspec": {
   "display_name": "Python 3",
   "language": "python",
   "name": "python3"
  },
  "language_info": {
   "codemirror_mode": {
    "name": "ipython",
    "version": 3
   },
   "file_extension": ".py",
   "mimetype": "text/x-python",
   "name": "python",
   "nbconvert_exporter": "python",
   "pygments_lexer": "ipython3",
   "version": "3.8.5"
  }
 },
 "nbformat": 4,
 "nbformat_minor": 4
}
