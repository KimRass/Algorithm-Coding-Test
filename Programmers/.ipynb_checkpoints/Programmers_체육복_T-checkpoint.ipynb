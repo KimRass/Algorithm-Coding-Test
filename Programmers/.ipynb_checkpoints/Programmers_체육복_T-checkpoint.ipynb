{
 "cells": [
  {
   "cell_type": "markdown",
   "metadata": {},
   "source": [
    "- Source: https://programmers.co.kr/learn/courses/30/lessons/42862"
   ]
  },
  {
   "cell_type": "code",
   "execution_count": 2,
   "metadata": {},
   "outputs": [],
   "source": [
    "def solution(n, lost, reserve):\n",
    "    lost = set(lost)\n",
    "    reserve = set(reserve)\n",
    "    lost2 = lost - reserve\n",
    "    reserve2 = reserve - lost\n",
    "    \n",
    "    have = [True for i in range(n + 1)]\n",
    "    for i in lost2:\n",
    "        have[i] = False\n",
    "    for i in reserve2:\n",
    "        if i >= 2 and have[i - 1] == False:\n",
    "            have[i - 1] = True\n",
    "        elif i <= n - 1 and have[i + 1] == False:\n",
    "            have[i + 1] = True\n",
    "    return sum(have[1:])"
   ]
  },
  {
   "cell_type": "code",
   "execution_count": 3,
   "metadata": {},
   "outputs": [
    {
     "data": {
      "text/plain": [
       "5"
      ]
     },
     "execution_count": 3,
     "metadata": {},
     "output_type": "execute_result"
    }
   ],
   "source": [
    "n = 6\n",
    "lost = [1, 2, 3, 4]\n",
    "reserve = [2, 3, 4, 5]\n",
    "\n",
    "solution(n, lost, reserve)"
   ]
  }
 ],
 "metadata": {
  "kernelspec": {
   "display_name": "Python 3",
   "language": "python",
   "name": "python3"
  },
  "language_info": {
   "codemirror_mode": {
    "name": "ipython",
    "version": 3
   },
   "file_extension": ".py",
   "mimetype": "text/x-python",
   "name": "python",
   "nbconvert_exporter": "python",
   "pygments_lexer": "ipython3",
   "version": "3.8.5"
  }
 },
 "nbformat": 4,
 "nbformat_minor": 4
}
