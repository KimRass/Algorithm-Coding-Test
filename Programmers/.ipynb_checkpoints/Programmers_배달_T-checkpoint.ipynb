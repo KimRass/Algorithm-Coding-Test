{
 "cells": [
  {
   "cell_type": "code",
   "execution_count": 1,
   "metadata": {},
   "outputs": [],
   "source": [
    "import heapq as hq\n",
    "\n",
    "def solution(N, road, K):\n",
    "    graph = {i:list() for i in range(1, N + 1)}\n",
    "    for i in road:\n",
    "        graph[i[0]].append((i[2], i[1]))\n",
    "        graph[i[1]].append((i[2], i[0]))\n",
    "    \n",
    "    start = 1\n",
    "    hp = list()\n",
    "    hq.heappush(hp, (0, start))\n",
    "    inf = 1e9\n",
    "    dists = [inf for i in range(N + 1)]\n",
    "    dists[start] = 0\n",
    "    visited = [False for i in range(N + 1)]\n",
    "    while hp:\n",
    "        min_dist, start = hq.heappop(hp)\n",
    "        visited[start] = True\n",
    "        for dist, end in graph[start]:\n",
    "            if visited[end] == False:\n",
    "                tot_dist = min_dist + dist\n",
    "                if tot_dist < dists[end]:\n",
    "                    dists[end] = tot_dist\n",
    "                    hq.heappush(hp, (tot_dist, end))\n",
    "\n",
    "    return len([i for i in dists if i <= K])"
   ]
  },
  {
   "cell_type": "code",
   "execution_count": 2,
   "metadata": {},
   "outputs": [
    {
     "data": {
      "text/plain": [
       "4"
      ]
     },
     "execution_count": 2,
     "metadata": {},
     "output_type": "execute_result"
    }
   ],
   "source": [
    "N = 5\n",
    "road = [[1,2,1],[2,3,3],[5,2,2],[1,4,2],[5,3,1],[5,4,2]]\n",
    "K = 3\n",
    "\n",
    "solution(N, road, K)"
   ]
  }
 ],
 "metadata": {
  "kernelspec": {
   "display_name": "Python 3",
   "language": "python",
   "name": "python3"
  },
  "language_info": {
   "codemirror_mode": {
    "name": "ipython",
    "version": 3
   },
   "file_extension": ".py",
   "mimetype": "text/x-python",
   "name": "python",
   "nbconvert_exporter": "python",
   "pygments_lexer": "ipython3",
   "version": "3.7.7"
  }
 },
 "nbformat": 4,
 "nbformat_minor": 4
}
