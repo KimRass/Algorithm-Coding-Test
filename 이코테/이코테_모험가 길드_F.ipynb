{
 "cells": [
  {
   "cell_type": "markdown",
   "metadata": {},
   "source": [
    "## 거스름돈"
   ]
  },
  {
   "cell_type": "code",
   "execution_count": 15,
   "metadata": {},
   "outputs": [
    {
     "name": "stdout",
     "output_type": "stream",
     "text": [
      "25 3\n"
     ]
    }
   ],
   "source": [
    "n, k = list(map(int, input().split()))"
   ]
  },
  {
   "cell_type": "code",
   "execution_count": 16,
   "metadata": {},
   "outputs": [
    {
     "name": "stdout",
     "output_type": "stream",
     "text": [
      "6\n"
     ]
    }
   ],
   "source": [
    "cnt = 0\n",
    "while n != 1:\n",
    "    if n%k == 0:\n",
    "        n = n//k\n",
    "    else:\n",
    "        n = n - 1\n",
    "    cnt += 1\n",
    "        \n",
    "print(cnt)"
   ]
  },
  {
   "cell_type": "markdown",
   "metadata": {},
   "source": [
    "## 곱하기 혹은 더하기"
   ]
  },
  {
   "cell_type": "code",
   "execution_count": 69,
   "metadata": {},
   "outputs": [
    {
     "name": "stdout",
     "output_type": "stream",
     "text": [
      "02984\n"
     ]
    }
   ],
   "source": [
    "s = input()"
   ]
  },
  {
   "cell_type": "code",
   "execution_count": 70,
   "metadata": {},
   "outputs": [
    {
     "name": "stdout",
     "output_type": "stream",
     "text": [
      "576\n"
     ]
    }
   ],
   "source": [
    "res = 1\n",
    "for n in s:\n",
    "    n = int(n)\n",
    "    if n == 0 or n == 1:\n",
    "        res += n\n",
    "    else:\n",
    "        res *= n\n",
    "        \n",
    "print(res)"
   ]
  },
  {
   "cell_type": "markdown",
   "metadata": {},
   "source": [
    "## 모험가 길드\n",
    "- 다시 풀어보기"
   ]
  },
  {
   "cell_type": "code",
   "execution_count": 92,
   "metadata": {},
   "outputs": [
    {
     "name": "stdout",
     "output_type": "stream",
     "text": [
      "11\n",
      "5 4 4 4 4 4 2 2 2 2 1\n"
     ]
    }
   ],
   "source": [
    "n = int(input())\n",
    "fears = list(map(int, input().split()))"
   ]
  },
  {
   "cell_type": "code",
   "execution_count": 93,
   "metadata": {},
   "outputs": [],
   "source": [
    "fears = sorted(fears)"
   ]
  },
  {
   "cell_type": "code",
   "execution_count": 94,
   "metadata": {},
   "outputs": [
    {
     "data": {
      "text/plain": [
       "[1, 2, 2, 2, 2, 4, 4, 4, 4, 4, 5]"
      ]
     },
     "execution_count": 94,
     "metadata": {},
     "output_type": "execute_result"
    }
   ],
   "source": [
    "fears"
   ]
  },
  {
   "cell_type": "code",
   "execution_count": null,
   "metadata": {},
   "outputs": [],
   "source": [
    "n_groups = 0\n",
    "for fear in fears:\n",
    "    if len(fears) >= fear:\n",
    "        group = fears[:fear]\n",
    "        fears = fears[fear:]\n",
    "    n_groups += 1"
   ]
  },
  {
   "cell_type": "code",
   "execution_count": null,
   "metadata": {},
   "outputs": [],
   "source": []
  },
  {
   "cell_type": "code",
   "execution_count": null,
   "metadata": {},
   "outputs": [],
   "source": []
  },
  {
   "cell_type": "code",
   "execution_count": null,
   "metadata": {},
   "outputs": [],
   "source": [
    "5 4 4 4 4 4 /2 2/ 2 2/ 1"
   ]
  },
  {
   "cell_type": "code",
   "execution_count": 96,
   "metadata": {},
   "outputs": [
    {
     "name": "stdout",
     "output_type": "stream",
     "text": [
      "1 1\n",
      "2 1\n",
      "2 2\n",
      "2 2\n",
      "2 3\n",
      "4 3\n",
      "4 3\n",
      "4 3\n",
      "4 4\n",
      "4 4\n",
      "5 4\n",
      "4\n"
     ]
    }
   ],
   "source": [
    "result = 0\n",
    "cnt = 0\n",
    "\n",
    "for i in fears:\n",
    "    cnt += 1\n",
    "    if cnt >= i:\n",
    "        result += 1\n",
    "        cnt = 0\n",
    "    print(i, result)\n",
    "\n",
    "print(result)"
   ]
  },
  {
   "cell_type": "code",
   "execution_count": 91,
   "metadata": {},
   "outputs": [
    {
     "name": "stdout",
     "output_type": "stream",
     "text": [
      "2\n"
     ]
    }
   ],
   "source": [
    "fears = sorted(fears, reverse=True)\n",
    "\n",
    "cnt = 0\n",
    "for fear in fears:\n",
    "    if not len(fears) <= fear:\n",
    "        fears = fears[-(len(fears)-fear):]\n",
    "        cnt += 1\n",
    "    else:\n",
    "        break\n",
    "        \n",
    "print(cnt+1)"
   ]
  },
  {
   "cell_type": "markdown",
   "metadata": {},
   "source": [
    "## 상하좌우"
   ]
  },
  {
   "cell_type": "code",
   "execution_count": 106,
   "metadata": {},
   "outputs": [
    {
     "name": "stdout",
     "output_type": "stream",
     "text": [
      "5\n",
      "R R R U D D\n"
     ]
    }
   ],
   "source": [
    "n = int(input())\n",
    "dirs = list(input().split())"
   ]
  },
  {
   "cell_type": "code",
   "execution_count": 107,
   "metadata": {},
   "outputs": [
    {
     "name": "stdout",
     "output_type": "stream",
     "text": [
      "3 4\n"
     ]
    }
   ],
   "source": [
    "x = 1\n",
    "y = 1\n",
    "for dir in dirs:\n",
    "    if dir == \"R\" and y < n:\n",
    "        y += 1\n",
    "    if dir == \"L\" and y > 1:\n",
    "        y -= 1\n",
    "    if dir == \"U\" and x > 1:\n",
    "        x -= 1\n",
    "    if dir == \"D\" and x < n:\n",
    "        x += 1\n",
    "        \n",
    "print(x, y)"
   ]
  },
  {
   "cell_type": "markdown",
   "metadata": {},
   "source": [
    "# Brute Forcing\n",
    "\n",
    "## 시각"
   ]
  },
  {
   "cell_type": "code",
   "execution_count": 108,
   "metadata": {},
   "outputs": [
    {
     "name": "stdout",
     "output_type": "stream",
     "text": [
      "5\n"
     ]
    }
   ],
   "source": [
    "n = int(input())"
   ]
  },
  {
   "cell_type": "code",
   "execution_count": 127,
   "metadata": {},
   "outputs": [
    {
     "name": "stdout",
     "output_type": "stream",
     "text": [
      "11475\n"
     ]
    }
   ],
   "source": [
    "cnt = 0\n",
    "for time in range((n+1)*60*60):\n",
    "    hour = time//(60*60)\n",
    "    min = time%(60*60)//60\n",
    "    sec = time%(60*60)%60\n",
    "    time_str = str(hour).zfill(2) + str(min).zfill(2) + str(sec).zfill(2)\n",
    "    if \"3\" in time_str:\n",
    "        cnt += 1\n",
    "        \n",
    "print(cnt)"
   ]
  },
  {
   "cell_type": "markdown",
   "metadata": {},
   "source": [
    "## 왕실의 나이트"
   ]
  },
  {
   "cell_type": "code",
   "execution_count": 131,
   "metadata": {},
   "outputs": [
    {
     "name": "stdout",
     "output_type": "stream",
     "text": [
      "a1\n"
     ]
    }
   ],
   "source": [
    "coor = input()"
   ]
  },
  {
   "cell_type": "code",
   "execution_count": 145,
   "metadata": {},
   "outputs": [
    {
     "name": "stdout",
     "output_type": "stream",
     "text": [
      "2\n"
     ]
    }
   ],
   "source": [
    "m = [\"a\", \"b\", \"c\", \"d\", \"e\", \"f\", \"g\", \"h\"]\n",
    "\n",
    "x = int(coor[1]) - 1\n",
    "y = m.index(coor[0])\n",
    "\n",
    "cnt = 0\n",
    "for case in [(2, 1), (2, -1), (1, 2), (-1, 2), (-2, -1), (-2, 1), (-1, -2), (1, -2)]:\n",
    "    new_x = x + case[0]\n",
    "    new_y = y + case[1]\n",
    "    if new_x >= 0 and new_x <= 7 and new_y >= 0 and new_y <= 7:\n",
    "        cnt += 1\n",
    "        \n",
    "print(cnt)"
   ]
  },
  {
   "cell_type": "markdown",
   "metadata": {},
   "source": [
    "## 문자열 재정렬"
   ]
  },
  {
   "cell_type": "code",
   "execution_count": 169,
   "metadata": {},
   "outputs": [
    {
     "name": "stdout",
     "output_type": "stream",
     "text": [
      "AJKDLSI412K4JSJ9D\n"
     ]
    }
   ],
   "source": [
    "s = input()"
   ]
  },
  {
   "cell_type": "code",
   "execution_count": 172,
   "metadata": {},
   "outputs": [
    {
     "data": {
      "text/plain": [
       "True"
      ]
     },
     "execution_count": 172,
     "metadata": {},
     "output_type": "execute_result"
    }
   ],
   "source": [
    "\"a\".isalpha()"
   ]
  },
  {
   "cell_type": "code",
   "execution_count": 170,
   "metadata": {},
   "outputs": [
    {
     "name": "stdout",
     "output_type": "stream",
     "text": [
      "ADDIJJJKKLSS20\n"
     ]
    }
   ],
   "source": [
    "alps = list()\n",
    "summ = 0\n",
    "for char in s:\n",
    "    try:\n",
    "        char = int(char)\n",
    "        summ += char\n",
    "    except:\n",
    "        alps.append(char)\n",
    "alps = sorted(alps)\n",
    "\n",
    "print(\"\".join(alps) + str(summ))"
   ]
  }
 ],
 "metadata": {
  "kernelspec": {
   "display_name": "Python 3",
   "language": "python",
   "name": "python3"
  },
  "language_info": {
   "codemirror_mode": {
    "name": "ipython",
    "version": 3
   },
   "file_extension": ".py",
   "mimetype": "text/x-python",
   "name": "python",
   "nbconvert_exporter": "python",
   "pygments_lexer": "ipython3",
   "version": "3.8.5"
  }
 },
 "nbformat": 4,
 "nbformat_minor": 4
}
