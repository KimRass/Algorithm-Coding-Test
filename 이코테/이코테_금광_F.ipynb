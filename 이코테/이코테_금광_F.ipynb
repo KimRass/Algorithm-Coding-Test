{
 "cells": [
  {
   "cell_type": "code",
   "execution_count": null,
   "metadata": {},
   "outputs": [],
   "source": [
    "2\n",
    "3 4\n",
    "1 3 3 2 2 1 4 1 0 6 4 7\n",
    "4 4\n",
    "1 3 1 5 2 2 4 1 5 0 2 3 0 6 1 2"
   ]
  },
  {
   "cell_type": "code",
   "execution_count": 239,
   "metadata": {},
   "outputs": [
    {
     "name": "stdout",
     "output_type": "stream",
     "text": [
      "2\n",
      "3 4\n",
      "1 3 3 2 2 1 4 1 0 6 4 7\n",
      "4 4\n",
      "1 3 1 5 2 2 4 1 5 0 2 3 0 6 1 2\n",
      "19\n",
      "16\n"
     ]
    }
   ],
   "source": [
    "t = int(input())\n",
    "arrays = list()\n",
    "for _ in range(t):\n",
    "    n, m = list(map(int, input().split()))\n",
    "    arrays.append(list(map(int, input().split())))\n",
    "    \n",
    "for array in arrays:\n",
    "    temp = list()\n",
    "    temp.append([0]*m)\n",
    "    for i in range(0, len(array), m):\n",
    "        temp.append(array[i:i + m])\n",
    "    temp.append([0]*m)\n",
    "    array = temp\n",
    "\n",
    "    d = [[0]*m]*(n+2)\n",
    "    d[0] = [0, 0, 0, 0]\n",
    "    for k in range(1, n+1):\n",
    "        d[k] = [array[k][0]] + [0]*(m-1)\n",
    "    d[n+1] = [0, 0, 0, 0]\n",
    "\n",
    "    for i, j in [[a, b] for b in range(1, m) for a in range(1, n+1)]:\n",
    "        d[i][j] = array[i][j] + max(d[i-1][j-1], d[i][j-1], d[i+1][j-1])\n",
    "    print(max([d[m][-1] for m in range(n)]), sep=\"\\n\")"
   ]
  }
 ],
 "metadata": {
  "kernelspec": {
   "display_name": "Python 3",
   "language": "python",
   "name": "python3"
  },
  "language_info": {
   "codemirror_mode": {
    "name": "ipython",
    "version": 3
   },
   "file_extension": ".py",
   "mimetype": "text/x-python",
   "name": "python",
   "nbconvert_exporter": "python",
   "pygments_lexer": "ipython3",
   "version": "3.8.5"
  }
 },
 "nbformat": 4,
 "nbformat_minor": 4
}
