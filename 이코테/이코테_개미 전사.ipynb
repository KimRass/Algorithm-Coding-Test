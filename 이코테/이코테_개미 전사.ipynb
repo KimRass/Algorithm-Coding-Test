{
 "cells": [
  {
   "cell_type": "code",
   "execution_count": 41,
   "metadata": {},
   "outputs": [
    {
     "name": "stdout",
     "output_type": "stream",
     "text": [
      "4\n",
      "1 3 1 5\n"
     ]
    }
   ],
   "source": [
    "n = int(input())\n",
    "array = list(map(int, input().split()))"
   ]
  },
  {
   "cell_type": "code",
   "execution_count": 42,
   "metadata": {},
   "outputs": [],
   "source": [
    "def max_k(n, array):\n",
    "    dp_table = [0]*(n + 1)\n",
    "    if n >= 4:\n",
    "        sum_1 = array[0] + max_k(n-2, array[2:])\n",
    "        sum_2 = array[1] + max_k(n-3, array[3:])\n",
    "    elif n == 3:\n",
    "        sum_1 = array[0] + array[2]\n",
    "        sum_2 = array[1]\n",
    "    elif n == 2:\n",
    "        sum_1 = array[0]\n",
    "        sum_2 = array[1]\n",
    "    else:\n",
    "        sum_1 = array[0]\n",
    "        sum_2 = array[0]\n",
    "    dp_table[n] = max(sum_1, sum_2)\n",
    "    return dp_table[n]"
   ]
  },
  {
   "cell_type": "code",
   "execution_count": 44,
   "metadata": {},
   "outputs": [
    {
     "data": {
      "text/plain": [
       "8"
      ]
     },
     "execution_count": 44,
     "metadata": {},
     "output_type": "execute_result"
    }
   ],
   "source": [
    "max_k(n, array)"
   ]
  },
  {
   "cell_type": "code",
   "execution_count": 45,
   "metadata": {},
   "outputs": [],
   "source": [
    "dp = [0]*(n + 1)\n",
    "dp[0] = array[0]\n",
    "dp[1] = max(array[0], array[1])\n",
    "for k in range(2, n):\n",
    "    dp[k] = max(dp[k-2] + array[-1], dp[k-1])"
   ]
  },
  {
   "cell_type": "code",
   "execution_count": 46,
   "metadata": {},
   "outputs": [
    {
     "data": {
      "text/plain": [
       "8"
      ]
     },
     "execution_count": 46,
     "metadata": {},
     "output_type": "execute_result"
    }
   ],
   "source": [
    "dp[n-1]"
   ]
  }
 ],
 "metadata": {
  "kernelspec": {
   "display_name": "Python 3",
   "language": "python",
   "name": "python3"
  },
  "language_info": {
   "codemirror_mode": {
    "name": "ipython",
    "version": 3
   },
   "file_extension": ".py",
   "mimetype": "text/x-python",
   "name": "python",
   "nbconvert_exporter": "python",
   "pygments_lexer": "ipython3",
   "version": "3.8.5"
  }
 },
 "nbformat": 4,
 "nbformat_minor": 4
}
