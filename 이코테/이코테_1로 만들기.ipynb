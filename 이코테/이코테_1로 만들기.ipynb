{
 "cells": [
  {
   "cell_type": "code",
   "execution_count": 58,
   "metadata": {},
   "outputs": [
    {
     "name": "stdout",
     "output_type": "stream",
     "text": [
      "26\n"
     ]
    }
   ],
   "source": [
    "x = int(input())"
   ]
  },
  {
   "cell_type": "code",
   "execution_count": 63,
   "metadata": {},
   "outputs": [],
   "source": [
    "def min_calc(x):\n",
    "    value_1 = x\n",
    "    value_2 = x\n",
    "    value_3 = x\n",
    "    value_4 = x\n",
    "    if x >= 2:\n",
    "        if x%5 == 0:\n",
    "            value_1 = 1 + min_calc(int(x/5))\n",
    "        if x%3 == 0:\n",
    "            value_2 = 1 + min_calc(int(x/3))\n",
    "        if x%2 == 0:\n",
    "            value_3 = 1 + min_calc(int(x/2))\n",
    "        value_4 = 1 + min_calc(x - 1)\n",
    "        return min([value_1, value_2, value_3, value_4])\n",
    "    else:\n",
    "        return 0"
   ]
  },
  {
   "cell_type": "code",
   "execution_count": 93,
   "metadata": {},
   "outputs": [],
   "source": [
    "d = [0]*(x + 1)\n",
    "for k in range(2, x + 1):\n",
    "    d[k] = d[k - 1] + 1\n",
    "    if k%5 == 0:\n",
    "        d[k] = min(1 + d[k - 1], 1 + d[k//5])\n",
    "    if k%3 == 0:\n",
    "        d[k] = min(1 + d[k - 1], 1 + d[k//3])\n",
    "    if k%2 == 0:\n",
    "        d[k] = min(1 + d[k - 1], 1 + d[k//2])"
   ]
  },
  {
   "cell_type": "code",
   "execution_count": 94,
   "metadata": {},
   "outputs": [
    {
     "data": {
      "text/plain": [
       "3"
      ]
     },
     "execution_count": 94,
     "metadata": {},
     "output_type": "execute_result"
    }
   ],
   "source": [
    "d[x]"
   ]
  }
 ],
 "metadata": {
  "kernelspec": {
   "display_name": "Python 3",
   "language": "python",
   "name": "python3"
  },
  "language_info": {
   "codemirror_mode": {
    "name": "ipython",
    "version": 3
   },
   "file_extension": ".py",
   "mimetype": "text/x-python",
   "name": "python",
   "nbconvert_exporter": "python",
   "pygments_lexer": "ipython3",
   "version": "3.8.5"
  }
 },
 "nbformat": 4,
 "nbformat_minor": 4
}
