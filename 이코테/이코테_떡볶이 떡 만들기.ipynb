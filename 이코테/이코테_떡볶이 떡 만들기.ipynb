{
 "cells": [
  {
   "cell_type": "code",
   "execution_count": 104,
   "metadata": {},
   "outputs": [
    {
     "name": "stdout",
     "output_type": "stream",
     "text": [
      "4 6\n",
      "19 15 10 17\n"
     ]
    }
   ],
   "source": [
    "n, m =list(map(int, input().split()))\n",
    "array = list(map(int, input().split()))"
   ]
  },
  {
   "cell_type": "code",
   "execution_count": 109,
   "metadata": {},
   "outputs": [],
   "source": [
    "def max_height(n, array, m, start, end):\n",
    "    mid = (start + end)//2\n",
    "    temp = 0\n",
    "    for el in array:\n",
    "        if el > mid:\n",
    "            temp += el - mid\n",
    "    if temp == m:\n",
    "        return mid\n",
    "    if temp < m:\n",
    "        return max_height(n, array, m, start, mid - 1)\n",
    "    if temp > m:\n",
    "        return max_height(n, array, m, mid + 1, end)"
   ]
  },
  {
   "cell_type": "code",
   "execution_count": 110,
   "metadata": {},
   "outputs": [
    {
     "data": {
      "text/plain": [
       "15"
      ]
     },
     "execution_count": 110,
     "metadata": {},
     "output_type": "execute_result"
    }
   ],
   "source": [
    "max_height(n, array, m, 0, max(array))"
   ]
  }
 ],
 "metadata": {
  "kernelspec": {
   "display_name": "Python 3",
   "language": "python",
   "name": "python3"
  },
  "language_info": {
   "codemirror_mode": {
    "name": "ipython",
    "version": 3
   },
   "file_extension": ".py",
   "mimetype": "text/x-python",
   "name": "python",
   "nbconvert_exporter": "python",
   "pygments_lexer": "ipython3",
   "version": "3.8.5"
  }
 },
 "nbformat": 4,
 "nbformat_minor": 4
}
