{
 "cells": [
  {
   "cell_type": "code",
   "execution_count": 131,
   "metadata": {},
   "outputs": [
    {
     "name": "stdout",
     "output_type": "stream",
     "text": [
      "2 15\n",
      "3\n",
      "5\n"
     ]
    }
   ],
   "source": [
    "n, m = list(map(int, input().split()))\n",
    "values = list()\n",
    "for _ in range(n):\n",
    "    values.append(int(input()))\n",
    "\n",
    "d = [0]*(m + 1)\n",
    "d[1] = 1\n",
    "\n",
    "for k in values:\n",
    "    d[k] = 1\n",
    "for k in range(min(values) + 1, m + 1):\n",
    "    d[k] = min([d[k - x] for x in values]) + 1\n",
    "for k in range(min(values)):\n",
    "    d[k] = -1"
   ]
  }
 ],
 "metadata": {
  "kernelspec": {
   "display_name": "Python 3",
   "language": "python",
   "name": "python3"
  },
  "language_info": {
   "codemirror_mode": {
    "name": "ipython",
    "version": 3
   },
   "file_extension": ".py",
   "mimetype": "text/x-python",
   "name": "python",
   "nbconvert_exporter": "python",
   "pygments_lexer": "ipython3",
   "version": "3.8.5"
  }
 },
 "nbformat": 4,
 "nbformat_minor": 4
}
