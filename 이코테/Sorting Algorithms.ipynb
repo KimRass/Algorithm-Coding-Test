{
 "cells": [
  {
   "cell_type": "markdown",
   "metadata": {},
   "source": [
    "## 선택 정렬"
   ]
  },
  {
   "cell_type": "code",
   "execution_count": 13,
   "metadata": {},
   "outputs": [],
   "source": [
    "array = [7, 5, 9, 0, 3, 1, 6, 2, 4, 8]\n",
    "\n",
    "for i in range(len(array)):\n",
    "    min_idx = i\n",
    "    for j in range(i+1, len(array)):\n",
    "        if array[j] < array[min_idx]:\n",
    "            min_idx = j\n",
    "    array[i], array[min_idx] = array[min_idx], array[i]"
   ]
  },
  {
   "cell_type": "code",
   "execution_count": 14,
   "metadata": {},
   "outputs": [
    {
     "data": {
      "text/plain": [
       "[0, 1, 2, 3, 4, 5, 6, 7, 8, 9]"
      ]
     },
     "execution_count": 14,
     "metadata": {},
     "output_type": "execute_result"
    }
   ],
   "source": [
    "array"
   ]
  },
  {
   "cell_type": "markdown",
   "metadata": {},
   "source": [
    "## 삽입 정렬"
   ]
  },
  {
   "cell_type": "code",
   "execution_count": 21,
   "metadata": {},
   "outputs": [],
   "source": [
    "array = [7, 5, 9, 0, 3, 1, 6, 2, 4, 8]\n",
    "\n",
    "for i in range(1, len(array)):\n",
    "    for j in range(i, 0, -1):\n",
    "        if array[j] < array[j-1]:\n",
    "            array[j], array[j-1] = array[j-1], array[j]\n",
    "        else:\n",
    "            break"
   ]
  },
  {
   "cell_type": "code",
   "execution_count": 22,
   "metadata": {},
   "outputs": [
    {
     "name": "stdout",
     "output_type": "stream",
     "text": [
      "[0, 1, 2, 3, 4, 5, 6, 7, 8, 9]\n"
     ]
    }
   ],
   "source": [
    "print(array)"
   ]
  },
  {
   "cell_type": "markdown",
   "metadata": {},
   "source": [
    "## 퀵 정렬"
   ]
  },
  {
   "cell_type": "code",
   "execution_count": 41,
   "metadata": {},
   "outputs": [
    {
     "name": "stdout",
     "output_type": "stream",
     "text": [
      "9\n",
      "8\n"
     ]
    }
   ],
   "source": [
    "array = [7, 5, 9, 0, 3, 1, 6, 2, 4, 8]\n",
    "\n",
    "def quick_sorting(array):\n",
    "    pivot = array[0]\n",
    "    larger_idx = 0\n",
    "    smaller_idx = 0\n",
    "    for i in range(1, len(array)):\n",
    "        if array[i] > pivot:\n",
    "            break\n",
    "    larger_idx = i\n",
    "    for j in range(len(array)-1, 0, -1):\n",
    "        print(j)\n",
    "        if array[j] < pivot:\n",
    "            break\n",
    "    smaller_idx = j\n",
    "#         print(smaller_idx)\n",
    "    if i > j:\n",
    "        array[smaller_idx], pivot = pivot, array[smaller_idx]\n",
    "        quick_sorting(array[:smaller_idx])\n",
    "        quick_sorting(array[smaller_idx+1:])\n",
    "    else:\n",
    "#         print(smaller_idx)\n",
    "        array[larger_idx], array[smaller_idx] = array[smaller_idx], array[larger_idx]\n",
    "#     return quick_sorting()\n",
    "quick_sorting(array)"
   ]
  },
  {
   "cell_type": "markdown",
   "metadata": {},
   "source": [
    "## 계수 정렬"
   ]
  },
  {
   "cell_type": "code",
   "execution_count": 47,
   "metadata": {},
   "outputs": [
    {
     "name": "stdout",
     "output_type": "stream",
     "text": [
      "0 0 1 1 2 2 3 4 5 5 6 7 8 9 9 "
     ]
    }
   ],
   "source": [
    "array = [7, 5, 9, 0, 3, 1, 6, 2, 9, 1, 4, 8, 0, 5, 2]\n",
    "cnts = [0]*(max(array) + 1)\n",
    "\n",
    "for i in range(len(array)):\n",
    "    cnts[array[i]] += 1\n",
    "\n",
    "for j in range(len(cnts)):\n",
    "    for k in range(cnts[j]):\n",
    "        print(j, end=\" \")"
   ]
  }
 ],
 "metadata": {
  "kernelspec": {
   "display_name": "Python 3",
   "language": "python",
   "name": "python3"
  },
  "language_info": {
   "codemirror_mode": {
    "name": "ipython",
    "version": 3
   },
   "file_extension": ".py",
   "mimetype": "text/x-python",
   "name": "python",
   "nbconvert_exporter": "python",
   "pygments_lexer": "ipython3",
   "version": "3.8.5"
  }
 },
 "nbformat": 4,
 "nbformat_minor": 4
}
