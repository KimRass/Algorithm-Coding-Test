{
 "cells": [
  {
   "cell_type": "markdown",
   "metadata": {},
   "source": [
    "Written by KimRass\n",
    "- Source: https://www.acmicpc.net/problem/1300\n",
    "- 어떻게 접근해야할 지 전혀 감이 잡히지 않아서 기본 아이디어를 슬쩍 봤는데도 불구하고 구현하는 것조차 매우 어려운 문제였다."
   ]
  },
  {
   "cell_type": "code",
   "execution_count": 114,
   "metadata": {
    "ExecuteTime": {
     "end_time": "2021-12-20T15:19:12.434979Z",
     "start_time": "2021-12-20T15:19:11.355558Z"
    }
   },
   "outputs": [
    {
     "name": "stdout",
     "output_type": "stream",
     "text": [
      "3\n",
      "7\n",
      "6\n"
     ]
    }
   ],
   "source": [
    "N = int(input())\n",
    "k = int(input())\n",
    "\n",
    "left = 1\n",
    "right = N**2\n",
    "idx = 0\n",
    "num = 0\n",
    "while left <= right:\n",
    "    mid = (left + right)//2\n",
    "    \n",
    "    cnt = 0\n",
    "    for i in range(1, min(mid, N + 1)):\n",
    "        cnt += min((mid - 1)//i, N)\n",
    "\n",
    "    if cnt < k:\n",
    "        left = mid + 1\n",
    "        idx = cnt\n",
    "        num = mid\n",
    "    else:\n",
    "        right = mid - 1\n",
    "\n",
    "cnt2 = k - idx\n",
    "breaker = False\n",
    "while True:\n",
    "    for i in range(1, N + 1):\n",
    "        if num%i == 0 and num//i <= N:\n",
    "            cnt2 -= 1\n",
    "        if cnt2 == 0:\n",
    "            print(i*(num//i))\n",
    "            breaker = True\n",
    "            break\n",
    "    if breaker == True:\n",
    "        break"
   ]
  }
 ],
 "metadata": {
  "hide_input": false,
  "kernelspec": {
   "display_name": "Python 3",
   "language": "python",
   "name": "python3"
  },
  "language_info": {
   "codemirror_mode": {
    "name": "ipython",
    "version": 3
   },
   "file_extension": ".py",
   "mimetype": "text/x-python",
   "name": "python",
   "nbconvert_exporter": "python",
   "pygments_lexer": "ipython3",
   "version": "3.8.5"
  },
  "toc": {
   "base_numbering": 1,
   "nav_menu": {},
   "number_sections": true,
   "sideBar": true,
   "skip_h1_title": false,
   "title_cell": "Table of Contents",
   "title_sidebar": "Contents",
   "toc_cell": false,
   "toc_position": {},
   "toc_section_display": true,
   "toc_window_display": false
  },
  "varInspector": {
   "cols": {
    "lenName": 16,
    "lenType": 16,
    "lenVar": 40
   },
   "kernels_config": {
    "python": {
     "delete_cmd_postfix": "",
     "delete_cmd_prefix": "del ",
     "library": "var_list.py",
     "varRefreshCmd": "print(var_dic_list())"
    },
    "r": {
     "delete_cmd_postfix": ") ",
     "delete_cmd_prefix": "rm(",
     "library": "var_list.r",
     "varRefreshCmd": "cat(var_dic_list()) "
    }
   },
   "types_to_exclude": [
    "module",
    "function",
    "builtin_function_or_method",
    "instance",
    "_Feature"
   ],
   "window_display": false
  }
 },
 "nbformat": 4,
 "nbformat_minor": 4
}
