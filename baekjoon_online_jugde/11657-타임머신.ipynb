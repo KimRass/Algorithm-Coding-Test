{
 "cells": [
  {
   "cell_type": "markdown",
   "metadata": {},
   "source": [
    "Written by KimRass\n",
    "- Source: https://www.acmicpc.net/problem/11657"
   ]
  },
  {
   "cell_type": "code",
   "execution_count": 33,
   "metadata": {
    "ExecuteTime": {
     "end_time": "2021-10-30T11:42:15.059097Z",
     "start_time": "2021-10-30T11:42:08.263178Z"
    }
   },
   "outputs": [
    {
     "name": "stdout",
     "output_type": "stream",
     "text": [
      "3 4\n",
      "1 2 4\n",
      "1 3 3\n",
      "2 3 -4\n",
      "3 1 -2\n",
      "-1\n"
     ]
    }
   ],
   "source": [
    "import sys\n",
    "import math\n",
    "\n",
    "N, M = list(map(int, input().split()))\n",
    "graph = {i:list() for i in range(1, N + 1)}\n",
    "for _ in range(M):\n",
    "    A, B, C = list(map(int, input().split()))\n",
    "#     A, B, C = list(map(int, sys.stdin.readline().rstrip().split()))\n",
    "    graph[A].append((C, B))\n",
    "\n",
    "start = 1\n",
    "min_dists = {i:0 if i == start else math.inf for i in range(1, N + 1)}\n",
    "breaker1 = False\n",
    "breaker2 = False\n",
    "for i in range(N):\n",
    "    for cur_node in range(1, N + 1):\n",
    "        for dist, next_node in graph[cur_node]:\n",
    "            if dist + min_dists[cur_node] < min_dists[next_node]:\n",
    "                min_dists[next_node] = dist + min_dists[cur_node]\n",
    "                if i == N - 1:\n",
    "                    breaker1 = True\n",
    "                    break\n",
    "        if breaker1 == True:\n",
    "            breaker2 = True\n",
    "            break\n",
    "    if breaker2 == True:\n",
    "        print(-1)\n",
    "        break\n",
    "else:\n",
    "    for i in range(2, N + 1):\n",
    "        print(-1 if min_dists[i] == math.inf else min_dists[i])"
   ]
  }
 ],
 "metadata": {
  "hide_input": false,
  "kernelspec": {
   "display_name": "Python 3",
   "language": "python",
   "name": "python3"
  },
  "language_info": {
   "codemirror_mode": {
    "name": "ipython",
    "version": 3
   },
   "file_extension": ".py",
   "mimetype": "text/x-python",
   "name": "python",
   "nbconvert_exporter": "python",
   "pygments_lexer": "ipython3",
   "version": "3.8.5"
  },
  "toc": {
   "base_numbering": 1,
   "nav_menu": {},
   "number_sections": true,
   "sideBar": true,
   "skip_h1_title": false,
   "title_cell": "Table of Contents",
   "title_sidebar": "Contents",
   "toc_cell": false,
   "toc_position": {},
   "toc_section_display": true,
   "toc_window_display": false
  },
  "varInspector": {
   "cols": {
    "lenName": 16,
    "lenType": 16,
    "lenVar": 40
   },
   "kernels_config": {
    "python": {
     "delete_cmd_postfix": "",
     "delete_cmd_prefix": "del ",
     "library": "var_list.py",
     "varRefreshCmd": "print(var_dic_list())"
    },
    "r": {
     "delete_cmd_postfix": ") ",
     "delete_cmd_prefix": "rm(",
     "library": "var_list.r",
     "varRefreshCmd": "cat(var_dic_list()) "
    }
   },
   "types_to_exclude": [
    "module",
    "function",
    "builtin_function_or_method",
    "instance",
    "_Feature"
   ],
   "window_display": false
  }
 },
 "nbformat": 4,
 "nbformat_minor": 4
}
