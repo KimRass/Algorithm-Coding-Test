{
 "cells": [
  {
   "cell_type": "markdown",
   "metadata": {},
   "source": [
    "Written by KimRass\n",
    "- Source: https://www.acmicpc.net/problem/2178"
   ]
  },
  {
   "cell_type": "code",
   "execution_count": 60,
   "metadata": {
    "ExecuteTime": {
     "end_time": "2021-10-10T11:35:58.456336Z",
     "start_time": "2021-10-10T11:35:44.293163Z"
    }
   },
   "outputs": [
    {
     "name": "stdout",
     "output_type": "stream",
     "text": [
      "7 7\n",
      "1011111\n",
      "1110001\n",
      "1000001\n",
      "1000001\n",
      "1000001\n",
      "1000001\n",
      "1111111\n",
      "13\n"
     ]
    }
   ],
   "source": [
    "N, M = list(map(int, input().split()))\n",
    "maze = list()\n",
    "for _ in range(N):\n",
    "    maze.append(list(map(int, input())))\n",
    "\n",
    "graph = {(a, b):list() for b in range(M) for a in range(N)}\n",
    "for i in range(N):\n",
    "    for j in range(M):\n",
    "        if maze[i][j] == 1:\n",
    "            if i <= N - 2 and maze[i + 1][j] == 1:\n",
    "                graph[(i, j)].append((i + 1, j))\n",
    "                graph[(i + 1, j)].append((i, j))\n",
    "            if j <= M - 2 and maze[i][j + 1] == 1:\n",
    "                graph[(i, j)].append((i, j + 1))\n",
    "                graph[(i, j + 1)].append((i, j))\n",
    "\n",
    "from collections import deque\n",
    "\n",
    "dq = deque([((0, 0), 1)])\n",
    "visited = {(i, j):False for i in range(N) for j in range(M)}\n",
    "while dq:\n",
    "    start, cur_step = dq.popleft()\n",
    "    if start == (N - 1, M - 1):\n",
    "        break\n",
    "    else:\n",
    "        if visited[start] == False:\n",
    "            visited[start] = True\n",
    "            for end in graph[start]:\n",
    "                dq.append((end, cur_step + 1))\n",
    "                \n",
    "print(cur_step)"
   ]
  }
 ],
 "metadata": {
  "hide_input": false,
  "kernelspec": {
   "display_name": "Python 3",
   "language": "python",
   "name": "python3"
  },
  "language_info": {
   "codemirror_mode": {
    "name": "ipython",
    "version": 3
   },
   "file_extension": ".py",
   "mimetype": "text/x-python",
   "name": "python",
   "nbconvert_exporter": "python",
   "pygments_lexer": "ipython3",
   "version": "3.8.5"
  },
  "toc": {
   "base_numbering": 1,
   "nav_menu": {},
   "number_sections": true,
   "sideBar": true,
   "skip_h1_title": false,
   "title_cell": "Table of Contents",
   "title_sidebar": "Contents",
   "toc_cell": false,
   "toc_position": {},
   "toc_section_display": true,
   "toc_window_display": false
  },
  "varInspector": {
   "cols": {
    "lenName": 16,
    "lenType": 16,
    "lenVar": 40
   },
   "kernels_config": {
    "python": {
     "delete_cmd_postfix": "",
     "delete_cmd_prefix": "del ",
     "library": "var_list.py",
     "varRefreshCmd": "print(var_dic_list())"
    },
    "r": {
     "delete_cmd_postfix": ") ",
     "delete_cmd_prefix": "rm(",
     "library": "var_list.r",
     "varRefreshCmd": "cat(var_dic_list()) "
    }
   },
   "types_to_exclude": [
    "module",
    "function",
    "builtin_function_or_method",
    "instance",
    "_Feature"
   ],
   "window_display": false
  }
 },
 "nbformat": 4,
 "nbformat_minor": 4
}
