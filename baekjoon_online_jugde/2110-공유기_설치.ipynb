{
 "cells": [
  {
   "cell_type": "markdown",
   "metadata": {},
   "source": [
    "Written by KimRass\n",
    "- Source: https://www.acmicpc.net/problem/2110"
   ]
  },
  {
   "cell_type": "code",
   "execution_count": 26,
   "metadata": {
    "ExecuteTime": {
     "end_time": "2021-12-18T05:36:57.957012Z",
     "start_time": "2021-12-18T05:36:54.175645Z"
    }
   },
   "outputs": [
    {
     "name": "stdout",
     "output_type": "stream",
     "text": [
      "5 3\n",
      "1\n",
      "2\n",
      "8\n",
      "4\n",
      "9\n",
      "3\n"
     ]
    }
   ],
   "source": [
    "N, C = list(map(int, input().split()))\n",
    "arr = [int(input()) for _ in range(N)]\n",
    "\n",
    "arr = sorted(arr)\n",
    "\n",
    "left = 1\n",
    "right = arr[-1] - arr[0]\n",
    "ans = -1\n",
    "while left <= right:\n",
    "    mid = (left + right)//2\n",
    "    \n",
    "    i = arr[0]\n",
    "    cnt = 0\n",
    "    for j in arr[1:]:\n",
    "        if j >= i + mid:\n",
    "            cnt += 1\n",
    "            i = j\n",
    "\n",
    "    if cnt >= C - 1:\n",
    "        left = mid + 1\n",
    "        ans = mid\n",
    "    else:\n",
    "        right = mid - 1\n",
    "        \n",
    "print(ans)"
   ]
  }
 ],
 "metadata": {
  "hide_input": false,
  "kernelspec": {
   "display_name": "Python 3",
   "language": "python",
   "name": "python3"
  },
  "language_info": {
   "codemirror_mode": {
    "name": "ipython",
    "version": 3
   },
   "file_extension": ".py",
   "mimetype": "text/x-python",
   "name": "python",
   "nbconvert_exporter": "python",
   "pygments_lexer": "ipython3",
   "version": "3.8.5"
  },
  "toc": {
   "base_numbering": 1,
   "nav_menu": {},
   "number_sections": true,
   "sideBar": true,
   "skip_h1_title": false,
   "title_cell": "Table of Contents",
   "title_sidebar": "Contents",
   "toc_cell": false,
   "toc_position": {},
   "toc_section_display": true,
   "toc_window_display": false
  },
  "varInspector": {
   "cols": {
    "lenName": 16,
    "lenType": 16,
    "lenVar": 40
   },
   "kernels_config": {
    "python": {
     "delete_cmd_postfix": "",
     "delete_cmd_prefix": "del ",
     "library": "var_list.py",
     "varRefreshCmd": "print(var_dic_list())"
    },
    "r": {
     "delete_cmd_postfix": ") ",
     "delete_cmd_prefix": "rm(",
     "library": "var_list.r",
     "varRefreshCmd": "cat(var_dic_list()) "
    }
   },
   "types_to_exclude": [
    "module",
    "function",
    "builtin_function_or_method",
    "instance",
    "_Feature"
   ],
   "window_display": false
  }
 },
 "nbformat": 4,
 "nbformat_minor": 4
}
