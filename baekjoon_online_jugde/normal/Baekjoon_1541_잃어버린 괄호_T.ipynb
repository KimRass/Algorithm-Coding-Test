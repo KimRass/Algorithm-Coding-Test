{
 "cells": [
  {
   "cell_type": "markdown",
   "metadata": {
    "ExecuteTime": {
     "end_time": "2021-09-22T07:26:06.712746Z",
     "start_time": "2021-09-22T07:26:06.697132Z"
    }
   },
   "source": [
    "Written by KimRass\n",
    "- Source: https://www.acmicpc.net/problem/1541"
   ]
  },
  {
   "cell_type": "code",
   "execution_count": 6,
   "metadata": {
    "ExecuteTime": {
     "end_time": "2021-09-22T07:28:00.155350Z",
     "start_time": "2021-09-22T07:27:51.024598Z"
    }
   },
   "outputs": [
    {
     "name": "stdout",
     "output_type": "stream",
     "text": [
      "00000+00055-50+40\n",
      "-35\n"
     ]
    }
   ],
   "source": [
    "formula = input()\n",
    "\n",
    "formula = \"+\" + formula\n",
    "for _ in range(5):\n",
    "    formula = formula.replace(\"+0\", \"+\").replace(\"-0\", \"-\")\n",
    "\n",
    "new_formula = \"(\"\n",
    "for char in formula:\n",
    "    if char == \"-\":\n",
    "        new_formula += \")-(\"\n",
    "    else:\n",
    "        new_formula += char\n",
    "new_formula += \")\"\n",
    "print(eval(new_formula))"
   ]
  }
 ],
 "metadata": {
  "hide_input": false,
  "kernelspec": {
   "display_name": "Python 3",
   "language": "python",
   "name": "python3"
  },
  "toc": {
   "base_numbering": 1,
   "nav_menu": {},
   "number_sections": true,
   "sideBar": true,
   "skip_h1_title": false,
   "title_cell": "Table of Contents",
   "title_sidebar": "Contents",
   "toc_cell": false,
   "toc_position": {},
   "toc_section_display": true,
   "toc_window_display": false
  },
  "varInspector": {
   "cols": {
    "lenName": 16,
    "lenType": 16,
    "lenVar": 40
   },
   "kernels_config": {
    "python": {
     "delete_cmd_postfix": "",
     "delete_cmd_prefix": "del ",
     "library": "var_list.py",
     "varRefreshCmd": "print(var_dic_list())"
    },
    "r": {
     "delete_cmd_postfix": ") ",
     "delete_cmd_prefix": "rm(",
     "library": "var_list.r",
     "varRefreshCmd": "cat(var_dic_list()) "
    }
   },
   "types_to_exclude": [
    "module",
    "function",
    "builtin_function_or_method",
    "instance",
    "_Feature"
   ],
   "window_display": false
  }
 },
 "nbformat": 4,
 "nbformat_minor": 4
}
