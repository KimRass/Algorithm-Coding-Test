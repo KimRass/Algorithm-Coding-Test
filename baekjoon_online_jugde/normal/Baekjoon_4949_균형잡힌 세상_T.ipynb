{
 "cells": [
  {
   "cell_type": "markdown",
   "metadata": {},
   "source": [
    "Written by KimRass\n",
    "- Source: https://www.acmicpc.net/problem/4949"
   ]
  },
  {
   "cell_type": "code",
   "execution_count": 18,
   "metadata": {
    "ExecuteTime": {
     "end_time": "2021-10-08T06:27:59.076572Z",
     "start_time": "2021-10-08T06:27:32.122688Z"
    }
   },
   "outputs": [
    {
     "name": "stdout",
     "output_type": "stream",
     "text": [
      "So when I die (the [first] I will see in (heaven) is a score list).\n",
      "yes\n",
      "[ first in ] ( first out ).\n",
      "yes\n",
      "Half Moon tonight (At least it is better than no Moon at all].\n",
      "no\n",
      "A rope may form )( a trail in a maze.\n",
      "no\n",
      "Help( I[m being held prisoner in a fortune cookie factory)].\n",
      "no\n",
      "([ (([( [ ] ) ( ) (( ))] )) ]).\n",
      "yes\n",
      " .\n",
      "yes\n",
      ".\n"
     ]
    }
   ],
   "source": [
    "while True:\n",
    "    text = input()\n",
    "    if text == \".\":\n",
    "        break\n",
    "    else:\n",
    "        text = list(text)\n",
    "\n",
    "        stack = list()\n",
    "        for char in text:\n",
    "            if char in \"()[]\":\n",
    "                if char == \"(\":\n",
    "                    stack.append(0)\n",
    "                elif char == \"[\":\n",
    "                    stack.append(1)\n",
    "                elif char == \")\":\n",
    "                    try:\n",
    "                        if stack.pop() != 0:\n",
    "                            print(\"no\")\n",
    "                            break\n",
    "                    except:\n",
    "                        print(\"no\")\n",
    "                        break\n",
    "                elif char == \"]\":\n",
    "                    try:\n",
    "                        if stack.pop() != 1:\n",
    "                            print(\"no\")\n",
    "                            break\n",
    "                    except:\n",
    "                        print(\"no\")\n",
    "                        break\n",
    "            else:\n",
    "                continue\n",
    "        else:\n",
    "            print(\"no\" if stack else \"yes\")"
   ]
  }
 ],
 "metadata": {
  "hide_input": false,
  "kernelspec": {
   "display_name": "Python 3",
   "language": "python",
   "name": "python3"
  },
  "language_info": {
   "codemirror_mode": {
    "name": "ipython",
    "version": 3
   },
   "file_extension": ".py",
   "mimetype": "text/x-python",
   "name": "python",
   "nbconvert_exporter": "python",
   "pygments_lexer": "ipython3",
   "version": "3.8.5"
  },
  "toc": {
   "base_numbering": 1,
   "nav_menu": {},
   "number_sections": true,
   "sideBar": true,
   "skip_h1_title": false,
   "title_cell": "Table of Contents",
   "title_sidebar": "Contents",
   "toc_cell": false,
   "toc_position": {},
   "toc_section_display": true,
   "toc_window_display": false
  },
  "varInspector": {
   "cols": {
    "lenName": 16,
    "lenType": 16,
    "lenVar": 40
   },
   "kernels_config": {
    "python": {
     "delete_cmd_postfix": "",
     "delete_cmd_prefix": "del ",
     "library": "var_list.py",
     "varRefreshCmd": "print(var_dic_list())"
    },
    "r": {
     "delete_cmd_postfix": ") ",
     "delete_cmd_prefix": "rm(",
     "library": "var_list.r",
     "varRefreshCmd": "cat(var_dic_list()) "
    }
   },
   "types_to_exclude": [
    "module",
    "function",
    "builtin_function_or_method",
    "instance",
    "_Feature"
   ],
   "window_display": false
  }
 },
 "nbformat": 4,
 "nbformat_minor": 4
}
