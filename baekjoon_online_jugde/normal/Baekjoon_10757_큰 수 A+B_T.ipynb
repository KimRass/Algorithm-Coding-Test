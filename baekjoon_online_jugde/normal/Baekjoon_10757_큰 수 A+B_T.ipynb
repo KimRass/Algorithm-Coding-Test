{
 "cells": [
  {
   "cell_type": "markdown",
   "metadata": {},
   "source": [
    "Written by KiRass\n",
    "- Source: https://www.acmicpc.net/problem/10757"
   ]
  },
  {
   "cell_type": "code",
   "execution_count": 10,
   "metadata": {
    "ExecuteTime": {
     "end_time": "2021-12-07T14:45:01.919185Z",
     "start_time": "2021-12-07T14:45:01.276765Z"
    }
   },
   "outputs": [
    {
     "name": "stdout",
     "output_type": "stream",
     "text": [
      "9223372036854775807 922337203685477580\n",
      "10145709240540253387\n"
     ]
    }
   ],
   "source": [
    "A, B = input().split()\n",
    "\n",
    "leng = 10000 + 1\n",
    "A = A.rjust(leng, \"0\")\n",
    "B = B.rjust(leng, \"0\")\n",
    "\n",
    "res = [0]*leng\n",
    "for i in range(- 1, -leng - 1, -1):\n",
    "    res[i] = int(A[i]) + int(B[i])  \n",
    "\n",
    "for i in range(- 1, -leng - 1, -1):\n",
    "    res[i] += res[i + 1]//10\n",
    "\n",
    "for i in range(- 1, -leng - 1, -1):\n",
    "    res[i] %= 10\n",
    "\n",
    "print(str(int(\"\".join(map(str, res)))))"
   ]
  }
 ],
 "metadata": {
  "hide_input": false,
  "kernelspec": {
   "display_name": "Python 3",
   "language": "python",
   "name": "python3"
  },
  "language_info": {
   "codemirror_mode": {
    "name": "ipython",
    "version": 3
   },
   "file_extension": ".py",
   "mimetype": "text/x-python",
   "name": "python",
   "nbconvert_exporter": "python",
   "pygments_lexer": "ipython3",
   "version": "3.8.5"
  },
  "toc": {
   "base_numbering": 1,
   "nav_menu": {},
   "number_sections": true,
   "sideBar": true,
   "skip_h1_title": false,
   "title_cell": "Table of Contents",
   "title_sidebar": "Contents",
   "toc_cell": false,
   "toc_position": {},
   "toc_section_display": true,
   "toc_window_display": false
  },
  "varInspector": {
   "cols": {
    "lenName": 16,
    "lenType": 16,
    "lenVar": 40
   },
   "kernels_config": {
    "python": {
     "delete_cmd_postfix": "",
     "delete_cmd_prefix": "del ",
     "library": "var_list.py",
     "varRefreshCmd": "print(var_dic_list())"
    },
    "r": {
     "delete_cmd_postfix": ") ",
     "delete_cmd_prefix": "rm(",
     "library": "var_list.r",
     "varRefreshCmd": "cat(var_dic_list()) "
    }
   },
   "types_to_exclude": [
    "module",
    "function",
    "builtin_function_or_method",
    "instance",
    "_Feature"
   ],
   "window_display": false
  }
 },
 "nbformat": 4,
 "nbformat_minor": 4
}
