{
 "cells": [
  {
   "cell_type": "markdown",
   "metadata": {},
   "source": [
    "Written by KimRass\n",
    "- Source: https://www.acmicpc.net/problem/4195"
   ]
  },
  {
   "cell_type": "code",
   "execution_count": 78,
   "metadata": {
    "ExecuteTime": {
     "end_time": "2021-11-30T13:50:18.411702Z",
     "start_time": "2021-11-30T13:49:51.521801Z"
    }
   },
   "outputs": [
    {
     "name": "stdout",
     "output_type": "stream",
     "text": [
      "2\n",
      "3\n",
      "Fred Barney\n",
      "2\n",
      "Barney Betty\n",
      "3\n",
      "Betty Wilma\n",
      "4\n",
      "3\n",
      "Fred Barney\n",
      "2\n",
      "Betty Wilma\n",
      "2\n",
      "Barney Betty\n",
      "4\n"
     ]
    }
   ],
   "source": [
    "import sys\n",
    "\n",
    "def find(x):\n",
    "    if x == parent[x]:\n",
    "        return x\n",
    "    else:\n",
    "        parent[x] = find(parent[x])\n",
    "        return parent[x]\n",
    "\n",
    "def union(x, y):\n",
    "    x_rep = find(x)\n",
    "    y_rep = find(y)\n",
    "    if x_rep < y_rep:\n",
    "        parent[x_rep] = find(y_rep)\n",
    "        size[y_rep] += size[x_rep]\n",
    "    elif y_rep < x_rep:\n",
    "        parent[y_rep] = find(x_rep)\n",
    "        size[x_rep] += size[y_rep]\n",
    "        \n",
    "for _ in range(int(input())):\n",
    "    hist = list()\n",
    "    parent = dict()\n",
    "    size = dict()\n",
    "    for _ in range(int(input())):\n",
    "#     for _ in range(int(sys.stdin.readline().rstrip())):\n",
    "        a, b = input().split()\n",
    "#         a, b = sys.stdin.readline().rstrip().split()\n",
    "        if a not in parent:\n",
    "            parent[a] = a\n",
    "            size[a] = 1\n",
    "        if b not in parent:\n",
    "            parent[b] = b\n",
    "            size[b] = 1\n",
    "        union(a, b)\n",
    "        print(size[max(parent[a], parent[b])])"
   ]
  }
 ],
 "metadata": {
  "hide_input": false,
  "kernelspec": {
   "display_name": "Python 3",
   "language": "python",
   "name": "python3"
  },
  "language_info": {
   "codemirror_mode": {
    "name": "ipython",
    "version": 3
   },
   "file_extension": ".py",
   "mimetype": "text/x-python",
   "name": "python",
   "nbconvert_exporter": "python",
   "pygments_lexer": "ipython3",
   "version": "3.7.7"
  },
  "toc": {
   "base_numbering": 1,
   "nav_menu": {},
   "number_sections": true,
   "sideBar": true,
   "skip_h1_title": false,
   "title_cell": "Table of Contents",
   "title_sidebar": "Contents",
   "toc_cell": false,
   "toc_position": {},
   "toc_section_display": true,
   "toc_window_display": false
  },
  "varInspector": {
   "cols": {
    "lenName": 16,
    "lenType": 16,
    "lenVar": 40
   },
   "kernels_config": {
    "python": {
     "delete_cmd_postfix": "",
     "delete_cmd_prefix": "del ",
     "library": "var_list.py",
     "varRefreshCmd": "print(var_dic_list())"
    },
    "r": {
     "delete_cmd_postfix": ") ",
     "delete_cmd_prefix": "rm(",
     "library": "var_list.r",
     "varRefreshCmd": "cat(var_dic_list()) "
    }
   },
   "types_to_exclude": [
    "module",
    "function",
    "builtin_function_or_method",
    "instance",
    "_Feature"
   ],
   "window_display": false
  }
 },
 "nbformat": 4,
 "nbformat_minor": 4
}
