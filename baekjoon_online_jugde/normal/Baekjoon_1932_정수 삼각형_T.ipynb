{
 "cells": [
  {
   "cell_type": "markdown",
   "metadata": {},
   "source": [
    "Written by KimRass\n",
    "- Source: https://www.acmicpc.net/problem/1932"
   ]
  },
  {
   "cell_type": "code",
   "execution_count": 58,
   "metadata": {
    "ExecuteTime": {
     "end_time": "2021-10-23T15:15:23.142474Z",
     "start_time": "2021-10-23T15:15:13.614662Z"
    }
   },
   "outputs": [
    {
     "name": "stdout",
     "output_type": "stream",
     "text": [
      "5\n",
      "7\n",
      "3 8\n",
      "8 1 0\n",
      "2 7 4 4\n",
      "4 5 2 6 5\n",
      "30\n"
     ]
    }
   ],
   "source": [
    "n = int(input())\n",
    "arr = list()\n",
    "for _ in range(n):\n",
    "    arr.append(list(map(int, input().split())))\n",
    "\n",
    "mem = dict()\n",
    "def greatest_sum(i, j):\n",
    "    if (i, j) not in mem:\n",
    "        if i == 0:\n",
    "            mem[(i, j)] = arr[0][0]\n",
    "        else:\n",
    "            if j == 0:\n",
    "                mem[(i, j)] = greatest_sum(i - 1, j) + arr[i][j]\n",
    "            elif j == i:\n",
    "                mem[(i, j)] = greatest_sum(i - 1, j - 1) + arr[i][j]\n",
    "            else:\n",
    "                mem[(i, j)] = max(greatest_sum(i - 1, j - 1), greatest_sum(i - 1, j)) + arr[i][j]\n",
    "    return mem[(i, j)]\n",
    "\n",
    "maxim = 0\n",
    "for j in range(n):\n",
    "    tar = greatest_sum(n - 1, j)\n",
    "    if tar > maxim:\n",
    "        maxim = tar\n",
    "        \n",
    "print(maxim)"
   ]
  }
 ],
 "metadata": {
  "hide_input": false,
  "kernelspec": {
   "display_name": "Python 3",
   "language": "python",
   "name": "python3"
  },
  "language_info": {
   "codemirror_mode": {
    "name": "ipython",
    "version": 3
   },
   "file_extension": ".py",
   "mimetype": "text/x-python",
   "name": "python",
   "nbconvert_exporter": "python",
   "pygments_lexer": "ipython3",
   "version": "3.8.5"
  },
  "toc": {
   "base_numbering": 1,
   "nav_menu": {},
   "number_sections": true,
   "sideBar": true,
   "skip_h1_title": false,
   "title_cell": "Table of Contents",
   "title_sidebar": "Contents",
   "toc_cell": false,
   "toc_position": {},
   "toc_section_display": true,
   "toc_window_display": false
  },
  "varInspector": {
   "cols": {
    "lenName": 16,
    "lenType": 16,
    "lenVar": 40
   },
   "kernels_config": {
    "python": {
     "delete_cmd_postfix": "",
     "delete_cmd_prefix": "del ",
     "library": "var_list.py",
     "varRefreshCmd": "print(var_dic_list())"
    },
    "r": {
     "delete_cmd_postfix": ") ",
     "delete_cmd_prefix": "rm(",
     "library": "var_list.r",
     "varRefreshCmd": "cat(var_dic_list()) "
    }
   },
   "types_to_exclude": [
    "module",
    "function",
    "builtin_function_or_method",
    "instance",
    "_Feature"
   ],
   "window_display": false
  }
 },
 "nbformat": 4,
 "nbformat_minor": 4
}
