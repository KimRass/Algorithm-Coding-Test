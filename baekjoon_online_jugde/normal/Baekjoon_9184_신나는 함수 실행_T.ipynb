{
 "cells": [
  {
   "cell_type": "markdown",
   "metadata": {},
   "source": [
    "Written by KimRass\n",
    "- Source: https://www.acmicpc.net/problem/9184"
   ]
  },
  {
   "cell_type": "code",
   "execution_count": 14,
   "metadata": {
    "ExecuteTime": {
     "end_time": "2021-10-22T13:21:04.103430Z",
     "start_time": "2021-10-22T13:20:42.881179Z"
    }
   },
   "outputs": [
    {
     "name": "stdout",
     "output_type": "stream",
     "text": [
      "1 1 1\n",
      "w(1, 1, 1) = 2\n",
      "2 2 2\n",
      "w(2, 2, 2) = 4\n",
      "10 4 6\n",
      "w(10, 4, 6) = 523\n",
      "50 50 50\n",
      "w(50, 50, 50) = 1048576\n",
      "-1 7 18\n",
      "w(-1, 7, 18) = 1\n",
      "-1 -1 -1\n"
     ]
    }
   ],
   "source": [
    "mem = dict()\n",
    "def w(a, b, c):\n",
    "    if (a, b, c) not in mem:\n",
    "        if a <= 0 or b <= 0 or c <= 0:\n",
    "            mem[(a, b, c)] = 1\n",
    "        elif a > 20 or b > 20 or c > 20:\n",
    "            mem[(a, b, c)] = w(20, 20, 20)\n",
    "        elif a < b and b < c:\n",
    "            mem[(a, b, c)] = w(a, b, c - 1) + w(a, b - 1, c - 1) - w(a, b - 1, c)\n",
    "        else:\n",
    "            mem[(a, b, c)] = w(a - 1, b, c) + w(a - 1, b - 1, c) + w(a - 1, b, c - 1) - w(a - 1, b - 1, c - 1)\n",
    "    return mem[(a, b, c)]\n",
    "\n",
    "while True:\n",
    "    a, b, c = list(map(int, input().split()))\n",
    "    if a == -1 and b == -1 and c == -1:\n",
    "        break\n",
    "    else:\n",
    "        print(f\"w({a}, {b}, {c}) = {w(a, b, c)}\")"
   ]
  }
 ],
 "metadata": {
  "hide_input": false,
  "kernelspec": {
   "display_name": "Python 3",
   "language": "python",
   "name": "python3"
  },
  "language_info": {
   "codemirror_mode": {
    "name": "ipython",
    "version": 3
   },
   "file_extension": ".py",
   "mimetype": "text/x-python",
   "name": "python",
   "nbconvert_exporter": "python",
   "pygments_lexer": "ipython3",
   "version": "3.8.5"
  },
  "toc": {
   "base_numbering": 1,
   "nav_menu": {},
   "number_sections": true,
   "sideBar": true,
   "skip_h1_title": false,
   "title_cell": "Table of Contents",
   "title_sidebar": "Contents",
   "toc_cell": false,
   "toc_position": {},
   "toc_section_display": true,
   "toc_window_display": false
  },
  "varInspector": {
   "cols": {
    "lenName": 16,
    "lenType": 16,
    "lenVar": 40
   },
   "kernels_config": {
    "python": {
     "delete_cmd_postfix": "",
     "delete_cmd_prefix": "del ",
     "library": "var_list.py",
     "varRefreshCmd": "print(var_dic_list())"
    },
    "r": {
     "delete_cmd_postfix": ") ",
     "delete_cmd_prefix": "rm(",
     "library": "var_list.r",
     "varRefreshCmd": "cat(var_dic_list()) "
    }
   },
   "types_to_exclude": [
    "module",
    "function",
    "builtin_function_or_method",
    "instance",
    "_Feature"
   ],
   "window_display": false
  }
 },
 "nbformat": 4,
 "nbformat_minor": 4
}
