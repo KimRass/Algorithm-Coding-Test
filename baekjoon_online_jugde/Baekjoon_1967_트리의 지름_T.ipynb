{
 "cells": [
  {
   "cell_type": "markdown",
   "metadata": {},
   "source": [
    "Written by KimRass\n",
    "- Source: https://www.acmicpc.net/problem/1967"
   ]
  },
  {
   "cell_type": "code",
   "execution_count": 10,
   "metadata": {
    "ExecuteTime": {
     "end_time": "2021-10-07T04:04:48.232702Z",
     "start_time": "2021-10-07T04:04:47.638292Z"
    }
   },
   "outputs": [
    {
     "name": "stdout",
     "output_type": "stream",
     "text": [
      "1\n",
      "0\n"
     ]
    }
   ],
   "source": [
    "import sys\n",
    "\n",
    "n = int(input())\n",
    "tree = {i:list() for i in range(1, n + 1)}\n",
    "for _ in range(n - 1):\n",
    "    p, c, w = list(map(int, input().split()))\n",
    "#     p, c, w = list(map(int, sys.stdin.readline().rstrip().split()))\n",
    "    tree[p].append((c, w))\n",
    "    tree[c].append((p, w))\n",
    "\n",
    "if n == 1:\n",
    "    print(0)\n",
    "else:\n",
    "    root = 1\n",
    "    stack = [(root, 0)]\n",
    "    visited = {i:False for i in range(1, n + 1)}\n",
    "\n",
    "    max_weight = 0\n",
    "    while stack:\n",
    "        start, weight1 = stack.pop()        \n",
    "        if visited[start] == False:\n",
    "            visited[start] = True\n",
    "            if weight1 > max_weight:\n",
    "                max_weight = weight1\n",
    "                max_node = start\n",
    "            for end, weight2 in tree[start]:\n",
    "                stack.append((end, weight1 + weight2))\n",
    "\n",
    "    stack = [(max_node, 0)]\n",
    "    visited = {i:False for i in range(1, n + 1)}\n",
    "\n",
    "    diam = 0\n",
    "    while stack:\n",
    "        start, weight1 = stack.pop()        \n",
    "        if visited[start] == False:\n",
    "            visited[start] = True\n",
    "            if weight1 > diam:\n",
    "                diam = weight1\n",
    "            for end, weight2 in tree[start]:\n",
    "                stack.append((end, weight1 + weight2))\n",
    "\n",
    "    print(diam)"
   ]
  }
 ],
 "metadata": {
  "hide_input": false,
  "kernelspec": {
   "display_name": "Python 3",
   "language": "python",
   "name": "python3"
  },
  "language_info": {
   "codemirror_mode": {
    "name": "ipython",
    "version": 3
   },
   "file_extension": ".py",
   "mimetype": "text/x-python",
   "name": "python",
   "nbconvert_exporter": "python",
   "pygments_lexer": "ipython3",
   "version": "3.8.5"
  },
  "toc": {
   "base_numbering": 1,
   "nav_menu": {},
   "number_sections": true,
   "sideBar": true,
   "skip_h1_title": false,
   "title_cell": "Table of Contents",
   "title_sidebar": "Contents",
   "toc_cell": false,
   "toc_position": {},
   "toc_section_display": true,
   "toc_window_display": false
  },
  "varInspector": {
   "cols": {
    "lenName": 16,
    "lenType": 16,
    "lenVar": 40
   },
   "kernels_config": {
    "python": {
     "delete_cmd_postfix": "",
     "delete_cmd_prefix": "del ",
     "library": "var_list.py",
     "varRefreshCmd": "print(var_dic_list())"
    },
    "r": {
     "delete_cmd_postfix": ") ",
     "delete_cmd_prefix": "rm(",
     "library": "var_list.r",
     "varRefreshCmd": "cat(var_dic_list()) "
    }
   },
   "types_to_exclude": [
    "module",
    "function",
    "builtin_function_or_method",
    "instance",
    "_Feature"
   ],
   "window_display": false
  }
 },
 "nbformat": 4,
 "nbformat_minor": 4
}
