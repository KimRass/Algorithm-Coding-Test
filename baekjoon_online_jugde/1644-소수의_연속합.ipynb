{
 "cells": [
  {
   "cell_type": "markdown",
   "metadata": {},
   "source": [
    "Written by KimRass\n",
    "- Source: https://www.acmicpc.net/problem/1644\n",
    "- Sieve of Eratosthenest를 사용할 때 Python Set이나 Python Dictionary를 사용하면 MemoryError가 발생합니다. 따라서 Python List를 사용하는 방법으로 구현합니다."
   ]
  },
  {
   "cell_type": "code",
   "execution_count": 82,
   "metadata": {
    "ExecuteTime": {
     "end_time": "2021-12-21T11:28:52.756530Z",
     "start_time": "2021-12-21T11:28:51.873761Z"
    }
   },
   "outputs": [
    {
     "name": "stdout",
     "output_type": "stream",
     "text": [
      "53\n",
      "2\n"
     ]
    }
   ],
   "source": [
    "N = int(input())\n",
    "\n",
    "is_prime = [True for i in range(N + 1)]\n",
    "is_prime[0] = False\n",
    "is_prime[1] = False\n",
    "for i in range(2, int(N**0.5) + 1):\n",
    "    if is_prime[i]:\n",
    "        for j in range(2*i, N + 1, i):\n",
    "            is_prime[j] = False      \n",
    "primes = [i for i, j in enumerate(is_prime) if j == True] + [0]\n",
    "\n",
    "leng = len(primes) - 1\n",
    "left = 0\n",
    "right = 0\n",
    "subtot = primes[0]\n",
    "cnt = 0\n",
    "while left <= leng - 1 and right <= leng - 1:\n",
    "    if subtot == N:\n",
    "        subtot -= primes[left]\n",
    "        left += 1\n",
    "        cnt += 1\n",
    "    elif subtot > N:\n",
    "        subtot -= primes[left]\n",
    "        left += 1\n",
    "    else:\n",
    "        right += 1\n",
    "        subtot += primes[right]\n",
    "        \n",
    "print(cnt)"
   ]
  }
 ],
 "metadata": {
  "hide_input": false,
  "kernelspec": {
   "display_name": "Python 3",
   "language": "python",
   "name": "python3"
  },
  "language_info": {
   "codemirror_mode": {
    "name": "ipython",
    "version": 3
   },
   "file_extension": ".py",
   "mimetype": "text/x-python",
   "name": "python",
   "nbconvert_exporter": "python",
   "pygments_lexer": "ipython3",
   "version": "3.8.5"
  },
  "toc": {
   "base_numbering": 1,
   "nav_menu": {},
   "number_sections": true,
   "sideBar": true,
   "skip_h1_title": false,
   "title_cell": "Table of Contents",
   "title_sidebar": "Contents",
   "toc_cell": false,
   "toc_position": {},
   "toc_section_display": true,
   "toc_window_display": false
  },
  "varInspector": {
   "cols": {
    "lenName": 16,
    "lenType": 16,
    "lenVar": 40
   },
   "kernels_config": {
    "python": {
     "delete_cmd_postfix": "",
     "delete_cmd_prefix": "del ",
     "library": "var_list.py",
     "varRefreshCmd": "print(var_dic_list())"
    },
    "r": {
     "delete_cmd_postfix": ") ",
     "delete_cmd_prefix": "rm(",
     "library": "var_list.r",
     "varRefreshCmd": "cat(var_dic_list()) "
    }
   },
   "types_to_exclude": [
    "module",
    "function",
    "builtin_function_or_method",
    "instance",
    "_Feature"
   ],
   "window_display": false
  }
 },
 "nbformat": 4,
 "nbformat_minor": 4
}
