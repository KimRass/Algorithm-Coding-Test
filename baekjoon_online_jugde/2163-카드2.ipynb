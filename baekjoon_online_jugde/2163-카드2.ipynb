{
 "cells": [
  {
   "cell_type": "markdown",
   "metadata": {},
   "source": [
    "Written by KimRass\n",
    "- Source: https://www.acmicpc.net/problem/2164"
   ]
  },
  {
   "cell_type": "code",
   "execution_count": 66,
   "metadata": {
    "ExecuteTime": {
     "end_time": "2021-09-23T09:21:29.008530Z",
     "start_time": "2021-09-23T09:21:26.500198Z"
    }
   },
   "outputs": [
    {
     "name": "stdout",
     "output_type": "stream",
     "text": [
      "500000\n",
      "475712\n"
     ]
    }
   ],
   "source": [
    "N = int(input())\n",
    "cards = [i for i in range(1, N + 1)]\n",
    "\n",
    "while len(cards) > 1:\n",
    "    if len(cards)%2 == 0:\n",
    "        cards = [v for i, v in enumerate(cards) if i%2 == 1]\n",
    "    else:\n",
    "        cards = [cards[-1]] + [v for i, v in enumerate(cards) if i%2 == 1]\n",
    "print(cards[0])"
   ]
  }
 ],
 "metadata": {
  "kernelspec": {
   "display_name": "Python 3",
   "language": "python",
   "name": "python3"
  },
  "language_info": {
   "codemirror_mode": {
    "name": "ipython",
    "version": 3
   },
   "file_extension": ".py",
   "mimetype": "text/x-python",
   "name": "python",
   "nbconvert_exporter": "python",
   "pygments_lexer": "ipython3",
   "version": "3.7.7"
  },
  "toc": {
   "base_numbering": 1,
   "nav_menu": {},
   "number_sections": true,
   "sideBar": true,
   "skip_h1_title": false,
   "title_cell": "Table of Contents",
   "title_sidebar": "Contents",
   "toc_cell": false,
   "toc_position": {},
   "toc_section_display": true,
   "toc_window_display": false
  }
 },
 "nbformat": 4,
 "nbformat_minor": 4
}
