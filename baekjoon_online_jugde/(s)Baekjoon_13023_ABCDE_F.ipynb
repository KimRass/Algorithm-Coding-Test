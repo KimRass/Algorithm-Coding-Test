{
 "cells": [
  {
   "cell_type": "markdown",
   "metadata": {},
   "source": [
    "Written by KimRass\n",
    "- Source: https://www.acmicpc.net/problem/13023"
   ]
  },
  {
   "cell_type": "code",
   "execution_count": 88,
   "metadata": {
    "ExecuteTime": {
     "end_time": "2021-09-26T12:16:52.201652Z",
     "start_time": "2021-09-26T12:16:45.783630Z"
    }
   },
   "outputs": [
    {
     "name": "stdout",
     "output_type": "stream",
     "text": [
      "5 5\n",
      "0 1\n",
      "1 2\n",
      "2 3\n",
      "3 0\n",
      "1 4\n"
     ]
    }
   ],
   "source": [
    "N, M = list(map(int, input().split()))\n",
    "temp1 = list()\n",
    "temp2 = list()\n",
    "for _ in range(M):\n",
    "    a, b = tuple(map(int, input().split()))\n",
    "    temp1.append((a, b))\n",
    "    temp2.append(a)\n",
    "    temp2.append(b)\n",
    "temp2 = set(temp2)\n",
    "\n",
    "graph = dict()\n",
    "for i in temp2:\n",
    "    graph[i] = list()\n",
    "for a, b in temp1:\n",
    "    graph[a].append(b)\n",
    "    graph[b].append(a)"
   ]
  },
  {
   "cell_type": "code",
   "execution_count": 91,
   "metadata": {
    "ExecuteTime": {
     "end_time": "2021-09-26T12:17:03.145105Z",
     "start_time": "2021-09-26T12:17:03.121626Z"
    }
   },
   "outputs": [
    {
     "data": {
      "text/plain": [
       "{0, 1, 2, 3, 4}"
      ]
     },
     "execution_count": 91,
     "metadata": {},
     "output_type": "execute_result"
    }
   ],
   "source": [
    "temp2"
   ]
  },
  {
   "cell_type": "code",
   "execution_count": null,
   "metadata": {},
   "outputs": [],
   "source": [
    "4 1 0 3 2\n",
    "2 3 0 1 4\n",
    "4 1 2 3 0\n",
    "0 3 2 1 4"
   ]
  },
  {
   "cell_type": "code",
   "execution_count": 103,
   "metadata": {
    "ExecuteTime": {
     "end_time": "2021-09-26T12:20:43.043696Z",
     "start_time": "2021-09-26T12:20:43.018258Z"
    }
   },
   "outputs": [
    {
     "data": {
      "text/plain": [
       "{0: [1, 3], 1: [0, 2, 4], 2: [1, 3], 3: [2, 0], 4: [1]}"
      ]
     },
     "execution_count": 103,
     "metadata": {},
     "output_type": "execute_result"
    }
   ],
   "source": [
    "graph"
   ]
  },
  {
   "cell_type": "code",
   "execution_count": 115,
   "metadata": {
    "ExecuteTime": {
     "end_time": "2021-09-26T12:29:15.787682Z",
     "start_time": "2021-09-26T12:29:15.778288Z"
    }
   },
   "outputs": [
    {
     "name": "stdout",
     "output_type": "stream",
     "text": [
      "1 []\n",
      "4 [0, 2]\n",
      "실패\n",
      "2 [0]\n",
      "3 [0, 1]\n",
      "0 [0, 1, 2]\n",
      "실패\n",
      "실패\n",
      "실패\n",
      "실패\n",
      "실패\n"
     ]
    }
   ],
   "source": [
    "breaker = False\n",
    "# for i in temp2:\n",
    "i = 1\n",
    "stack = [i]\n",
    "visited = {j:False for j in temp2}\n",
    "cnt = 0\n",
    "while stack:\n",
    "    start = stack.pop()\n",
    "#     print(start, stack)\n",
    "    if visited[start] == False:\n",
    "        visited[start] = True\n",
    "        print(start, stack)\n",
    "        cnt += 1\n",
    "        for end in graph[start]:\n",
    "            stack.append(end)\n",
    "    else:\n",
    "        print(\"실패\")"
   ]
  },
  {
   "cell_type": "code",
   "execution_count": 54,
   "metadata": {
    "ExecuteTime": {
     "end_time": "2021-09-26T12:05:04.729245Z",
     "start_time": "2021-09-26T12:05:04.715581Z"
    }
   },
   "outputs": [
    {
     "data": {
      "text/plain": [
       "{0, 1, 2, 3, 4, 5, 6, 7}"
      ]
     },
     "execution_count": 54,
     "metadata": {},
     "output_type": "execute_result"
    }
   ],
   "source": [
    "temp2"
   ]
  },
  {
   "cell_type": "code",
   "execution_count": null,
   "metadata": {},
   "outputs": [],
   "source": []
  },
  {
   "cell_type": "code",
   "execution_count": null,
   "metadata": {},
   "outputs": [],
   "source": []
  }
 ],
 "metadata": {
  "hide_input": false,
  "kernelspec": {
   "display_name": "Python 3",
   "language": "python",
   "name": "python3"
  },
  "language_info": {
   "codemirror_mode": {
    "name": "ipython",
    "version": 3
   },
   "file_extension": ".py",
   "mimetype": "text/x-python",
   "name": "python",
   "nbconvert_exporter": "python",
   "pygments_lexer": "ipython3",
   "version": "3.8.5"
  },
  "toc": {
   "base_numbering": 1,
   "nav_menu": {},
   "number_sections": true,
   "sideBar": true,
   "skip_h1_title": false,
   "title_cell": "Table of Contents",
   "title_sidebar": "Contents",
   "toc_cell": false,
   "toc_position": {},
   "toc_section_display": true,
   "toc_window_display": false
  },
  "varInspector": {
   "cols": {
    "lenName": 16,
    "lenType": 16,
    "lenVar": 40
   },
   "kernels_config": {
    "python": {
     "delete_cmd_postfix": "",
     "delete_cmd_prefix": "del ",
     "library": "var_list.py",
     "varRefreshCmd": "print(var_dic_list())"
    },
    "r": {
     "delete_cmd_postfix": ") ",
     "delete_cmd_prefix": "rm(",
     "library": "var_list.r",
     "varRefreshCmd": "cat(var_dic_list()) "
    }
   },
   "types_to_exclude": [
    "module",
    "function",
    "builtin_function_or_method",
    "instance",
    "_Feature"
   ],
   "window_display": false
  }
 },
 "nbformat": 4,
 "nbformat_minor": 4
}
