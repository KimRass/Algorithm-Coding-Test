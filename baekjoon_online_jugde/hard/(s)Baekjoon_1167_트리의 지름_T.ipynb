{
 "cells": [
  {
   "cell_type": "markdown",
   "metadata": {},
   "source": [
    "Written by KimRass\n",
    "- Source: https://www.acmicpc.net/problem/1167"
   ]
  },
  {
   "cell_type": "code",
   "execution_count": 95,
   "metadata": {
    "ExecuteTime": {
     "end_time": "2021-10-04T13:12:18.436506Z",
     "start_time": "2021-10-04T13:12:05.581131Z"
    }
   },
   "outputs": [
    {
     "name": "stdout",
     "output_type": "stream",
     "text": [
      "5\n",
      "1 3 2 -1\n",
      "2 4 4 -1\n",
      "3 1 2 4 3 -1\n",
      "4 2 4 3 3 5 6 -1\n",
      "5 4 6 -1\n",
      "11\n"
     ]
    }
   ],
   "source": [
    "import sys\n",
    "\n",
    "V = int(input())\n",
    "tree = dict()\n",
    "for _ in range(V):\n",
    "    arr = list(map(int, input().split()))[:-1]\n",
    "#         arr = list(map(int, sys.stdin.readline().rstrip().split()))[:-1]\n",
    "    tree[arr[0]] = list()\n",
    "    for i in range(1, len(arr) - 1, 2):\n",
    "        tree[arr[0]].append((arr[i], arr[i + 1]))\n",
    "\n",
    "node = list(tree)[0]\n",
    "\n",
    "stack = [(node, 0)]\n",
    "visited = {i:False for i in tree}\n",
    "visited[node] = True\n",
    "\n",
    "# 지름을 구성하는 2개의 노드 중 하나를 구합니다.\n",
    "max_dist = 1\n",
    "while stack:\n",
    "    start, dist1 = stack.pop()\n",
    "    if dist1 > max_dist:\n",
    "        max_dist = dist1\n",
    "        node = start\n",
    "    for end, dist2 in tree[start]:\n",
    "        if visited[end] == False:\n",
    "            visited[end] = True\n",
    "            stack.append((end, dist1 + dist2))\n",
    "\n",
    "stack = [(node, 0)]\n",
    "visited = {i:False for i in tree}\n",
    "visited[node] = True\n",
    "\n",
    "# 지름을 구합니다.\n",
    "diam = 1\n",
    "while stack:\n",
    "    start, dist1 = stack.pop()\n",
    "    if dist1 > diam:\n",
    "        diam = dist1\n",
    "    for end, dist2 in tree[start]:\n",
    "        if visited[end] == False:\n",
    "            visited[end] = True\n",
    "            stack.append((end, dist1 + dist2))\n",
    "print(diam)"
   ]
  }
 ],
 "metadata": {
  "hide_input": false,
  "kernelspec": {
   "display_name": "Python 3",
   "language": "python",
   "name": "python3"
  },
  "language_info": {
   "codemirror_mode": {
    "name": "ipython",
    "version": 3
   },
   "file_extension": ".py",
   "mimetype": "text/x-python",
   "name": "python",
   "nbconvert_exporter": "python",
   "pygments_lexer": "ipython3",
   "version": "3.7.7"
  },
  "toc": {
   "base_numbering": 1,
   "nav_menu": {},
   "number_sections": true,
   "sideBar": true,
   "skip_h1_title": false,
   "title_cell": "Table of Contents",
   "title_sidebar": "Contents",
   "toc_cell": false,
   "toc_position": {},
   "toc_section_display": true,
   "toc_window_display": false
  },
  "varInspector": {
   "cols": {
    "lenName": 16,
    "lenType": 16,
    "lenVar": 40
   },
   "kernels_config": {
    "python": {
     "delete_cmd_postfix": "",
     "delete_cmd_prefix": "del ",
     "library": "var_list.py",
     "varRefreshCmd": "print(var_dic_list())"
    },
    "r": {
     "delete_cmd_postfix": ") ",
     "delete_cmd_prefix": "rm(",
     "library": "var_list.r",
     "varRefreshCmd": "cat(var_dic_list()) "
    }
   },
   "types_to_exclude": [
    "module",
    "function",
    "builtin_function_or_method",
    "instance",
    "_Feature"
   ],
   "window_display": false
  }
 },
 "nbformat": 4,
 "nbformat_minor": 4
}
