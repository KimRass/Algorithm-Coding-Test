{
 "cells": [
  {
   "cell_type": "markdown",
   "metadata": {},
   "source": [
    "Written by KimRass\n",
    "- Source: https://www.acmicpc.net/submit/2667"
   ]
  },
  {
   "cell_type": "code",
   "execution_count": 110,
   "metadata": {
    "ExecuteTime": {
     "end_time": "2021-09-26T07:45:30.401678Z",
     "start_time": "2021-09-26T07:45:15.925473Z"
    }
   },
   "outputs": [
    {
     "name": "stdout",
     "output_type": "stream",
     "text": [
      "7\n",
      "0110100\n",
      "0110101\n",
      "1110101\n",
      "0000111\n",
      "0100000\n",
      "0111110\n",
      "0111000\n",
      "3\n",
      "7\n",
      "8\n",
      "9\n"
     ]
    }
   ],
   "source": [
    "N = int(input())\n",
    "arr = [list(map(int, input())) for _ in range(N)]\n",
    "\n",
    "graph = dict()\n",
    "visited = dict()\n",
    "for i in range(N):\n",
    "    for j in range(N):\n",
    "        temp = list()\n",
    "        visited.update({(i, j):False})\n",
    "        if arr[i][j] == 1:\n",
    "            if i >= 1 and arr[i - 1][j] == 1:\n",
    "                temp.append((i - 1, j))\n",
    "            if i <= N - 2 and arr[i + 1][j] == 1:\n",
    "                temp.append((i + 1, j))\n",
    "            if j >= 1 and arr[i][j - 1] == 1:\n",
    "                temp.append((i, j - 1))\n",
    "            if j <= N - 2 and arr[i][j + 1] == 1:\n",
    "                temp.append((i, j + 1))\n",
    "            graph.update({(i, j):temp})\n",
    "\n",
    "res = list()\n",
    "while graph:\n",
    "    visited = {(i, j):False for i in range(N) for j in range(N)}\n",
    "    stack = [list(graph.keys())[0]]\n",
    "    while stack:\n",
    "        start = stack.pop()\n",
    "        if visited[start] == False:\n",
    "            visited[start] = True\n",
    "            for end in graph[start]:\n",
    "                stack.append(end)\n",
    "    res.append(len([k for k, v in visited.items() if v == True]))\n",
    "    for i in [k for k, v in visited.items() if v == True]:\n",
    "        graph.pop(i)\n",
    "res = sorted(res)\n",
    "print(len(res))\n",
    "for i in res:\n",
    "    print(i)"
   ]
  }
 ],
 "metadata": {
  "hide_input": false,
  "kernelspec": {
   "display_name": "Python 3",
   "language": "python",
   "name": "python3"
  },
  "language_info": {
   "codemirror_mode": {
    "name": "ipython",
    "version": 3
   },
   "file_extension": ".py",
   "mimetype": "text/x-python",
   "name": "python",
   "nbconvert_exporter": "python",
   "pygments_lexer": "ipython3",
   "version": "3.8.5"
  },
  "toc": {
   "base_numbering": 1,
   "nav_menu": {},
   "number_sections": true,
   "sideBar": true,
   "skip_h1_title": false,
   "title_cell": "Table of Contents",
   "title_sidebar": "Contents",
   "toc_cell": false,
   "toc_position": {},
   "toc_section_display": true,
   "toc_window_display": false
  },
  "varInspector": {
   "cols": {
    "lenName": 16,
    "lenType": 16,
    "lenVar": 40
   },
   "kernels_config": {
    "python": {
     "delete_cmd_postfix": "",
     "delete_cmd_prefix": "del ",
     "library": "var_list.py",
     "varRefreshCmd": "print(var_dic_list())"
    },
    "r": {
     "delete_cmd_postfix": ") ",
     "delete_cmd_prefix": "rm(",
     "library": "var_list.r",
     "varRefreshCmd": "cat(var_dic_list()) "
    }
   },
   "types_to_exclude": [
    "module",
    "function",
    "builtin_function_or_method",
    "instance",
    "_Feature"
   ],
   "window_display": false
  }
 },
 "nbformat": 4,
 "nbformat_minor": 4
}
