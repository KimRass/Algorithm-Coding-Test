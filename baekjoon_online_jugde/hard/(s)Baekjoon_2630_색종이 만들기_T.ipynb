{
 "cells": [
  {
   "cell_type": "markdown",
   "metadata": {},
   "source": [
    "Written by KimRass\n",
    "- Source: https://www.acmicpc.net/problem/2630"
   ]
  },
  {
   "cell_type": "code",
   "execution_count": null,
   "metadata": {
    "ExecuteTime": {
     "end_time": "2021-10-21T12:47:33.719193Z",
     "start_time": "2021-10-21T12:47:17.379435Z"
    }
   },
   "outputs": [],
   "source": [
    "# from itertools import product\n",
    "\n",
    "# N = int(input())\n",
    "# arr = list()\n",
    "# for _ in range(N):\n",
    "#     arr.append(input())\n",
    "\n",
    "# def quadtree(arr):\n",
    "#     if len(arr) == 1:\n",
    "#         return arr[0][0]\n",
    "#     else:\n",
    "#         n = len(arr)//2\n",
    "#         for i, j in product(range(len(arr)), range(len(arr))):\n",
    "#             if arr[i][j] != arr[0][0]:\n",
    "#                 return f\"({quadtree([i[:n] for i in arr[:n]]) + quadtree([i[n:] for i in arr[:n]]) + quadtree([i[:n] for i in arr[n:]]) + quadtree([i[n:] for i in arr[n:]])})\"\n",
    "#         else:\n",
    "#             return arr[0][0]\n",
    "\n",
    "# res = quadtree(arr)\n",
    "# print(res.count(\"0\"))\n",
    "# print(res.count(\"1\"))"
   ]
  },
  {
   "cell_type": "code",
   "execution_count": 4,
   "metadata": {
    "ExecuteTime": {
     "end_time": "2021-10-21T07:37:54.661774Z",
     "start_time": "2021-10-21T07:37:25.102822Z"
    }
   },
   "outputs": [
    {
     "name": "stdout",
     "output_type": "stream",
     "text": [
      "8\n",
      "1 1 0 0 0 0 1 1\n",
      "1 1 0 0 0 0 1 1\n",
      "0 0 0 0 1 1 0 0\n",
      "0 0 0 0 1 1 0 0\n",
      "1 0 0 0 1 1 1 1\n",
      "0 1 0 0 1 1 1 1\n",
      "0 0 1 1 1 1 1 1\n",
      "0 0 1 1 1 1 1 1\n",
      "9\n",
      "7\n"
     ]
    }
   ],
   "source": [
    "from itertools import product\n",
    "\n",
    "N = int(input())\n",
    "arr = list()\n",
    "for _ in range(N):\n",
    "    arr.append(list(map(int, input().split())))\n",
    "\n",
    "def quadtree(arr):\n",
    "    global zeros, ones\n",
    "    zeros_temp = 0\n",
    "    for i, j in product(range(len(arr)), range(len(arr))):\n",
    "        zeros_temp += (arr[i][j] == 0)\n",
    "    \n",
    "    if zeros_temp == 0:\n",
    "        return (0, 1)\n",
    "    elif zeros_temp == len(arr)**2:\n",
    "        return (1, 0)\n",
    "    else:\n",
    "        n = len(arr)//2\n",
    "        return (quadtree([i[:n] for i in arr[:n]])[0] + quadtree([i[n:] for i in arr[:n]])[0] + quadtree([i[:n] for i in arr[n:]])[0] + quadtree([i[n:] for i in arr[n:]])[0], quadtree([i[:n] for i in arr[:n]])[1] + quadtree([i[n:] for i in arr[:n]])[1] + quadtree([i[:n] for i in arr[n:]])[1] + quadtree([i[n:] for i in arr[n:]])[1])\n",
    "\n",
    "zeros = 0\n",
    "ones = 0\n",
    "for i in quadtree(arr):\n",
    "    print(i)"
   ]
  }
 ],
 "metadata": {
  "hide_input": false,
  "kernelspec": {
   "display_name": "Python 3",
   "language": "python",
   "name": "python3"
  },
  "language_info": {
   "codemirror_mode": {
    "name": "ipython",
    "version": 3
   },
   "file_extension": ".py",
   "mimetype": "text/x-python",
   "name": "python",
   "nbconvert_exporter": "python",
   "pygments_lexer": "ipython3",
   "version": "3.8.5"
  },
  "toc": {
   "base_numbering": 1,
   "nav_menu": {},
   "number_sections": true,
   "sideBar": true,
   "skip_h1_title": false,
   "title_cell": "Table of Contents",
   "title_sidebar": "Contents",
   "toc_cell": false,
   "toc_position": {},
   "toc_section_display": true,
   "toc_window_display": false
  },
  "varInspector": {
   "cols": {
    "lenName": 16,
    "lenType": 16,
    "lenVar": 40
   },
   "kernels_config": {
    "python": {
     "delete_cmd_postfix": "",
     "delete_cmd_prefix": "del ",
     "library": "var_list.py",
     "varRefreshCmd": "print(var_dic_list())"
    },
    "r": {
     "delete_cmd_postfix": ") ",
     "delete_cmd_prefix": "rm(",
     "library": "var_list.r",
     "varRefreshCmd": "cat(var_dic_list()) "
    }
   },
   "types_to_exclude": [
    "module",
    "function",
    "builtin_function_or_method",
    "instance",
    "_Feature"
   ],
   "window_display": false
  }
 },
 "nbformat": 4,
 "nbformat_minor": 4
}
