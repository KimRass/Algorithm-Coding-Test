{
 "cells": [
  {
   "cell_type": "markdown",
   "metadata": {},
   "source": [
    "Written by KimRass\n",
    "- Source: https://www.acmicpc.net/problem/11725"
   ]
  },
  {
   "cell_type": "code",
   "execution_count": 14,
   "metadata": {
    "ExecuteTime": {
     "end_time": "2021-10-01T08:24:31.457998Z",
     "start_time": "2021-10-01T08:24:11.770670Z"
    }
   },
   "outputs": [
    {
     "name": "stdout",
     "output_type": "stream",
     "text": [
      "7\n",
      "1 6\n",
      "6 3\n",
      "3 5\n",
      "4 1\n",
      "2 4\n",
      "4 7\n",
      "4\n",
      "6\n",
      "1\n",
      "3\n",
      "1\n",
      "4\n"
     ]
    }
   ],
   "source": [
    "N = int(input())\n",
    "tree = dict()\n",
    "for _ in range(N - 1):\n",
    "    a, b = list(map(int, input().split()))\n",
    "#     a, b = list(map(int, sys.stdin.readline().rstrip().split()))\n",
    "    if a not in tree:\n",
    "        tree[a] = list()\n",
    "    tree[a].append(b)\n",
    "        \n",
    "    if b not in tree:\n",
    "        tree[b] = list()\n",
    "    tree[b].append(a)\n",
    "\n",
    "stack = [1]\n",
    "parents = {i:False for i in range(1, N + 1)}\n",
    "while stack:\n",
    "    node = stack.pop()\n",
    "    for i in tree[node]:\n",
    "        if parents[i] == False:\n",
    "            parents[i] = node\n",
    "            stack.append(i)\n",
    "            \n",
    "for k, v in parents.items():\n",
    "    if k != 1:\n",
    "        print(v)"
   ]
  }
 ],
 "metadata": {
  "kernelspec": {
   "display_name": "Python 3",
   "language": "python",
   "name": "python3"
  },
  "language_info": {
   "codemirror_mode": {
    "name": "ipython",
    "version": 3
   },
   "file_extension": ".py",
   "mimetype": "text/x-python",
   "name": "python",
   "nbconvert_exporter": "python",
   "pygments_lexer": "ipython3",
   "version": "3.7.7"
  },
  "toc": {
   "base_numbering": 1,
   "nav_menu": {},
   "number_sections": true,
   "sideBar": true,
   "skip_h1_title": false,
   "title_cell": "Table of Contents",
   "title_sidebar": "Contents",
   "toc_cell": false,
   "toc_position": {},
   "toc_section_display": true,
   "toc_window_display": false
  }
 },
 "nbformat": 4,
 "nbformat_minor": 4
}
