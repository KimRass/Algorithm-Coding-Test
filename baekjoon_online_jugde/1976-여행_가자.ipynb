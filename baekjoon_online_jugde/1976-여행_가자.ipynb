{
 "cells": [
  {
   "cell_type": "markdown",
   "metadata": {},
   "source": [
    "Written by KimRass\n",
    "- Source: https://www.acmicpc.net/problem/1976"
   ]
  },
  {
   "cell_type": "code",
   "execution_count": 34,
   "metadata": {
    "ExecuteTime": {
     "end_time": "2021-11-30T05:04:20.029295Z",
     "start_time": "2021-11-30T05:03:57.005895Z"
    }
   },
   "outputs": [
    {
     "name": "stdout",
     "output_type": "stream",
     "text": [
      "5\n",
      "8\n",
      "0 1 0 1 1\n",
      "1 0 1 1 0\n",
      "0 1 0 0 0\n",
      "1 1 0 0 0\n",
      "1 0 0 0 0\n",
      "5 3 2 3 4\n",
      "YES\n"
     ]
    }
   ],
   "source": [
    "def find(x):\n",
    "    if parent[x] == x:\n",
    "        return x\n",
    "    else:\n",
    "        parent[x] = find(parent[x])\n",
    "        return parent[x]\n",
    "    \n",
    "def union(x, y):\n",
    "    x_rep = find(x)\n",
    "    y_rep = find(y)\n",
    "    \n",
    "    if x_rep < y_rep:\n",
    "        parent[x_rep] = y_rep\n",
    "    else:\n",
    "        parent[y_rep] = x_rep\n",
    "\n",
    "N = int(input())\n",
    "M = int(input())\n",
    "conn = list()\n",
    "for _ in range(N):\n",
    "    conn.append(list(map(int, input().split())))\n",
    "plan = list(map(int, input().split()))\n",
    "plan = [i - 1 for i in plan]\n",
    "\n",
    "parent = [i for i in range(N)]\n",
    "parent_bef = [0 for i in range(N)]\n",
    "while True:\n",
    "    for i in range(N):\n",
    "        for j in range(N):\n",
    "            if conn[i][j] == 1:\n",
    "                union(i, j)\n",
    "    if parent == parent_bef:\n",
    "        break\n",
    "    else:\n",
    "        parent_bef = parent\n",
    "\n",
    "for i in plan[1:]:\n",
    "    if parent[i] != parent[plan[0]]:\n",
    "        print(\"NO\")\n",
    "        break\n",
    "else:\n",
    "    print(\"YES\")"
   ]
  }
 ],
 "metadata": {
  "kernelspec": {
   "display_name": "Python 3",
   "language": "python",
   "name": "python3"
  },
  "language_info": {
   "codemirror_mode": {
    "name": "ipython",
    "version": 3
   },
   "file_extension": ".py",
   "mimetype": "text/x-python",
   "name": "python",
   "nbconvert_exporter": "python",
   "pygments_lexer": "ipython3",
   "version": "3.7.7"
  },
  "toc": {
   "base_numbering": 1,
   "nav_menu": {},
   "number_sections": true,
   "sideBar": true,
   "skip_h1_title": false,
   "title_cell": "Table of Contents",
   "title_sidebar": "Contents",
   "toc_cell": false,
   "toc_position": {},
   "toc_section_display": true,
   "toc_window_display": false
  }
 },
 "nbformat": 4,
 "nbformat_minor": 4
}
