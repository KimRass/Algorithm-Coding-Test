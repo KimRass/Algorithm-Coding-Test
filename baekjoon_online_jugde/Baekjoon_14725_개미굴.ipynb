{
 "cells": [
  {
   "cell_type": "markdown",
   "metadata": {},
   "source": [
    "Written by KimRass\n",
    "- Source: https://www.acmicpc.net/problem/14725"
   ]
  },
  {
   "cell_type": "code",
   "execution_count": 96,
   "metadata": {
    "ExecuteTime": {
     "end_time": "2021-11-27T15:17:16.435950Z",
     "start_time": "2021-11-27T15:16:57.588724Z"
    }
   },
   "outputs": [
    {
     "name": "stdout",
     "output_type": "stream",
     "text": [
      "4\n",
      "2 KIWI BANANA\n",
      "2 KIWI APPLE\n",
      "2 APPLE APPLE\n",
      "3 APPLE BANANA KIWI\n",
      "APPLE\n",
      "--APPLE\n",
      "--BANANA\n",
      "----KIWI\n",
      "KIWI\n",
      "--APPLE\n",
      "--BANANA\n"
     ]
    }
   ],
   "source": [
    "N = int(input())\n",
    "arr = list()\n",
    "max_num = 0\n",
    "for _ in range(N):\n",
    "    temp = input().split()\n",
    "    num = int(temp[0])\n",
    "    if num > max_num:\n",
    "        max_num = num\n",
    "    arr.append(list(temp[1:]))\n",
    "\n",
    "for i in range(N):\n",
    "    arr[i] += [\"0\"]*(max_num - len(arr[i]))\n",
    "\n",
    "for i in range(max_num - 1, -1, -1):\n",
    "    arr = sorted(arr, key=lambda x:x[i])\n",
    "\n",
    "appeared = dict()\n",
    "for i in range(N):\n",
    "    for j in range(max_num):\n",
    "        if arr[i][j] != \"0\" and (\"--\"*j + arr[i][j]) not in appeared:\n",
    "            print(\"--\"*j + arr[i][j])\n",
    "        if j == 0:\n",
    "            appeared[arr[i][j]] = 0"
   ]
  }
 ],
 "metadata": {
  "hide_input": false,
  "kernelspec": {
   "display_name": "Python 3",
   "language": "python",
   "name": "python3"
  },
  "language_info": {
   "codemirror_mode": {
    "name": "ipython",
    "version": 3
   },
   "file_extension": ".py",
   "mimetype": "text/x-python",
   "name": "python",
   "nbconvert_exporter": "python",
   "pygments_lexer": "ipython3",
   "version": "3.8.5"
  },
  "toc": {
   "base_numbering": 1,
   "nav_menu": {},
   "number_sections": true,
   "sideBar": true,
   "skip_h1_title": false,
   "title_cell": "Table of Contents",
   "title_sidebar": "Contents",
   "toc_cell": false,
   "toc_position": {},
   "toc_section_display": true,
   "toc_window_display": false
  },
  "varInspector": {
   "cols": {
    "lenName": 16,
    "lenType": 16,
    "lenVar": 40
   },
   "kernels_config": {
    "python": {
     "delete_cmd_postfix": "",
     "delete_cmd_prefix": "del ",
     "library": "var_list.py",
     "varRefreshCmd": "print(var_dic_list())"
    },
    "r": {
     "delete_cmd_postfix": ") ",
     "delete_cmd_prefix": "rm(",
     "library": "var_list.r",
     "varRefreshCmd": "cat(var_dic_list()) "
    }
   },
   "types_to_exclude": [
    "module",
    "function",
    "builtin_function_or_method",
    "instance",
    "_Feature"
   ],
   "window_display": false
  }
 },
 "nbformat": 4,
 "nbformat_minor": 4
}
