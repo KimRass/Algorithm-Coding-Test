{
 "cells": [
  {
   "cell_type": "markdown",
   "metadata": {},
   "source": [
    "Written by KimRass\n",
    "- Source: https://www.acmicpc.net/problem/11653"
   ]
  },
  {
   "cell_type": "code",
   "execution_count": 20,
   "metadata": {
    "ExecuteTime": {
     "end_time": "2021-12-14T03:57:57.605036Z",
     "start_time": "2021-12-14T03:57:56.000744Z"
    }
   },
   "outputs": [
    {
     "name": "stdout",
     "output_type": "stream",
     "text": [
      "9991\n",
      "97\n",
      "103\n"
     ]
    }
   ],
   "source": [
    "N = int(input())\n",
    "\n",
    "if N == 1:\n",
    "    pass\n",
    "else:\n",
    "    n = int(N**0.5)\n",
    "    primes = {i for i in range(2, n + 1)}\n",
    "    for i in range(2, int(n**0.5) + 1):\n",
    "        if i in primes:\n",
    "            primes -= {j for j in range(2*i, n + 1, i)}\n",
    "\n",
    "    for i in sorted(list(primes)):\n",
    "        while N != 1 and N%i == 0:\n",
    "            N //= i\n",
    "            print(i)\n",
    "    if N != 1:\n",
    "        print(N)"
   ]
  }
 ],
 "metadata": {
  "kernelspec": {
   "display_name": "Python 3",
   "language": "python",
   "name": "python3"
  },
  "language_info": {
   "codemirror_mode": {
    "name": "ipython",
    "version": 3
   },
   "file_extension": ".py",
   "mimetype": "text/x-python",
   "name": "python",
   "nbconvert_exporter": "python",
   "pygments_lexer": "ipython3",
   "version": "3.7.7"
  },
  "toc": {
   "base_numbering": 1,
   "nav_menu": {},
   "number_sections": true,
   "sideBar": true,
   "skip_h1_title": false,
   "title_cell": "Table of Contents",
   "title_sidebar": "Contents",
   "toc_cell": false,
   "toc_position": {},
   "toc_section_display": true,
   "toc_window_display": false
  }
 },
 "nbformat": 4,
 "nbformat_minor": 4
}
