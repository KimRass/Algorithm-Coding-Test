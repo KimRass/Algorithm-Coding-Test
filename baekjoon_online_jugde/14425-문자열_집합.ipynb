{
 "cells": [
  {
   "cell_type": "markdown",
   "metadata": {},
   "source": [
    "Written by KimRass\n",
    "- Source: https://www.acmicpc.net/problem/14425\n",
    "\n",
    "# Using Python Dictionary"
   ]
  },
  {
   "cell_type": "code",
   "execution_count": 2,
   "metadata": {
    "ExecuteTime": {
     "end_time": "2021-11-27T15:24:20.608849Z",
     "start_time": "2021-11-27T15:23:49.722036Z"
    }
   },
   "outputs": [
    {
     "name": "stdout",
     "output_type": "stream",
     "text": [
      "5 11\n",
      "baekj\n",
      "startlink\n",
      "codeplus\n",
      "sundaycoding\n",
      "codingsh\n",
      "bae\n",
      "code\n",
      "startlink\n",
      "startlink\n",
      "startlink\n",
      "startlink\n",
      "startlink\n",
      "startlink\n",
      "startlink\n",
      "startlink\n",
      "startlink\n"
     ]
    }
   ],
   "source": [
    "N, M = list(map(int, input().split()))\n",
    "dic = dict()\n",
    "for _ in range(N):\n",
    "    dic[input()] = True\n",
    "cnt = 0\n",
    "for _ in range(M):\n",
    "    if input() in dic:\n",
    "        cnt += 1\n",
    "\n",
    "print(cnt)"
   ]
  },
  {
   "cell_type": "markdown",
   "metadata": {
    "ExecuteTime": {
     "end_time": "2021-11-27T15:24:22.912371Z",
     "start_time": "2021-11-27T15:24:22.882487Z"
    }
   },
   "source": [
    "# Using Trie Data Structure"
   ]
  },
  {
   "cell_type": "code",
   "execution_count": 5,
   "metadata": {
    "ExecuteTime": {
     "end_time": "2021-11-27T15:34:32.899986Z",
     "start_time": "2021-11-27T15:34:21.741724Z"
    }
   },
   "outputs": [
    {
     "name": "stdout",
     "output_type": "stream",
     "text": [
      "3 2\n",
      "start\n",
      "joon\n",
      "abck\n",
      "abc\n",
      "abck\n"
     ]
    }
   ],
   "source": [
    "class Node():\n",
    "    def __init__(self, key, flag=None):\n",
    "        self.key = key\n",
    "        self.flag = flag\n",
    "        self.child = dict()\n",
    "        \n",
    "class Trie():\n",
    "    def __init__(self):\n",
    "        self.head = Node(None)\n",
    "    def insert(self, word):\n",
    "        cur_node = self.head\n",
    "        for char in word:\n",
    "            if char not in cur_node.child:\n",
    "                cur_node.child[char] = Node(char)\n",
    "            cur_node = cur_node.child[char]\n",
    "        cur_node.flag = word\n",
    "    def search(self, word):\n",
    "        cur_node = self.head\n",
    "        for char in word:\n",
    "            if char in cur_node.child:\n",
    "                cur_node = cur_node.child[char]\n",
    "            else:\n",
    "                return False\n",
    "        if cur_node.flag == word:\n",
    "            return True\n",
    "        else:\n",
    "            return False\n",
    "    \n",
    "N, M = list(map(int, input().split()))\n",
    "trie = Trie()\n",
    "for _ in range(N):\n",
    "    trie.insert(input())\n",
    "cnt = 0\n",
    "for _ in range(M):\n",
    "    if trie.search(input()):\n",
    "        cnt += 1\n",
    "        \n",
    "print(cnt)"
   ]
  },
  {
   "cell_type": "code",
   "execution_count": 9,
   "metadata": {
    "ExecuteTime": {
     "end_time": "2021-11-27T15:36:31.271668Z",
     "start_time": "2021-11-27T15:36:31.243749Z"
    }
   },
   "outputs": [
    {
     "ename": "TypeError",
     "evalue": "'Node' object is not callable",
     "output_type": "error",
     "traceback": [
      "\u001b[1;31m---------------------------------------------------------------------------\u001b[0m",
      "\u001b[1;31mTypeError\u001b[0m                                 Traceback (most recent call last)",
      "\u001b[1;32m<ipython-input-9-c37300f4b90f>\u001b[0m in \u001b[0;36m<module>\u001b[1;34m\u001b[0m\n\u001b[1;32m----> 1\u001b[1;33m \u001b[0mtrie\u001b[0m\u001b[1;33m.\u001b[0m\u001b[0mhead\u001b[0m\u001b[1;33m(\u001b[0m\u001b[1;33m)\u001b[0m\u001b[1;33m\u001b[0m\u001b[1;33m\u001b[0m\u001b[0m\n\u001b[0m",
      "\u001b[1;31mTypeError\u001b[0m: 'Node' object is not callable"
     ]
    }
   ],
   "source": [
    "trie.head()"
   ]
  },
  {
   "cell_type": "code",
   "execution_count": null,
   "metadata": {},
   "outputs": [],
   "source": []
  }
 ],
 "metadata": {
  "hide_input": false,
  "kernelspec": {
   "display_name": "Python 3",
   "language": "python",
   "name": "python3"
  },
  "language_info": {
   "codemirror_mode": {
    "name": "ipython",
    "version": 3
   },
   "file_extension": ".py",
   "mimetype": "text/x-python",
   "name": "python",
   "nbconvert_exporter": "python",
   "pygments_lexer": "ipython3",
   "version": "3.8.5"
  },
  "toc": {
   "base_numbering": 1,
   "nav_menu": {},
   "number_sections": true,
   "sideBar": true,
   "skip_h1_title": false,
   "title_cell": "Table of Contents",
   "title_sidebar": "Contents",
   "toc_cell": false,
   "toc_position": {},
   "toc_section_display": true,
   "toc_window_display": false
  },
  "varInspector": {
   "cols": {
    "lenName": 16,
    "lenType": 16,
    "lenVar": 40
   },
   "kernels_config": {
    "python": {
     "delete_cmd_postfix": "",
     "delete_cmd_prefix": "del ",
     "library": "var_list.py",
     "varRefreshCmd": "print(var_dic_list())"
    },
    "r": {
     "delete_cmd_postfix": ") ",
     "delete_cmd_prefix": "rm(",
     "library": "var_list.r",
     "varRefreshCmd": "cat(var_dic_list()) "
    }
   },
   "types_to_exclude": [
    "module",
    "function",
    "builtin_function_or_method",
    "instance",
    "_Feature"
   ],
   "window_display": false
  }
 },
 "nbformat": 4,
 "nbformat_minor": 4
}
