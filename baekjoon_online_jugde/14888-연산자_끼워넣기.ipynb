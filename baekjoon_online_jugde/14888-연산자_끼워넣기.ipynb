{
 "cells": [
  {
   "cell_type": "markdown",
   "metadata": {},
   "source": [
    "Written by KimRass\n",
    "- Source: https://www.acmicpc.net/problem/14888"
   ]
  },
  {
   "cell_type": "code",
   "execution_count": 20,
   "metadata": {
    "ExecuteTime": {
     "end_time": "2021-09-21T18:47:20.685366Z",
     "start_time": "2021-09-21T18:47:11.976263Z"
    }
   },
   "outputs": [
    {
     "name": "stdout",
     "output_type": "stream",
     "text": [
      "6\n",
      "1 2 3 4 5 6\n",
      "2 1 1 1\n",
      "54\n",
      "-24\n"
     ]
    }
   ],
   "source": [
    "from itertools import permutations\n",
    "\n",
    "N = int(input())\n",
    "nums = list(map(int, input().split()))\n",
    "cnts = list(map(int, input().split()))\n",
    "\n",
    "string = \"\"\n",
    "for a, b in zip([\"+\", \"-\", \"*\", \"/\"], cnts):\n",
    "    string += a*b\n",
    "\n",
    "minim = 1000000000\n",
    "maxim = -1000000000\n",
    "for signs in set(list(permutations(string))):\n",
    "    res = nums[0]\n",
    "    for num, sign in zip(nums[1:], signs):\n",
    "        if sign == \"+\":\n",
    "            res += num\n",
    "        elif sign == \"-\":\n",
    "            res -= num\n",
    "        elif sign == \"*\":\n",
    "            res *= num\n",
    "        else:\n",
    "            if res < 0:\n",
    "                res = -(abs(res)//num)\n",
    "            else:\n",
    "                res //= num\n",
    "    minim = min(minim, res)\n",
    "    maxim = max(maxim, res)\n",
    "\n",
    "print(maxim, minim, sep=\"\\n\")"
   ]
  }
 ],
 "metadata": {
  "hide_input": false,
  "kernelspec": {
   "display_name": "Python 3",
   "language": "python",
   "name": "python3"
  },
  "toc": {
   "base_numbering": 1,
   "nav_menu": {},
   "number_sections": true,
   "sideBar": true,
   "skip_h1_title": false,
   "title_cell": "Table of Contents",
   "title_sidebar": "Contents",
   "toc_cell": false,
   "toc_position": {},
   "toc_section_display": true,
   "toc_window_display": false
  },
  "varInspector": {
   "cols": {
    "lenName": 16,
    "lenType": 16,
    "lenVar": 40
   },
   "kernels_config": {
    "python": {
     "delete_cmd_postfix": "",
     "delete_cmd_prefix": "del ",
     "library": "var_list.py",
     "varRefreshCmd": "print(var_dic_list())"
    },
    "r": {
     "delete_cmd_postfix": ") ",
     "delete_cmd_prefix": "rm(",
     "library": "var_list.r",
     "varRefreshCmd": "cat(var_dic_list()) "
    }
   },
   "types_to_exclude": [
    "module",
    "function",
    "builtin_function_or_method",
    "instance",
    "_Feature"
   ],
   "window_display": false
  }
 },
 "nbformat": 4,
 "nbformat_minor": 4
}
