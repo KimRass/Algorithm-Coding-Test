{
 "cells": [
  {
   "cell_type": "markdown",
   "metadata": {},
   "source": [
    "Written by KimRass\n",
    "- Source: https://www.acmicpc.net/problem/1259"
   ]
  },
  {
   "cell_type": "code",
   "execution_count": 2,
   "metadata": {
    "ExecuteTime": {
     "end_time": "2021-09-27T07:33:01.094836Z",
     "start_time": "2021-09-27T07:32:53.880165Z"
    }
   },
   "outputs": [
    {
     "name": "stdout",
     "output_type": "stream",
     "text": [
      "121\n",
      "yes\n",
      "1231\n",
      "no\n",
      "12421\n",
      "yes\n",
      "0\n"
     ]
    }
   ],
   "source": [
    "while True:\n",
    "    string = input()\n",
    "    if string == \"0\":\n",
    "        break\n",
    "    else:\n",
    "        left = 0\n",
    "        right = len(string) - 1\n",
    "        while left < right:\n",
    "            if string[left] == string[right]:\n",
    "                left += 1\n",
    "                right -= 1\n",
    "            else:\n",
    "                print(\"no\")\n",
    "                break\n",
    "        else:\n",
    "            print(\"yes\")"
   ]
  }
 ],
 "metadata": {
  "kernelspec": {
   "display_name": "Python 3",
   "language": "python",
   "name": "python3"
  },
  "language_info": {
   "codemirror_mode": {
    "name": "ipython",
    "version": 3
   },
   "file_extension": ".py",
   "mimetype": "text/x-python",
   "name": "python",
   "nbconvert_exporter": "python",
   "pygments_lexer": "ipython3",
   "version": "3.7.7"
  },
  "toc": {
   "base_numbering": 1,
   "nav_menu": {},
   "number_sections": true,
   "sideBar": true,
   "skip_h1_title": false,
   "title_cell": "Table of Contents",
   "title_sidebar": "Contents",
   "toc_cell": false,
   "toc_position": {},
   "toc_section_display": true,
   "toc_window_display": false
  }
 },
 "nbformat": 4,
 "nbformat_minor": 4
}
