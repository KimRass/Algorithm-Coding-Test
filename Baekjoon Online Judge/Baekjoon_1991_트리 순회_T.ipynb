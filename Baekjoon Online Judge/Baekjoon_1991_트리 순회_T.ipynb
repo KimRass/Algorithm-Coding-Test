{
 "cells": [
  {
   "cell_type": "markdown",
   "metadata": {},
   "source": [
    "Written by KimRass\n",
    "- Source: https://www.acmicpc.net/problem/1991"
   ]
  },
  {
   "cell_type": "code",
   "execution_count": 43,
   "metadata": {
    "ExecuteTime": {
     "end_time": "2021-10-07T09:02:23.722784Z",
     "start_time": "2021-10-07T09:02:11.111516Z"
    }
   },
   "outputs": [
    {
     "name": "stdout",
     "output_type": "stream",
     "text": [
      "7\n",
      "A B C\n",
      "B D .\n",
      "C E F\n",
      "E . .\n",
      "F . G\n",
      "D . .\n",
      "G . .\n",
      "ABDCEFG\n",
      "DBAECFG\n",
      "DBEGFCA"
     ]
    }
   ],
   "source": [
    "N = int(input())\n",
    "tree = dict()\n",
    "for _ in range(N):\n",
    "    parent, left, right = input().split()\n",
    "    tree[parent] = (left, right)\n",
    "\n",
    "root = \"A\"\n",
    "def preorder(node):\n",
    "    if node != \".\":\n",
    "        left, right = tree[node]\n",
    "        print(node, end=\"\")\n",
    "        preorder(left)\n",
    "        preorder(right)\n",
    "        \n",
    "def inorder(node):\n",
    "    if node != \".\":\n",
    "        left, right = tree[node]\n",
    "        inorder(left)\n",
    "        print(node, end=\"\")\n",
    "        inorder(right)\n",
    "        \n",
    "def postorder(node):\n",
    "    if node != \".\":\n",
    "        left, right = tree[node]\n",
    "        postorder(left)\n",
    "        postorder(right)\n",
    "        print(node, end=\"\")\n",
    "\n",
    "preorder(root)\n",
    "print(\"\")\n",
    "inorder(root)\n",
    "print(\"\")\n",
    "postorder(root)"
   ]
  }
 ],
 "metadata": {
  "hide_input": false,
  "kernelspec": {
   "display_name": "Python 3",
   "language": "python",
   "name": "python3"
  },
  "language_info": {
   "codemirror_mode": {
    "name": "ipython",
    "version": 3
   },
   "file_extension": ".py",
   "mimetype": "text/x-python",
   "name": "python",
   "nbconvert_exporter": "python",
   "pygments_lexer": "ipython3",
   "version": "3.8.5"
  },
  "toc": {
   "base_numbering": 1,
   "nav_menu": {},
   "number_sections": true,
   "sideBar": true,
   "skip_h1_title": false,
   "title_cell": "Table of Contents",
   "title_sidebar": "Contents",
   "toc_cell": false,
   "toc_position": {},
   "toc_section_display": true,
   "toc_window_display": false
  },
  "varInspector": {
   "cols": {
    "lenName": 16,
    "lenType": 16,
    "lenVar": 40
   },
   "kernels_config": {
    "python": {
     "delete_cmd_postfix": "",
     "delete_cmd_prefix": "del ",
     "library": "var_list.py",
     "varRefreshCmd": "print(var_dic_list())"
    },
    "r": {
     "delete_cmd_postfix": ") ",
     "delete_cmd_prefix": "rm(",
     "library": "var_list.r",
     "varRefreshCmd": "cat(var_dic_list()) "
    }
   },
   "types_to_exclude": [
    "module",
    "function",
    "builtin_function_or_method",
    "instance",
    "_Feature"
   ],
   "window_display": false
  }
 },
 "nbformat": 4,
 "nbformat_minor": 4
}
