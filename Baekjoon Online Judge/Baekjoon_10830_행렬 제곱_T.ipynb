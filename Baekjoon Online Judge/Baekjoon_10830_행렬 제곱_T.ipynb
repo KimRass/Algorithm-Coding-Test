{
 "cells": [
  {
   "cell_type": "markdown",
   "metadata": {},
   "source": [
    "Written by KimRass\n",
    "- Source: https://www.acmicpc.net/problem/10830"
   ]
  },
  {
   "cell_type": "code",
   "execution_count": 81,
   "metadata": {
    "ExecuteTime": {
     "end_time": "2021-10-21T14:10:39.468521Z",
     "start_time": "2021-10-21T14:10:24.208928Z"
    }
   },
   "outputs": [
    {
     "name": "stdout",
     "output_type": "stream",
     "text": [
      "3 999999999\n",
      "1 2 3\n",
      "4 5 6\n",
      "7 8 9\n",
      "232 104 976 \n",
      "118 625 132 \n",
      "4 146 288 \n"
     ]
    }
   ],
   "source": [
    "from itertools import product\n",
    "\n",
    "N, B = list(map(int, input().split()))\n",
    "A = list()\n",
    "for _ in range(N):\n",
    "    A.append(list(map(int, input().split())))\n",
    "\n",
    "def square(A, B):\n",
    "    global const, mem\n",
    "    if B in mem:\n",
    "        return mem[B]\n",
    "    else:\n",
    "        if B == 1:\n",
    "            mem[1] = [[col%const for col in row] for row in A]\n",
    "            return mem[1]\n",
    "        else:\n",
    "            res = [[0 for _ in range(N)] for _ in range(N)]\n",
    "            for i, j in product(range(N), range(N)):\n",
    "                summ = 0\n",
    "                row = square(A, B//2)[i]\n",
    "                col = [i[j] for i in square(A, B - B//2)]\n",
    "                for k in range(N):\n",
    "                    summ += row[k]*col[k]\n",
    "                else:\n",
    "                    res[i][j] = summ%const\n",
    "            mem[B] = res\n",
    "            return mem[B]\n",
    "\n",
    "const = 1000\n",
    "mem = dict()\n",
    "\n",
    "res = square(A, B)\n",
    "for i in range(N):\n",
    "    for j in range(N):\n",
    "        print(res[i][j], end=\" \")\n",
    "        if j == N - 1:\n",
    "            print()"
   ]
  }
 ],
 "metadata": {
  "hide_input": false,
  "kernelspec": {
   "display_name": "Python 3",
   "language": "python",
   "name": "python3"
  },
  "language_info": {
   "codemirror_mode": {
    "name": "ipython",
    "version": 3
   },
   "file_extension": ".py",
   "mimetype": "text/x-python",
   "name": "python",
   "nbconvert_exporter": "python",
   "pygments_lexer": "ipython3",
   "version": "3.8.5"
  },
  "toc": {
   "base_numbering": 1,
   "nav_menu": {},
   "number_sections": true,
   "sideBar": true,
   "skip_h1_title": false,
   "title_cell": "Table of Contents",
   "title_sidebar": "Contents",
   "toc_cell": false,
   "toc_position": {},
   "toc_section_display": true,
   "toc_window_display": false
  },
  "varInspector": {
   "cols": {
    "lenName": 16,
    "lenType": 16,
    "lenVar": 40
   },
   "kernels_config": {
    "python": {
     "delete_cmd_postfix": "",
     "delete_cmd_prefix": "del ",
     "library": "var_list.py",
     "varRefreshCmd": "print(var_dic_list())"
    },
    "r": {
     "delete_cmd_postfix": ") ",
     "delete_cmd_prefix": "rm(",
     "library": "var_list.r",
     "varRefreshCmd": "cat(var_dic_list()) "
    }
   },
   "types_to_exclude": [
    "module",
    "function",
    "builtin_function_or_method",
    "instance",
    "_Feature"
   ],
   "window_display": false
  }
 },
 "nbformat": 4,
 "nbformat_minor": 4
}
