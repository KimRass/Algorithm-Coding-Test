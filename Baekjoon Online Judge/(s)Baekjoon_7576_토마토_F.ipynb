{
 "cells": [
  {
   "cell_type": "markdown",
   "metadata": {},
   "source": [
    "Written by KimRass\n",
    "- Source: https://www.acmicpc.net/problem/7576"
   ]
  },
  {
   "cell_type": "code",
   "execution_count": 64,
   "metadata": {
    "ExecuteTime": {
     "end_time": "2021-10-10T12:35:57.720534Z",
     "start_time": "2021-10-10T12:35:44.278793Z"
    }
   },
   "outputs": [
    {
     "name": "stdout",
     "output_type": "stream",
     "text": [
      "6 4\n",
      "0 -1 0 0 0 0\n",
      "-1 0 0 0 0 0\n",
      "0 0 0 0 0 0\n",
      "0 0 0 0 0 1\n",
      "6\n"
     ]
    }
   ],
   "source": [
    "# import sys\n",
    "\n",
    "# from collections import deque\n",
    "\n",
    "# M, N = list(map(int, input().split()))\n",
    "# box = {(i, j):0 for i in range(N) for j in range(M)}\n",
    "# visited = dict()\n",
    "# dq = deque()\n",
    "# for i in range(N):\n",
    "# #     for j, stat in enumerate(list(map(int, input().split()))):\n",
    "#     for j, stat in enumerate(list(map(int, sys.stdin.readline().rstrip().split()))):\n",
    "#         box[(i, j)] = stat\n",
    "#         visited[(i, j)] = False\n",
    "#         if stat == 1:\n",
    "#             dq.append(((i, j), 0))\n",
    "\n",
    "# while dq:\n",
    "#     (a, b), day = dq.popleft()\n",
    "#     start = (a, b)\n",
    "#     if visited[start] == False and box[start] != -1:\n",
    "#         visited[start] = True\n",
    "#         if a <= N - 2:\n",
    "#             dq.append(((a + 1, b), day + 1))\n",
    "#         if a >= 1:\n",
    "#             dq.append(((a - 1, b), day + 1))\n",
    "#         if b <= M - 2:\n",
    "#             dq.append(((a, b + 1), day + 1))\n",
    "#         if b >= 1:\n",
    "#             dq.append(((a, b - 1), day + 1))\n",
    "            \n",
    "# for tomato in box:\n",
    "#     if box[tomato] != -1 and visited[tomato] == False:\n",
    "#         print(-1)\n",
    "#         break\n",
    "# else:\n",
    "#     print(day - 1)"
   ]
  },
  {
   "cell_type": "code",
   "execution_count": 94,
   "metadata": {
    "ExecuteTime": {
     "end_time": "2021-10-10T12:53:55.473740Z",
     "start_time": "2021-10-10T12:53:41.574600Z"
    }
   },
   "outputs": [
    {
     "name": "stdout",
     "output_type": "stream",
     "text": [
      "6 4\n",
      "1 -1 0 0 0 0\n",
      "0 -1 0 0 0 0\n",
      "0 0 0 0 -1 0\n",
      "0 0 0 0 -1 1\n"
     ]
    }
   ],
   "source": [
    "import sys\n",
    "from collections import deque\n",
    "\n",
    "M, N = list(map(int, input().split()))\n",
    "box = {(i, j):0 for i in range(N) for j in range(M)}\n",
    "visited = dict()\n",
    "dq = deque()\n",
    "for i in range(N):\n",
    "#     for j, stat in enumerate(list(map(int, input().split()))):\n",
    "    for j, stat in enumerate(list(map(int, sys.stdin.readline().rstrip().split()))):\n",
    "        box[(i, j)] = stat\n",
    "        visited[(i, j)] = False\n",
    "        if stat == 1:\n",
    "            dq.append(((i, j), 0))\n",
    "\n",
    "# dq = deque([(i, 0) for i, j in box.items() if j == 1])\n",
    "# visited = {(i, j):False for i in range(N) for j in range(M)}\n",
    "\n",
    "while dq:\n",
    "    (a, b), day = dq.popleft()\n",
    "    start = (a, b)\n",
    "    if visited[start] == False and box[start] != -1:\n",
    "#         print(start, day, dq)\n",
    "        visited[start] = True\n",
    "        if a <= N - 2 and visited[(a + 1, b)] == False and box[(a + 1, b)] != -1:\n",
    "            dq.append(((a + 1, b), day + 1))\n",
    "        if a >= 1 and visited[(a - 1, b)] == False and box[(a - 1, b)] != -1:\n",
    "            dq.append(((a - 1, b), day + 1))\n",
    "        if b <= M - 2 and visited[(a, b + 1)] == False and box[(a, b + 1)] != -1:\n",
    "            dq.append(((a, b + 1), day + 1))\n",
    "        if b >= 1 and visited[(a, b - 1)] == False and box[(a, b - 1)] != -1:\n",
    "            dq.append(((a, b - 1), day + 1))\n",
    "\n",
    "for tomato in box:\n",
    "    if box[tomato] != -1 and visited[tomato] == False:\n",
    "        print(-1)\n",
    "        break\n",
    "else:\n",
    "    print(day - 1)"
   ]
  },
  {
   "cell_type": "code",
   "execution_count": null,
   "metadata": {},
   "outputs": [],
   "source": [
    "1 2 0 0 0 1\n",
    "1 2 0 0 1 1\n",
    "1 1 0 0 2 1\n",
    "1 0 0 0 2 1: 3일"
   ]
  },
  {
   "cell_type": "code",
   "execution_count": null,
   "metadata": {},
   "outputs": [],
   "source": [
    "1 2 0 0 1 1\n",
    "1 2 0 1 1 1\n",
    "1 1 1 0 2 1\n",
    "1 1 0 0 2 1: 4일"
   ]
  },
  {
   "cell_type": "code",
   "execution_count": null,
   "metadata": {},
   "outputs": [],
   "source": [
    "1 2 0 1 1 1\n",
    "1 2 1 1 1 1\n",
    "1 1 1 1 2 1\n",
    "1 1 1 0 2 1: 5일"
   ]
  }
 ],
 "metadata": {
  "hide_input": false,
  "kernelspec": {
   "display_name": "Python 3",
   "language": "python",
   "name": "python3"
  },
  "language_info": {
   "codemirror_mode": {
    "name": "ipython",
    "version": 3
   },
   "file_extension": ".py",
   "mimetype": "text/x-python",
   "name": "python",
   "nbconvert_exporter": "python",
   "pygments_lexer": "ipython3",
   "version": "3.8.5"
  },
  "toc": {
   "base_numbering": 1,
   "nav_menu": {},
   "number_sections": true,
   "sideBar": true,
   "skip_h1_title": false,
   "title_cell": "Table of Contents",
   "title_sidebar": "Contents",
   "toc_cell": false,
   "toc_position": {},
   "toc_section_display": true,
   "toc_window_display": false
  },
  "varInspector": {
   "cols": {
    "lenName": 16,
    "lenType": 16,
    "lenVar": 40
   },
   "kernels_config": {
    "python": {
     "delete_cmd_postfix": "",
     "delete_cmd_prefix": "del ",
     "library": "var_list.py",
     "varRefreshCmd": "print(var_dic_list())"
    },
    "r": {
     "delete_cmd_postfix": ") ",
     "delete_cmd_prefix": "rm(",
     "library": "var_list.r",
     "varRefreshCmd": "cat(var_dic_list()) "
    }
   },
   "types_to_exclude": [
    "module",
    "function",
    "builtin_function_or_method",
    "instance",
    "_Feature"
   ],
   "window_display": false
  }
 },
 "nbformat": 4,
 "nbformat_minor": 4
}
