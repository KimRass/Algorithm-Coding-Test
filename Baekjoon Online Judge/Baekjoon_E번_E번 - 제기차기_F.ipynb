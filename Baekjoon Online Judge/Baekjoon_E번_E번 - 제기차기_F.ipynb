{
 "cells": [
  {
   "cell_type": "markdown",
   "metadata": {},
   "source": [
    "Written by KimRass\n",
    "- Source: https://www.acmicpc.net/contest/problem/741/6"
   ]
  },
  {
   "cell_type": "code",
   "execution_count": null,
   "metadata": {},
   "outputs": [],
   "source": [
    "5\n",
    "3 6 10 1 12\n",
    "1 2 3 34"
   ]
  },
  {
   "cell_type": "code",
   "execution_count": 63,
   "metadata": {
    "ExecuteTime": {
     "end_time": "2021-12-12T13:29:46.000214Z",
     "start_time": "2021-12-12T13:29:40.560763Z"
    }
   },
   "outputs": [
    {
     "name": "stdout",
     "output_type": "stream",
     "text": [
      "5\n",
      "3 6 10 1 12\n",
      "1 2 3 34\n",
      "-3 5 13 34 34\n",
      "-3 0 4 29 34\n",
      "1 2 4 31 34\n",
      "3 3 4 32 34\n",
      "4 4 4 34 34\n",
      "4\n"
     ]
    }
   ],
   "source": [
    "N = int(input())\n",
    "arr = list(map(int, input().split()))\n",
    "p, q, r, S = list(map(int, input().split()))\n",
    "\n",
    "arr = sorted(arr)\n",
    "\n",
    "left = arr[0] - r - 1\n",
    "right = arr[-1] + 1\n",
    "while left <= right:\n",
    "    K = (left + right)//2\n",
    "    new_arr = [i - p if i > K + r else (i + q if i < K else i) for i in arr]\n",
    "    summ = sum(new_arr)\n",
    "\n",
    "    print(left, K, right, summ, S)\n",
    "    if summ >= S:\n",
    "        right = K - 1\n",
    "    else:\n",
    "        left = K + 1\n",
    "print(K if summ >= S else -1)"
   ]
  },
  {
   "cell_type": "code",
   "execution_count": 57,
   "metadata": {
    "ExecuteTime": {
     "end_time": "2021-12-12T13:26:48.508881Z",
     "start_time": "2021-12-12T13:26:48.498908Z"
    }
   },
   "outputs": [
    {
     "name": "stdout",
     "output_type": "stream",
     "text": [
      "[1, 5, 7]\n",
      "13\n",
      "29\n",
      "False\n"
     ]
    }
   ],
   "source": [
    "K = -5\n",
    "new_arr = [i - p if i > K + r else (i + q if i < K else i) for i in arr]\n",
    "print(new_arr)\n",
    "print(sum(new_arr))\n",
    "print(S)\n",
    "print(sum(new_arr) >= S)"
   ]
  }
 ],
 "metadata": {
  "hide_input": false,
  "kernelspec": {
   "display_name": "Python 3",
   "language": "python",
   "name": "python3"
  },
  "language_info": {
   "codemirror_mode": {
    "name": "ipython",
    "version": 3
   },
   "file_extension": ".py",
   "mimetype": "text/x-python",
   "name": "python",
   "nbconvert_exporter": "python",
   "pygments_lexer": "ipython3",
   "version": "3.8.5"
  },
  "toc": {
   "base_numbering": 1,
   "nav_menu": {},
   "number_sections": true,
   "sideBar": true,
   "skip_h1_title": false,
   "title_cell": "Table of Contents",
   "title_sidebar": "Contents",
   "toc_cell": false,
   "toc_position": {},
   "toc_section_display": true,
   "toc_window_display": false
  },
  "varInspector": {
   "cols": {
    "lenName": 16,
    "lenType": 16,
    "lenVar": 40
   },
   "kernels_config": {
    "python": {
     "delete_cmd_postfix": "",
     "delete_cmd_prefix": "del ",
     "library": "var_list.py",
     "varRefreshCmd": "print(var_dic_list())"
    },
    "r": {
     "delete_cmd_postfix": ") ",
     "delete_cmd_prefix": "rm(",
     "library": "var_list.r",
     "varRefreshCmd": "cat(var_dic_list()) "
    }
   },
   "types_to_exclude": [
    "module",
    "function",
    "builtin_function_or_method",
    "instance",
    "_Feature"
   ],
   "window_display": false
  }
 },
 "nbformat": 4,
 "nbformat_minor": 4
}
