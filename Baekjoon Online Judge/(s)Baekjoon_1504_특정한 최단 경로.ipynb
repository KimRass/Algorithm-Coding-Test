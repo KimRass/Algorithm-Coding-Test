{
 "cells": [
  {
   "cell_type": "code",
   "execution_count": null,
   "metadata": {},
   "outputs": [],
   "source": [
    "4 6\n",
    "1 2 3\n",
    "2 3 3\n",
    "3 4 1\n",
    "1 3 5\n",
    "2 4 5\n",
    "1 4 4\n",
    "2 3"
   ]
  },
  {
   "cell_type": "code",
   "execution_count": 2,
   "metadata": {
    "ExecuteTime": {
     "end_time": "2021-10-15T08:17:55.985243Z",
     "start_time": "2021-10-15T08:17:46.984304Z"
    }
   },
   "outputs": [
    {
     "name": "stdout",
     "output_type": "stream",
     "text": [
      "4 6\n",
      "1 2 3\n",
      "2 3 3\n",
      "3 4 1\n",
      "1 3 5\n",
      "2 4 5\n",
      "1 4 4\n",
      "2 3\n"
     ]
    }
   ],
   "source": [
    "N, E = list(map(int, input().split()))\n",
    "graph = {i:list() for i in range(1, N + 1)}\n",
    "for _ in range(E):\n",
    "    a, b, c = list(map(int, input().split()))\n",
    "    graph[a].append((c, b))\n",
    "    graph[b].append((c, a))\n",
    "v1, v2 = list(map(int, input().split()))"
   ]
  },
  {
   "cell_type": "code",
   "execution_count": 5,
   "metadata": {
    "ExecuteTime": {
     "end_time": "2021-10-15T08:35:13.726292Z",
     "start_time": "2021-10-15T08:35:13.720337Z"
    }
   },
   "outputs": [
    {
     "data": {
      "text/plain": [
       "{1: [(3, 2), (5, 3), (4, 4)],\n",
       " 2: [(3, 1), (3, 3), (5, 4)],\n",
       " 3: [(3, 2), (1, 4), (5, 1)],\n",
       " 4: [(1, 3), (5, 2), (4, 1)]}"
      ]
     },
     "execution_count": 5,
     "metadata": {},
     "output_type": "execute_result"
    }
   ],
   "source": [
    "graph"
   ]
  },
  {
   "cell_type": "code",
   "execution_count": 13,
   "metadata": {
    "ExecuteTime": {
     "end_time": "2021-10-15T08:38:57.059771Z",
     "start_time": "2021-10-15T08:38:57.051793Z"
    }
   },
   "outputs": [
    {
     "name": "stdout",
     "output_type": "stream",
     "text": [
      "1 2 3\n",
      "1 3 5\n",
      "1 4 4\n"
     ]
    }
   ],
   "source": [
    "import math\n",
    "import heapq as hq\n",
    "\n",
    "start = 1\n",
    "min_dists = {i:math.inf for i in range(1, N + 1)}\n",
    "min_dists[start] = 0\n",
    "hp = list()\n",
    "hq.heappush(hp, (min_dists[start], start))\n",
    "\n",
    "while hp:\n",
    "    cur_dist, cur_node = hq.heappop(hp)\n",
    "    if cur_dist > min_dists[cur_node]:\n",
    "        continue\n",
    "    else:\n",
    "        for next_dist, next_node in graph[cur_node]:\n",
    "            new_dist = cur_dist + next_dist\n",
    "            if new_dist < min_dists[next_node]:\n",
    "                min_dists[next_node] = new_dist\n",
    "                print(cur_node, next_node, new_dist)\n",
    "                hq.heappush(hp, (min_dists[next_node], next_node))"
   ]
  },
  {
   "cell_type": "code",
   "execution_count": 14,
   "metadata": {
    "ExecuteTime": {
     "end_time": "2021-10-15T08:38:57.305125Z",
     "start_time": "2021-10-15T08:38:57.301147Z"
    }
   },
   "outputs": [
    {
     "data": {
      "text/plain": [
       "{1: 0, 2: 3, 3: 5, 4: 4}"
      ]
     },
     "execution_count": 14,
     "metadata": {},
     "output_type": "execute_result"
    }
   ],
   "source": [
    "min_dists"
   ]
  },
  {
   "cell_type": "code",
   "execution_count": 11,
   "metadata": {
    "ExecuteTime": {
     "end_time": "2021-10-15T08:37:25.498740Z",
     "start_time": "2021-10-15T08:37:25.493753Z"
    }
   },
   "outputs": [
    {
     "data": {
      "text/plain": [
       "4"
      ]
     },
     "execution_count": 11,
     "metadata": {},
     "output_type": "execute_result"
    }
   ],
   "source": [
    "min_dists[N]"
   ]
  }
 ],
 "metadata": {
  "hide_input": false,
  "kernelspec": {
   "display_name": "Python 3",
   "language": "python",
   "name": "python3"
  },
  "language_info": {
   "codemirror_mode": {
    "name": "ipython",
    "version": 3
   },
   "file_extension": ".py",
   "mimetype": "text/x-python",
   "name": "python",
   "nbconvert_exporter": "python",
   "pygments_lexer": "ipython3",
   "version": "3.8.5"
  },
  "toc": {
   "base_numbering": 1,
   "nav_menu": {},
   "number_sections": true,
   "sideBar": true,
   "skip_h1_title": false,
   "title_cell": "Table of Contents",
   "title_sidebar": "Contents",
   "toc_cell": false,
   "toc_position": {},
   "toc_section_display": true,
   "toc_window_display": false
  },
  "varInspector": {
   "cols": {
    "lenName": 16,
    "lenType": 16,
    "lenVar": 40
   },
   "kernels_config": {
    "python": {
     "delete_cmd_postfix": "",
     "delete_cmd_prefix": "del ",
     "library": "var_list.py",
     "varRefreshCmd": "print(var_dic_list())"
    },
    "r": {
     "delete_cmd_postfix": ") ",
     "delete_cmd_prefix": "rm(",
     "library": "var_list.r",
     "varRefreshCmd": "cat(var_dic_list()) "
    }
   },
   "types_to_exclude": [
    "module",
    "function",
    "builtin_function_or_method",
    "instance",
    "_Feature"
   ],
   "window_display": false
  }
 },
 "nbformat": 4,
 "nbformat_minor": 4
}
