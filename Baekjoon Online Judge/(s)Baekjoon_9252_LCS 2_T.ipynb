{
 "cells": [
  {
   "cell_type": "markdown",
   "metadata": {
    "ExecuteTime": {
     "end_time": "2021-10-31T15:27:28.630005Z",
     "start_time": "2021-10-31T15:27:28.610556Z"
    }
   },
   "source": [
    "Written by KimRass\n",
    "- Source: https://www.acmicpc.net/problem/9251"
   ]
  },
  {
   "cell_type": "code",
   "execution_count": 40,
   "metadata": {
    "ExecuteTime": {
     "end_time": "2021-11-01T09:22:28.113465Z",
     "start_time": "2021-11-01T09:22:21.794598Z"
    }
   },
   "outputs": [
    {
     "name": "stdout",
     "output_type": "stream",
     "text": [
      "ACAYKP\n",
      "CAPCAK\n",
      "4\n",
      "ACAK\n"
     ]
    }
   ],
   "source": [
    "arr1 = input()\n",
    "arr2 = input()\n",
    "\n",
    "mem = [[[0, \"\"] for _ in range(len(arr2) + 1)] for _ in range(len(arr1) + 1)]\n",
    "\n",
    "maxim = 0\n",
    "LCS = \"\"\n",
    "for i in range(len(arr1)):\n",
    "    for j in range(len(arr2)):\n",
    "        if arr1[i] == arr2[j]:\n",
    "            mem[i + 1][j + 1][0] = mem[i][j][0] + 1\n",
    "            mem[i + 1][j + 1][1] = mem[i][j][1] + arr1[i]\n",
    "        else:\n",
    "            if mem[i][j + 1][0] > mem[i + 1][j][0]:\n",
    "                mem[i + 1][j + 1][0] = mem[i][j + 1][0]\n",
    "                mem[i + 1][j + 1][1] = mem[i][j + 1][1]\n",
    "            else:\n",
    "                mem[i + 1][j + 1][0] = mem[i + 1][j][0]\n",
    "                mem[i + 1][j + 1][1] = mem[i + 1][j][1]\n",
    "        if mem[i + 1][j + 1][0] > maxim:\n",
    "            maxim = mem[i + 1][j + 1][0]\n",
    "            LCS = mem[i + 1][j + 1][1]\n",
    "            \n",
    "print(maxim)\n",
    "print(LCS)"
   ]
  }
 ],
 "metadata": {
  "hide_input": false,
  "kernelspec": {
   "display_name": "Python 3",
   "language": "python",
   "name": "python3"
  },
  "language_info": {
   "codemirror_mode": {
    "name": "ipython",
    "version": 3
   },
   "file_extension": ".py",
   "mimetype": "text/x-python",
   "name": "python",
   "nbconvert_exporter": "python",
   "pygments_lexer": "ipython3",
   "version": "3.7.7"
  },
  "toc": {
   "base_numbering": 1,
   "nav_menu": {},
   "number_sections": true,
   "sideBar": true,
   "skip_h1_title": false,
   "title_cell": "Table of Contents",
   "title_sidebar": "Contents",
   "toc_cell": false,
   "toc_position": {},
   "toc_section_display": true,
   "toc_window_display": false
  },
  "varInspector": {
   "cols": {
    "lenName": 16,
    "lenType": 16,
    "lenVar": 40
   },
   "kernels_config": {
    "python": {
     "delete_cmd_postfix": "",
     "delete_cmd_prefix": "del ",
     "library": "var_list.py",
     "varRefreshCmd": "print(var_dic_list())"
    },
    "r": {
     "delete_cmd_postfix": ") ",
     "delete_cmd_prefix": "rm(",
     "library": "var_list.r",
     "varRefreshCmd": "cat(var_dic_list()) "
    }
   },
   "types_to_exclude": [
    "module",
    "function",
    "builtin_function_or_method",
    "instance",
    "_Feature"
   ],
   "window_display": false
  }
 },
 "nbformat": 4,
 "nbformat_minor": 4
}
