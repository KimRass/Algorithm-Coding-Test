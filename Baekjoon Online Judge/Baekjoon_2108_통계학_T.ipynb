{
 "cells": [
  {
   "cell_type": "markdown",
   "metadata": {},
   "source": [
    "Written by KimRass\n",
    "- Source: https://www.acmicpc.net/problem/2108"
   ]
  },
  {
   "cell_type": "code",
   "execution_count": 33,
   "metadata": {
    "ExecuteTime": {
     "end_time": "2021-10-10T08:22:55.422999Z",
     "start_time": "2021-10-10T08:22:52.449944Z"
    }
   },
   "outputs": [
    {
     "name": "stdout",
     "output_type": "stream",
     "text": [
      "5\n",
      "1\n",
      "3\n",
      "8\n",
      "-2\n",
      "2\n",
      "2\n",
      "2\n",
      "1\n",
      "10\n"
     ]
    }
   ],
   "source": [
    "import sys\n",
    "\n",
    "N = int(input())\n",
    "\n",
    "arr = list()\n",
    "for _ in range(N):\n",
    "    arr.append(int(input()))\n",
    "#     arr.append(int(sys.stdin.readline().rstrip()))\n",
    "arr = sorted(arr)\n",
    "\n",
    "lim = 4000\n",
    "maxim = -lim\n",
    "minim = lim\n",
    "\n",
    "leng = 0\n",
    "summ = 0\n",
    "count = {i:0 for i in range(-lim, lim + 1)}\n",
    "max_count = 0\n",
    "for elm in arr:\n",
    "    summ += elm\n",
    "    leng += 1\n",
    "    if elm > maxim:\n",
    "        maxim = elm\n",
    "    if elm < minim:\n",
    "        minim = elm\n",
    "    count[elm] += 1\n",
    "    if count[elm] > max_count:\n",
    "        max_count = count[elm]\n",
    "new_arr = list()\n",
    "for k, v in count.items():\n",
    "    for _ in range(v):\n",
    "        new_arr.append(k)\n",
    "\n",
    "print(round(summ/leng))\n",
    "print(new_arr[leng//2])\n",
    "temp = [k for k, v in count.items() if v == max_count]\n",
    "if len(temp) == 1:\n",
    "    print(temp[0])\n",
    "else:\n",
    "    print(temp[1])\n",
    "print(maxim - minim)"
   ]
  }
 ],
 "metadata": {
  "hide_input": false,
  "kernelspec": {
   "display_name": "Python 3",
   "language": "python",
   "name": "python3"
  },
  "language_info": {
   "codemirror_mode": {
    "name": "ipython",
    "version": 3
   },
   "file_extension": ".py",
   "mimetype": "text/x-python",
   "name": "python",
   "nbconvert_exporter": "python",
   "pygments_lexer": "ipython3",
   "version": "3.8.5"
  },
  "toc": {
   "base_numbering": 1,
   "nav_menu": {},
   "number_sections": true,
   "sideBar": true,
   "skip_h1_title": false,
   "title_cell": "Table of Contents",
   "title_sidebar": "Contents",
   "toc_cell": false,
   "toc_position": {},
   "toc_section_display": true,
   "toc_window_display": false
  },
  "varInspector": {
   "cols": {
    "lenName": 16,
    "lenType": 16,
    "lenVar": 40
   },
   "kernels_config": {
    "python": {
     "delete_cmd_postfix": "",
     "delete_cmd_prefix": "del ",
     "library": "var_list.py",
     "varRefreshCmd": "print(var_dic_list())"
    },
    "r": {
     "delete_cmd_postfix": ") ",
     "delete_cmd_prefix": "rm(",
     "library": "var_list.r",
     "varRefreshCmd": "cat(var_dic_list()) "
    }
   },
   "types_to_exclude": [
    "module",
    "function",
    "builtin_function_or_method",
    "instance",
    "_Feature"
   ],
   "window_display": false
  }
 },
 "nbformat": 4,
 "nbformat_minor": 4
}
