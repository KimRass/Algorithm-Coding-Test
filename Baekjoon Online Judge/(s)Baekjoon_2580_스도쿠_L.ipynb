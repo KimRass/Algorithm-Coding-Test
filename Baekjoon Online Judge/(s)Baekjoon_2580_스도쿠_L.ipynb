{
 "cells": [
  {
   "cell_type": "markdown",
   "metadata": {
    "ExecuteTime": {
     "end_time": "2021-09-21T17:30:43.087035Z",
     "start_time": "2021-09-21T17:30:43.076106Z"
    }
   },
   "source": [
    "Written by KimRass\n",
    "- Source: https://www.acmicpc.net/problem/2580"
   ]
  },
  {
   "cell_type": "code",
   "execution_count": 31,
   "metadata": {
    "ExecuteTime": {
     "end_time": "2021-09-21T17:49:02.143820Z",
     "start_time": "2021-09-21T17:48:21.952713Z"
    }
   },
   "outputs": [
    {
     "name": "stdout",
     "output_type": "stream",
     "text": [
      "0 3 5 4 6 9 2 7 8\n",
      "7 8 2 1 0 5 6 0 9\n",
      "0 6 0 2 7 8 1 3 5\n",
      "3 2 1 0 4 6 8 9 7\n",
      "8 0 4 9 1 3 5 0 6\n",
      "5 9 6 8 2 0 4 1 3\n",
      "9 1 7 6 5 2 0 8 0\n",
      "6 0 3 7 0 1 9 5 2\n",
      "2 5 8 3 9 4 7 6 0\n"
     ]
    }
   ],
   "source": [
    "arr = list()\n",
    "for _ in range(9):\n",
    "    arr.append(list(map(int, input().split())))"
   ]
  },
  {
   "cell_type": "code",
   "execution_count": 32,
   "metadata": {
    "ExecuteTime": {
     "end_time": "2021-09-21T17:49:06.545614Z",
     "start_time": "2021-09-21T17:49:06.528146Z"
    }
   },
   "outputs": [],
   "source": [
    "import copy\n",
    "\n",
    "tot = 45\n",
    "arr_copy = copy.deepcopy(arr)"
   ]
  },
  {
   "cell_type": "code",
   "execution_count": 37,
   "metadata": {
    "ExecuteTime": {
     "end_time": "2021-09-21T17:49:59.754165Z",
     "start_time": "2021-09-21T17:49:59.739215Z"
    }
   },
   "outputs": [
    {
     "data": {
      "text/plain": [
       "[[0, 3, 5, 4, 6, 9, 2, 7, 8],\n",
       " [7, 8, 2, 1, 0, 5, 6, 0, 9],\n",
       " [0, 6, 0, 2, 7, 8, 1, 3, 5],\n",
       " [3, 2, 1, 0, 4, 6, 8, 9, 7],\n",
       " [8, 0, 4, 9, 1, 3, 5, 0, 6],\n",
       " [5, 9, 6, 8, 2, 0, 4, 1, 3],\n",
       " [9, 1, 7, 6, 5, 2, 0, 8, 0],\n",
       " [6, 0, 3, 7, 0, 1, 9, 5, 2],\n",
       " [2, 5, 8, 3, 9, 4, 7, 6, 0]]"
      ]
     },
     "execution_count": 37,
     "metadata": {},
     "output_type": "execute_result"
    }
   ],
   "source": [
    "arr_copy"
   ]
  },
  {
   "cell_type": "code",
   "execution_count": 58,
   "metadata": {
    "ExecuteTime": {
     "end_time": "2021-09-21T18:03:44.710591Z",
     "start_time": "2021-09-21T18:03:44.685098Z"
    }
   },
   "outputs": [],
   "source": [
    "def fill_row(arr):\n",
    "    for i in range(9):\n",
    "        row = arr[i]\n",
    "        if row.count(0) == 1:\n",
    "            arr[i][row.index(0)] = tot - sum(row)\n",
    "    return arr\n",
    "\n",
    "def fill_col(arr):\n",
    "    for i in range(9):\n",
    "        col = [row[i] for row in arr]\n",
    "        if col.count(0) == 1:\n",
    "            arr[col.index(0)][i] = tot - sum(col)\n",
    "    return arr"
   ]
  },
  {
   "cell_type": "code",
   "execution_count": 59,
   "metadata": {
    "ExecuteTime": {
     "end_time": "2021-09-21T18:03:44.977560Z",
     "start_time": "2021-09-21T18:03:44.967635Z"
    }
   },
   "outputs": [],
   "source": [
    "while True:\n",
    "    init_arr = copy.deepcopy(arr)\n",
    "    arr = fill_row(arr)\n",
    "    arr = fill_col(arr)\n",
    "    if arr == init_arr:\n",
    "        break"
   ]
  },
  {
   "cell_type": "code",
   "execution_count": 60,
   "metadata": {
    "ExecuteTime": {
     "end_time": "2021-09-21T18:03:51.997951Z",
     "start_time": "2021-09-21T18:03:51.984036Z"
    }
   },
   "outputs": [
    {
     "data": {
      "text/plain": [
       "[[1, 3, 5, 4, 6, 9, 2, 7, 8],\n",
       " [7, 8, 2, 1, 0, 5, 6, 0, 9],\n",
       " [4, 6, 9, 2, 7, 8, 1, 3, 5],\n",
       " [3, 2, 1, 5, 4, 6, 8, 9, 7],\n",
       " [8, 0, 4, 9, 1, 3, 5, 0, 6],\n",
       " [5, 9, 6, 8, 2, 7, 4, 1, 3],\n",
       " [9, 1, 7, 6, 5, 2, 3, 8, 4],\n",
       " [6, 0, 3, 7, 0, 1, 9, 5, 2],\n",
       " [2, 5, 8, 3, 9, 4, 7, 6, 1]]"
      ]
     },
     "execution_count": 60,
     "metadata": {},
     "output_type": "execute_result"
    }
   ],
   "source": [
    "arr"
   ]
  },
  {
   "cell_type": "code",
   "execution_count": null,
   "metadata": {},
   "outputs": [],
   "source": [
    "[]"
   ]
  },
  {
   "cell_type": "code",
   "execution_count": null,
   "metadata": {},
   "outputs": [],
   "source": []
  },
  {
   "cell_type": "code",
   "execution_count": null,
   "metadata": {},
   "outputs": [],
   "source": []
  }
 ],
 "metadata": {
  "hide_input": false,
  "kernelspec": {
   "display_name": "Python 3",
   "language": "python",
   "name": "python3"
  },
  "language_info": {
   "codemirror_mode": {
    "name": "ipython",
    "version": 3
   },
   "file_extension": ".py",
   "mimetype": "text/x-python",
   "name": "python",
   "nbconvert_exporter": "python",
   "pygments_lexer": "ipython3",
   "version": "3.8.5"
  },
  "toc": {
   "base_numbering": 1,
   "nav_menu": {},
   "number_sections": true,
   "sideBar": true,
   "skip_h1_title": false,
   "title_cell": "Table of Contents",
   "title_sidebar": "Contents",
   "toc_cell": false,
   "toc_position": {},
   "toc_section_display": true,
   "toc_window_display": false
  },
  "varInspector": {
   "cols": {
    "lenName": 16,
    "lenType": 16,
    "lenVar": 40
   },
   "kernels_config": {
    "python": {
     "delete_cmd_postfix": "",
     "delete_cmd_prefix": "del ",
     "library": "var_list.py",
     "varRefreshCmd": "print(var_dic_list())"
    },
    "r": {
     "delete_cmd_postfix": ") ",
     "delete_cmd_prefix": "rm(",
     "library": "var_list.r",
     "varRefreshCmd": "cat(var_dic_list()) "
    }
   },
   "types_to_exclude": [
    "module",
    "function",
    "builtin_function_or_method",
    "instance",
    "_Feature"
   ],
   "window_display": false
  }
 },
 "nbformat": 4,
 "nbformat_minor": 4
}
