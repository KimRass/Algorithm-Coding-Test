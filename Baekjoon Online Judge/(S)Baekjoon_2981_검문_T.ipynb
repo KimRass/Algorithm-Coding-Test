{
 "cells": [
  {
   "cell_type": "markdown",
   "metadata": {
    "ExecuteTime": {
     "end_time": "2021-09-21T14:30:46.853270Z",
     "start_time": "2021-09-21T14:30:46.838278Z"
    }
   },
   "source": [
    "Written by KimRass\n",
    "- Source: https://www.acmicpc.net/problem/2981\n",
    "- 별에별 방법을 다 써도 `시간 초과`가 오질라게 떴었다. 방법은 `tar`의 약수를 판별하기 위해서는 `int(tar**0.5)`까지만 확인하면 된다는 것."
   ]
  },
  {
   "cell_type": "code",
   "execution_count": 20,
   "metadata": {
    "ExecuteTime": {
     "end_time": "2021-12-16T07:58:19.262606Z",
     "start_time": "2021-12-16T07:58:15.206476Z"
    }
   },
   "outputs": [
    {
     "name": "stdout",
     "output_type": "stream",
     "text": [
      "5\n",
      "5\n",
      "17\n",
      "23\n",
      "14\n",
      "83\n",
      "3\n"
     ]
    }
   ],
   "source": [
    "import sys\n",
    "\n",
    "def gcd(a, b):\n",
    "    if a >= b:\n",
    "        return b if a%b == 0 else gcd(b, a%b)\n",
    "    else:\n",
    "        return a if b%a == 0 else gcd(a, b%a)\n",
    "\n",
    "N = int(input())\n",
    "arr = list()\n",
    "for _ in range(N):\n",
    "    arr.append(int(input()))\n",
    "#     arr.append(int(sys.stdin.readline().rstrip()))\n",
    "\n",
    "arr = sorted(arr)\n",
    "diffs = [arr[i + 1] - arr[i] for i in range(N - 1)]\n",
    "for _ in range(N - 2):\n",
    "    diffs = [gcd(diffs[i], diffs[i + 1]) for i in range(len(diffs) - 1)]\n",
    "\n",
    "tar = diffs.pop()\n",
    "j = 0\n",
    "ans = set()\n",
    "for i in range(1, int(tar**0.5) + 1):\n",
    "    if tar%i == 0:\n",
    "        ans |= {i, tar//i}\n",
    "ans -= {1}\n",
    "ans = sorted(list(ans))\n",
    "\n",
    "print(*ans)"
   ]
  }
 ],
 "metadata": {
  "hide_input": false,
  "kernelspec": {
   "display_name": "Python 3",
   "language": "python",
   "name": "python3"
  },
  "language_info": {
   "codemirror_mode": {
    "name": "ipython",
    "version": 3
   },
   "file_extension": ".py",
   "mimetype": "text/x-python",
   "name": "python",
   "nbconvert_exporter": "python",
   "pygments_lexer": "ipython3",
   "version": "3.7.7"
  },
  "toc": {
   "base_numbering": 1,
   "nav_menu": {},
   "number_sections": true,
   "sideBar": true,
   "skip_h1_title": false,
   "title_cell": "Table of Contents",
   "title_sidebar": "Contents",
   "toc_cell": false,
   "toc_position": {},
   "toc_section_display": true,
   "toc_window_display": false
  },
  "varInspector": {
   "cols": {
    "lenName": 16,
    "lenType": 16,
    "lenVar": 40
   },
   "kernels_config": {
    "python": {
     "delete_cmd_postfix": "",
     "delete_cmd_prefix": "del ",
     "library": "var_list.py",
     "varRefreshCmd": "print(var_dic_list())"
    },
    "r": {
     "delete_cmd_postfix": ") ",
     "delete_cmd_prefix": "rm(",
     "library": "var_list.r",
     "varRefreshCmd": "cat(var_dic_list()) "
    }
   },
   "types_to_exclude": [
    "module",
    "function",
    "builtin_function_or_method",
    "instance",
    "_Feature"
   ],
   "window_display": false
  }
 },
 "nbformat": 4,
 "nbformat_minor": 4
}
