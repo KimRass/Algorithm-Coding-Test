{
 "cells": [
  {
   "cell_type": "markdown",
   "metadata": {
    "ExecuteTime": {
     "end_time": "2021-12-16T13:38:12.849918Z",
     "start_time": "2021-12-16T13:38:12.832776Z"
    }
   },
   "source": [
    "Written by KimRass\n",
    "- Source: https://www.acmicpc.net/problem/9375"
   ]
  },
  {
   "cell_type": "code",
   "execution_count": 41,
   "metadata": {
    "ExecuteTime": {
     "end_time": "2021-12-16T13:42:23.693744Z",
     "start_time": "2021-12-16T13:41:56.813157Z"
    }
   },
   "outputs": [
    {
     "name": "stdout",
     "output_type": "stream",
     "text": [
      "2\n",
      "3\n",
      "hat headgear\n",
      "sunglasses eyewear\n",
      "turban headgear\n",
      "5\n",
      "3\n",
      "mask face\n",
      "sunglasses face\n",
      "makeup face\n",
      "3\n"
     ]
    }
   ],
   "source": [
    "for _ in range(int(input())):\n",
    "    n = int(input())\n",
    "    clothes = dict()\n",
    "    for _ in range(n):\n",
    "        a, b = input().split()\n",
    "        if b not in clothes:\n",
    "            clothes[b] = list()\n",
    "        clothes[b].append(a)\n",
    "\n",
    "    arr = list()\n",
    "    for i in clothes.values():\n",
    "        arr.append(len(i) + 1)\n",
    "\n",
    "    res = 1\n",
    "    for i in arr:\n",
    "        res *= i\n",
    "\n",
    "    print(res - 1)"
   ]
  }
 ],
 "metadata": {
  "hide_input": false,
  "kernelspec": {
   "display_name": "Python 3",
   "language": "python",
   "name": "python3"
  },
  "language_info": {
   "codemirror_mode": {
    "name": "ipython",
    "version": 3
   },
   "file_extension": ".py",
   "mimetype": "text/x-python",
   "name": "python",
   "nbconvert_exporter": "python",
   "pygments_lexer": "ipython3",
   "version": "3.8.5"
  },
  "toc": {
   "base_numbering": 1,
   "nav_menu": {},
   "number_sections": true,
   "sideBar": true,
   "skip_h1_title": false,
   "title_cell": "Table of Contents",
   "title_sidebar": "Contents",
   "toc_cell": false,
   "toc_position": {},
   "toc_section_display": true,
   "toc_window_display": false
  },
  "varInspector": {
   "cols": {
    "lenName": 16,
    "lenType": 16,
    "lenVar": 40
   },
   "kernels_config": {
    "python": {
     "delete_cmd_postfix": "",
     "delete_cmd_prefix": "del ",
     "library": "var_list.py",
     "varRefreshCmd": "print(var_dic_list())"
    },
    "r": {
     "delete_cmd_postfix": ") ",
     "delete_cmd_prefix": "rm(",
     "library": "var_list.r",
     "varRefreshCmd": "cat(var_dic_list()) "
    }
   },
   "types_to_exclude": [
    "module",
    "function",
    "builtin_function_or_method",
    "instance",
    "_Feature"
   ],
   "window_display": false
  }
 },
 "nbformat": 4,
 "nbformat_minor": 4
}
