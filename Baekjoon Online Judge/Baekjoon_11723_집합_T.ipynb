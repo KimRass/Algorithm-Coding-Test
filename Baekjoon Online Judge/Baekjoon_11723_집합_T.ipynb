{
 "cells": [
  {
   "cell_type": "markdown",
   "metadata": {},
   "source": [
    "Written by KimRass\n",
    "- Source: https://www.acmicpc.net/problem/11723\n",
    "\n",
    "# Using Bitmask"
   ]
  },
  {
   "cell_type": "code",
   "execution_count": 100,
   "metadata": {
    "ExecuteTime": {
     "end_time": "2021-11-28T13:54:20.943787Z",
     "start_time": "2021-11-28T13:53:58.702670Z"
    }
   },
   "outputs": [
    {
     "name": "stdout",
     "output_type": "stream",
     "text": [
      "10\n",
      "all\n",
      "check 10\n",
      "1\n",
      "check 20\n",
      "1\n",
      "toggle 10\n",
      "remove 20\n",
      "check 10\n",
      "0\n",
      "check 20\n",
      "0\n",
      "empty\n",
      "check 1\n",
      "0\n",
      "toggle 1\n"
     ]
    }
   ],
   "source": [
    "import sys\n",
    "\n",
    "leng = 20\n",
    "S = 0\n",
    "for _ in range(int(input())):\n",
    "    I = input().split()\n",
    "#     I = sys.stdin.readline().rstrip().split()\n",
    "    cmd = I[0]\n",
    "    if len(I) == 2:\n",
    "        num = int(I[1])\n",
    "        bitmask = (1 << num - 1)\n",
    "        \n",
    "    if cmd == \"add\":\n",
    "        S |= bitmask\n",
    "    elif cmd == \"remove\":\n",
    "        S &= ~bitmask\n",
    "    elif cmd == \"check\":\n",
    "        print(1 if S & bitmask else 0)\n",
    "    elif cmd == \"toggle\":\n",
    "        S ^= bitmask\n",
    "    elif cmd == \"all\":\n",
    "        S = int(\"1\"*leng, 2)\n",
    "    elif cmd == \"empty\":\n",
    "        S = 0"
   ]
  },
  {
   "cell_type": "markdown",
   "metadata": {},
   "source": [
    "# Using Python Dictionary"
   ]
  },
  {
   "cell_type": "code",
   "execution_count": 77,
   "metadata": {
    "ExecuteTime": {
     "end_time": "2021-11-28T13:31:22.467144Z",
     "start_time": "2021-11-28T13:31:03.507958Z"
    }
   },
   "outputs": [
    {
     "name": "stdout",
     "output_type": "stream",
     "text": [
      "10\n",
      "all\n",
      "check 10\n",
      "1\n",
      "check 20\n",
      "1\n",
      "toggle 10\n",
      "remove 20\n",
      "check 10\n",
      "0\n",
      "check 20\n",
      "0\n",
      "empty\n"
     ]
    },
    {
     "ename": "NameError",
     "evalue": "name 'emd' is not defined",
     "output_type": "error",
     "traceback": [
      "\u001b[1;31m---------------------------------------------------------------------------\u001b[0m",
      "\u001b[1;31mNameError\u001b[0m                                 Traceback (most recent call last)",
      "\u001b[1;32m<ipython-input-77-89c62dde3d37>\u001b[0m in \u001b[0;36m<module>\u001b[1;34m\u001b[0m\n\u001b[0;32m     19\u001b[0m     \u001b[1;32melif\u001b[0m \u001b[0mcmd\u001b[0m \u001b[1;33m==\u001b[0m \u001b[1;34m\"all\"\u001b[0m\u001b[1;33m:\u001b[0m\u001b[1;33m\u001b[0m\u001b[1;33m\u001b[0m\u001b[0m\n\u001b[0;32m     20\u001b[0m         \u001b[0mS\u001b[0m \u001b[1;33m=\u001b[0m \u001b[1;33m{\u001b[0m\u001b[0mi\u001b[0m\u001b[1;33m:\u001b[0m\u001b[1;36m1\u001b[0m \u001b[1;32mfor\u001b[0m \u001b[0mi\u001b[0m \u001b[1;32min\u001b[0m \u001b[0mrange\u001b[0m\u001b[1;33m(\u001b[0m\u001b[1;36m1\u001b[0m\u001b[1;33m,\u001b[0m \u001b[1;36m21\u001b[0m\u001b[1;33m)\u001b[0m\u001b[1;33m}\u001b[0m\u001b[1;33m\u001b[0m\u001b[1;33m\u001b[0m\u001b[0m\n\u001b[1;32m---> 21\u001b[1;33m     \u001b[1;32melif\u001b[0m \u001b[0memd\u001b[0m \u001b[1;33m==\u001b[0m \u001b[1;34m\"empty\"\u001b[0m\u001b[1;33m:\u001b[0m\u001b[1;33m\u001b[0m\u001b[1;33m\u001b[0m\u001b[0m\n\u001b[0m\u001b[0;32m     22\u001b[0m         \u001b[0mS\u001b[0m \u001b[1;33m=\u001b[0m \u001b[1;33m{\u001b[0m\u001b[0mi\u001b[0m\u001b[1;33m:\u001b[0m\u001b[1;36m0\u001b[0m \u001b[1;32mfor\u001b[0m \u001b[0mi\u001b[0m \u001b[1;32min\u001b[0m \u001b[0mrange\u001b[0m\u001b[1;33m(\u001b[0m\u001b[1;36m1\u001b[0m\u001b[1;33m,\u001b[0m \u001b[1;36m21\u001b[0m\u001b[1;33m)\u001b[0m\u001b[1;33m}\u001b[0m\u001b[1;33m\u001b[0m\u001b[1;33m\u001b[0m\u001b[0m\n",
      "\u001b[1;31mNameError\u001b[0m: name 'emd' is not defined"
     ]
    }
   ],
   "source": [
    "import sys\n",
    "\n",
    "S = {i:0 for i in range(1, 21)}\n",
    "for _ in range(int(input())):\n",
    "    I = input().split()\n",
    "#     I = sys.stdin.readline().rstrip().split()\n",
    "    cmd = I[0]\n",
    "    if len(I) == 2:\n",
    "        num = int(I[1])\n",
    "\n",
    "    if cmd == \"add\":\n",
    "        S[num] = 1\n",
    "    elif cmd == \"remove\":\n",
    "        S[num] = 0\n",
    "    elif cmd == \"check\":\n",
    "        print(S[num])\n",
    "    elif cmd == \"toggle\":\n",
    "        S[num] = 1 if S[num] == 0 else 0\n",
    "    elif cmd == \"all\":\n",
    "        S = {i:1 for i in range(1, 21)}\n",
    "    elif cmd == \"empty\":\n",
    "        S = {i:0 for i in range(1, 21)}"
   ]
  }
 ],
 "metadata": {
  "hide_input": false,
  "kernelspec": {
   "display_name": "Python 3",
   "language": "python",
   "name": "python3"
  },
  "language_info": {
   "codemirror_mode": {
    "name": "ipython",
    "version": 3
   },
   "file_extension": ".py",
   "mimetype": "text/x-python",
   "name": "python",
   "nbconvert_exporter": "python",
   "pygments_lexer": "ipython3",
   "version": "3.8.5"
  },
  "toc": {
   "base_numbering": 1,
   "nav_menu": {},
   "number_sections": true,
   "sideBar": true,
   "skip_h1_title": false,
   "title_cell": "Table of Contents",
   "title_sidebar": "Contents",
   "toc_cell": false,
   "toc_position": {},
   "toc_section_display": true,
   "toc_window_display": false
  },
  "varInspector": {
   "cols": {
    "lenName": 16,
    "lenType": 16,
    "lenVar": 40
   },
   "kernels_config": {
    "python": {
     "delete_cmd_postfix": "",
     "delete_cmd_prefix": "del ",
     "library": "var_list.py",
     "varRefreshCmd": "print(var_dic_list())"
    },
    "r": {
     "delete_cmd_postfix": ") ",
     "delete_cmd_prefix": "rm(",
     "library": "var_list.r",
     "varRefreshCmd": "cat(var_dic_list()) "
    }
   },
   "types_to_exclude": [
    "module",
    "function",
    "builtin_function_or_method",
    "instance",
    "_Feature"
   ],
   "window_display": false
  }
 },
 "nbformat": 4,
 "nbformat_minor": 4
}
