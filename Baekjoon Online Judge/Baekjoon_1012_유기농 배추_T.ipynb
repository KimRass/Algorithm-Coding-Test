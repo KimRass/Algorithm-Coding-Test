{
 "cells": [
  {
   "cell_type": "markdown",
   "metadata": {},
   "source": [
    "Written by KimRass\n",
    "- Source: https://www.acmicpc.net/problem/1012"
   ]
  },
  {
   "cell_type": "code",
   "execution_count": 48,
   "metadata": {
    "ExecuteTime": {
     "end_time": "2021-09-26T11:04:24.078695Z",
     "start_time": "2021-09-26T11:03:52.451476Z"
    }
   },
   "outputs": [
    {
     "name": "stdout",
     "output_type": "stream",
     "text": [
      "2\n",
      "10 8 17\n",
      "0 0\n",
      "1 0\n",
      "1 1\n",
      "4 2\n",
      "4 3\n",
      "4 5\n",
      "2 4\n",
      "3 4\n",
      "7 4\n",
      "8 4\n",
      "9 4\n",
      "7 5\n",
      "8 5\n",
      "9 5\n",
      "7 6\n",
      "8 6\n",
      "9 6\n",
      "5\n",
      "10 10 1\n",
      "5 5\n",
      "1\n"
     ]
    }
   ],
   "source": [
    "T = int(input())\n",
    "for _ in range(T):\n",
    "    M, N, K = list(map(int, input().split()))\n",
    "    cab = list()\n",
    "    for _ in range(K):\n",
    "        cab.append(tuple(map(int, input().split())))\n",
    "\n",
    "    graph = dict()\n",
    "    for (a, b) in cab:\n",
    "        graph[(a, b)] = list()\n",
    "        if (a - 1, b) in cab:\n",
    "            graph[(a, b)].append((a - 1, b))\n",
    "        if (a + 1, b) in cab:\n",
    "            graph[(a, b)].append((a + 1, b))\n",
    "        if (a, b - 1) in cab:\n",
    "            graph[(a, b)].append((a, b - 1))\n",
    "        if (a, b + 1) in cab:\n",
    "            graph[(a, b)].append((a, b + 1))\n",
    "\n",
    "    stack = [list(graph)[0]]\n",
    "    visited = {c:False for c in cab}\n",
    "    cnt = 0\n",
    "    while graph:\n",
    "        while stack:\n",
    "            start = stack.pop()\n",
    "            if visited[start] == False:\n",
    "                visited[start] = True\n",
    "                for end in graph[start]:\n",
    "                    stack.append(end)\n",
    "        cnt += 1\n",
    "        for i in [k for k, v in visited.items() if v == True]:\n",
    "            graph.pop(i)\n",
    "            visited.pop(i)\n",
    "        if graph:\n",
    "            stack = [list(graph)[0]]\n",
    "    print(cnt)"
   ]
  }
 ],
 "metadata": {
  "hide_input": false,
  "kernelspec": {
   "display_name": "Python 3",
   "language": "python",
   "name": "python3"
  },
  "language_info": {
   "codemirror_mode": {
    "name": "ipython",
    "version": 3
   },
   "file_extension": ".py",
   "mimetype": "text/x-python",
   "name": "python",
   "nbconvert_exporter": "python",
   "pygments_lexer": "ipython3",
   "version": "3.8.5"
  },
  "toc": {
   "base_numbering": 1,
   "nav_menu": {},
   "number_sections": true,
   "sideBar": true,
   "skip_h1_title": false,
   "title_cell": "Table of Contents",
   "title_sidebar": "Contents",
   "toc_cell": false,
   "toc_position": {},
   "toc_section_display": true,
   "toc_window_display": false
  },
  "varInspector": {
   "cols": {
    "lenName": 16,
    "lenType": 16,
    "lenVar": 40
   },
   "kernels_config": {
    "python": {
     "delete_cmd_postfix": "",
     "delete_cmd_prefix": "del ",
     "library": "var_list.py",
     "varRefreshCmd": "print(var_dic_list())"
    },
    "r": {
     "delete_cmd_postfix": ") ",
     "delete_cmd_prefix": "rm(",
     "library": "var_list.r",
     "varRefreshCmd": "cat(var_dic_list()) "
    }
   },
   "types_to_exclude": [
    "module",
    "function",
    "builtin_function_or_method",
    "instance",
    "_Feature"
   ],
   "window_display": false
  }
 },
 "nbformat": 4,
 "nbformat_minor": 4
}
