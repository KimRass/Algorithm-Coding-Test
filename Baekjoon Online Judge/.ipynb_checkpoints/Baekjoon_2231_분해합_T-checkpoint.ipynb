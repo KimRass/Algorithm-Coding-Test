{
 "cells": [
  {
   "cell_type": "markdown",
   "metadata": {},
   "source": [
    "Written by KimRass\n",
    "- Source: https://www.acmicpc.net/problem/2231"
   ]
  },
  {
   "cell_type": "code",
   "execution_count": 49,
   "metadata": {
    "ExecuteTime": {
     "end_time": "2021-10-12T09:02:16.324224Z",
     "start_time": "2021-10-12T09:02:12.450590Z"
    }
   },
   "outputs": [
    {
     "name": "stdout",
     "output_type": "stream",
     "text": [
      "932742\n",
      "932715\n"
     ]
    }
   ],
   "source": [
    "N = int(input())\n",
    "\n",
    "i = N - 1\n",
    "minim = N\n",
    "lim = 0\n",
    "while i > lim and i > 0:\n",
    "    arr = list(map(int, str(i)))\n",
    "    res = i + sum(arr)\n",
    "    if res == N:\n",
    "        if i < minim:\n",
    "            minim = i\n",
    "            lim = i - 53\n",
    "        i -= (arr[-1] + 1)\n",
    "    else:\n",
    "        i -= 1\n",
    "        \n",
    "print(minim if minim != N else 0)"
   ]
  }
 ],
 "metadata": {
  "kernelspec": {
   "display_name": "Python 3",
   "language": "python",
   "name": "python3"
  },
  "language_info": {
   "codemirror_mode": {
    "name": "ipython",
    "version": 3
   },
   "file_extension": ".py",
   "mimetype": "text/x-python",
   "name": "python",
   "nbconvert_exporter": "python",
   "pygments_lexer": "ipython3",
   "version": "3.7.7"
  },
  "toc": {
   "base_numbering": 1,
   "nav_menu": {},
   "number_sections": true,
   "sideBar": true,
   "skip_h1_title": false,
   "title_cell": "Table of Contents",
   "title_sidebar": "Contents",
   "toc_cell": false,
   "toc_position": {},
   "toc_section_display": true,
   "toc_window_display": false
  }
 },
 "nbformat": 4,
 "nbformat_minor": 4
}
