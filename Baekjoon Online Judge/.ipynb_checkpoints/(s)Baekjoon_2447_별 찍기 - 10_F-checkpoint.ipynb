{
 "cells": [
  {
   "cell_type": "markdown",
   "metadata": {
    "ExecuteTime": {
     "end_time": "2021-09-21T16:38:51.032021Z",
     "start_time": "2021-09-21T16:38:51.008055Z"
    }
   },
   "source": [
    "Written by KimRass\n",
    "- Source: https://www.acmicpc.net/problem/2447\n",
    "- 어떻게 풀어야 할지 잘 모르겠다"
   ]
  },
  {
   "cell_type": "code",
   "execution_count": 1,
   "metadata": {
    "ExecuteTime": {
     "end_time": "2021-12-08T14:52:34.057113Z",
     "start_time": "2021-12-08T14:52:34.031494Z"
    }
   },
   "outputs": [],
   "source": [
    "arr = [0 for i in range(3)]\n",
    "\n",
    "for i in range(3):\n",
    "    if i == 1:\n",
    "        arr[i] = \"* *\"\n",
    "    else:\n",
    "        arr[i] = \"***\""
   ]
  },
  {
   "cell_type": "code",
   "execution_count": 5,
   "metadata": {
    "ExecuteTime": {
     "end_time": "2021-12-08T14:47:22.653279Z",
     "start_time": "2021-12-08T14:47:22.625666Z"
    }
   },
   "outputs": [],
   "source": [
    "arr = [0 for i in range(9)]\n",
    "\n",
    "def func(n):\n",
    "    if n == 3:\n",
    "        for i in range(3):\n",
    "            if i == 1:\n",
    "                arr[i] = \"* *\"\n",
    "            else:\n",
    "                arr[i] = \"***\"\n",
    "    else:\n",
    "        "
   ]
  },
  {
   "cell_type": "code",
   "execution_count": 7,
   "metadata": {
    "ExecuteTime": {
     "end_time": "2021-12-08T15:01:04.777762Z",
     "start_time": "2021-12-08T15:01:04.753868Z"
    }
   },
   "outputs": [
    {
     "name": "stdout",
     "output_type": "stream",
     "text": [
      "*********\n",
      "* ** ** *\n",
      "*********\n"
     ]
    }
   ],
   "source": [
    "a = \"***\"\n",
    "b = \"* *\"\n",
    "\n",
    "print(a*3)\n",
    "print(b*3)\n",
    "print(a*3)"
   ]
  },
  {
   "cell_type": "code",
   "execution_count": null,
   "metadata": {},
   "outputs": [],
   "source": [
    "n = 3:\n",
    "aba\n",
    "n = 3**2:\n",
    "aaabbbaaa.a()ab()ba()a.aaabbbaaa"
   ]
  },
  {
   "cell_type": "code",
   "execution_count": 51,
   "metadata": {
    "ExecuteTime": {
     "end_time": "2021-12-08T15:20:37.788357Z",
     "start_time": "2021-12-08T15:20:37.779286Z"
    }
   },
   "outputs": [],
   "source": [
    "# a = \"***\"\n",
    "# b = \"* *\"\n",
    "a = \"*\"\n",
    "b = \" \"\n",
    "\n",
    "def func(n):\n",
    "    if n == 3:\n",
    "        return a*3 + a + b + a + a*3\n",
    "    else:\n",
    "        k = n//3\n",
    "        A = func(k)[:k]\n",
    "        B = func(k)[k:2*k]\n",
    "        C = \" \"*k\n",
    "        D = \n",
    "        return A*3 + B*3 + A*3 + A + C + A + B + C + B + A + C + A + A*3 + B*3 + A*3"
   ]
  },
  {
   "cell_type": "code",
   "execution_count": 58,
   "metadata": {
    "ExecuteTime": {
     "end_time": "2021-12-08T15:22:56.792385Z",
     "start_time": "2021-12-08T15:22:56.783443Z"
    }
   },
   "outputs": [
    {
     "name": "stdout",
     "output_type": "stream",
     "text": [
      "*********\n",
      "* ** ** *\n",
      "         \n"
     ]
    }
   ],
   "source": [
    "print(func(9)[:9])\n",
    "print(func(9)[9:18])\n",
    "print(\" \"*9)"
   ]
  },
  {
   "cell_type": "code",
   "execution_count": 54,
   "metadata": {
    "ExecuteTime": {
     "end_time": "2021-12-08T15:21:06.119287Z",
     "start_time": "2021-12-08T15:21:06.110013Z"
    }
   },
   "outputs": [
    {
     "name": "stdout",
     "output_type": "stream",
     "text": [
      "*********\n",
      "* ** ** *\n",
      "*********\n",
      "***   ***\n",
      "* *   * *\n",
      "***   ***\n",
      "*********\n",
      "* ** ** *\n",
      "*********\n"
     ]
    }
   ],
   "source": [
    "n = 9\n",
    "for i in range(n):\n",
    "    print(func(n)[n*i:n*(i + 1)])"
   ]
  },
  {
   "cell_type": "code",
   "execution_count": 55,
   "metadata": {
    "ExecuteTime": {
     "end_time": "2021-12-08T15:21:40.342019Z",
     "start_time": "2021-12-08T15:21:40.327091Z"
    }
   },
   "outputs": [
    {
     "name": "stdout",
     "output_type": "stream",
     "text": [
      "***************************\n",
      "* ** ** ** ** ** ** ** ** *\n",
      "***************************\n",
      "*********         *********\n",
      "* ** ** *         * ** ** *\n",
      "*********         *********\n",
      "***************************\n",
      "* ** ** ** ** ** ** ** ** *\n",
      "***************************\n",
      "\n",
      "\n",
      "\n",
      "\n",
      "\n",
      "\n",
      "\n",
      "\n",
      "\n",
      "\n",
      "\n",
      "\n",
      "\n",
      "\n",
      "\n",
      "\n",
      "\n",
      "\n"
     ]
    }
   ],
   "source": [
    "n = 27\n",
    "for i in range(n):\n",
    "    print(func(n)[n*i:n*(i + 1)])"
   ]
  },
  {
   "cell_type": "code",
   "execution_count": null,
   "metadata": {},
   "outputs": [],
   "source": []
  },
  {
   "cell_type": "code",
   "execution_count": null,
   "metadata": {},
   "outputs": [],
   "source": []
  },
  {
   "cell_type": "code",
   "execution_count": null,
   "metadata": {},
   "outputs": [],
   "source": []
  },
  {
   "cell_type": "code",
   "execution_count": null,
   "metadata": {},
   "outputs": [],
   "source": [
    "i: 0 1 2"
   ]
  },
  {
   "cell_type": "code",
   "execution_count": null,
   "metadata": {},
   "outputs": [],
   "source": [
    "bab"
   ]
  },
  {
   "cell_type": "markdown",
   "metadata": {},
   "source": [
    "bbbaaabbb()ba()ab()bbbbaaabbb"
   ]
  },
  {
   "cell_type": "code",
   "execution_count": 6,
   "metadata": {
    "ExecuteTime": {
     "end_time": "2021-12-08T14:47:25.865940Z",
     "start_time": "2021-12-08T14:47:25.850980Z"
    }
   },
   "outputs": [],
   "source": [
    "func(27)"
   ]
  },
  {
   "cell_type": "code",
   "execution_count": 7,
   "metadata": {
    "ExecuteTime": {
     "end_time": "2021-12-08T14:47:28.956576Z",
     "start_time": "2021-12-08T14:47:28.932971Z"
    }
   },
   "outputs": [
    {
     "data": {
      "text/plain": [
       "['*',\n",
       " '*',\n",
       " '*',\n",
       " '*',\n",
       " ' ',\n",
       " '*',\n",
       " '*',\n",
       " '*',\n",
       " '*',\n",
       " 0,\n",
       " 0,\n",
       " 0,\n",
       " 0,\n",
       " 0,\n",
       " 0,\n",
       " 0,\n",
       " 0,\n",
       " 0,\n",
       " 0,\n",
       " 0,\n",
       " 0,\n",
       " 0,\n",
       " 0,\n",
       " 0,\n",
       " 0,\n",
       " 0,\n",
       " 0]"
      ]
     },
     "execution_count": 7,
     "metadata": {},
     "output_type": "execute_result"
    }
   ],
   "source": [
    "arr"
   ]
  },
  {
   "cell_type": "code",
   "execution_count": null,
   "metadata": {},
   "outputs": [],
   "source": []
  },
  {
   "cell_type": "code",
   "execution_count": null,
   "metadata": {},
   "outputs": [],
   "source": []
  },
  {
   "cell_type": "code",
   "execution_count": null,
   "metadata": {},
   "outputs": [],
   "source": []
  },
  {
   "cell_type": "code",
   "execution_count": null,
   "metadata": {},
   "outputs": [],
   "source": []
  },
  {
   "cell_type": "code",
   "execution_count": null,
   "metadata": {},
   "outputs": [],
   "source": []
  },
  {
   "cell_type": "code",
   "execution_count": null,
   "metadata": {},
   "outputs": [],
   "source": []
  },
  {
   "cell_type": "code",
   "execution_count": null,
   "metadata": {},
   "outputs": [],
   "source": []
  },
  {
   "cell_type": "code",
   "execution_count": null,
   "metadata": {},
   "outputs": [],
   "source": []
  },
  {
   "cell_type": "code",
   "execution_count": null,
   "metadata": {},
   "outputs": [],
   "source": []
  },
  {
   "cell_type": "code",
   "execution_count": 2,
   "metadata": {
    "ExecuteTime": {
     "end_time": "2021-12-07T14:51:58.040635Z",
     "start_time": "2021-12-07T14:51:58.021685Z"
    }
   },
   "outputs": [],
   "source": [
    "def func(n):\n",
    "    if n == 3:\n",
    "        return \"*\"\n",
    "    else:\n",
    "        print(func(n//3), end=\"\")\n",
    "        print(func(n//3), end=\"\")\n",
    "        print(func(n//3), end=\"\\n\")\n",
    "        print(func(n//3), end=\"\")\n",
    "        print(\" \", end=\"\")\n",
    "        print(func(n//3), end=\"\\n\")\n",
    "        print(func(n//3), end=\"\")\n",
    "        print(func(n//3), end=\"\")\n",
    "        print(func(n//3), end=\"\")"
   ]
  },
  {
   "cell_type": "code",
   "execution_count": 6,
   "metadata": {
    "ExecuteTime": {
     "end_time": "2021-12-07T14:52:10.232341Z",
     "start_time": "2021-12-07T14:52:10.210447Z"
    }
   },
   "outputs": [
    {
     "name": "stdout",
     "output_type": "stream",
     "text": [
      "***\n",
      "* *\n",
      "***None***\n",
      "* *\n",
      "***None***\n",
      "* *\n",
      "***None\n",
      "***\n",
      "* *\n",
      "***None ***\n",
      "* *\n",
      "***None\n",
      "***\n",
      "* *\n",
      "***None***\n",
      "* *\n",
      "***None***\n",
      "* *\n",
      "***None"
     ]
    }
   ],
   "source": [
    "func(27)"
   ]
  }
 ],
 "metadata": {
  "hide_input": false,
  "kernelspec": {
   "display_name": "Python 3",
   "language": "python",
   "name": "python3"
  },
  "language_info": {
   "codemirror_mode": {
    "name": "ipython",
    "version": 3
   },
   "file_extension": ".py",
   "mimetype": "text/x-python",
   "name": "python",
   "nbconvert_exporter": "python",
   "pygments_lexer": "ipython3",
   "version": "3.8.5"
  },
  "toc": {
   "base_numbering": 1,
   "nav_menu": {},
   "number_sections": true,
   "sideBar": true,
   "skip_h1_title": false,
   "title_cell": "Table of Contents",
   "title_sidebar": "Contents",
   "toc_cell": false,
   "toc_position": {},
   "toc_section_display": true,
   "toc_window_display": false
  },
  "varInspector": {
   "cols": {
    "lenName": 16,
    "lenType": 16,
    "lenVar": 40
   },
   "kernels_config": {
    "python": {
     "delete_cmd_postfix": "",
     "delete_cmd_prefix": "del ",
     "library": "var_list.py",
     "varRefreshCmd": "print(var_dic_list())"
    },
    "r": {
     "delete_cmd_postfix": ") ",
     "delete_cmd_prefix": "rm(",
     "library": "var_list.r",
     "varRefreshCmd": "cat(var_dic_list()) "
    }
   },
   "types_to_exclude": [
    "module",
    "function",
    "builtin_function_or_method",
    "instance",
    "_Feature"
   ],
   "window_display": false
  }
 },
 "nbformat": 4,
 "nbformat_minor": 4
}
