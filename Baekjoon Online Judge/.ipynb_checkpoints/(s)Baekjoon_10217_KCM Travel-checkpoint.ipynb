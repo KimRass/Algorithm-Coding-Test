{
 "cells": [
  {
   "cell_type": "markdown",
   "metadata": {},
   "source": [
    "Written by KimRass\n",
    "- Source: https://www.acmicpc.net/problem/10217"
   ]
  },
  {
   "cell_type": "code",
   "execution_count": null,
   "metadata": {
    "ExecuteTime": {
     "end_time": "2021-10-30T14:31:20.133116Z",
     "start_time": "2021-10-30T14:30:26.071485Z"
    }
   },
   "outputs": [],
   "source": [
    "import sys\n",
    "import heapq as hq\n",
    "import math\n",
    "\n",
    "# T = int(input())\n",
    "# for _ in range(T):\n",
    "graph = dict()\n",
    "N, M, K = list(map(int, input().split()))\n",
    "for _ in range(K):\n",
    "    u, v, c, d = list(map(int, input().split()))\n",
    "#         u, v, c, d = list(map(int, sys.stdin.readline().rstrip().split()))\n",
    "    if u not in graph:\n",
    "        graph[u] = list()\n",
    "    graph[u].append((d, c, v))"
   ]
  },
  {
   "cell_type": "code",
   "execution_count": 34,
   "metadata": {
    "ExecuteTime": {
     "end_time": "2021-10-30T14:38:52.283734Z",
     "start_time": "2021-10-30T14:38:52.263126Z"
    }
   },
   "outputs": [
    {
     "data": {
      "text/plain": [
       "{1: [(3, 5, 2), (6, 10, 3)], 2: [(4, 5, 3)], 3: [(5, 1, 4)]}"
      ]
     },
     "execution_count": 34,
     "metadata": {},
     "output_type": "execute_result"
    }
   ],
   "source": [
    "graph"
   ]
  },
  {
   "cell_type": "code",
   "execution_count": 38,
   "metadata": {
    "ExecuteTime": {
     "end_time": "2021-10-30T14:42:00.540401Z",
     "start_time": "2021-10-30T14:42:00.522480Z"
    }
   },
   "outputs": [
    {
     "name": "stdout",
     "output_type": "stream",
     "text": [
      "1 0 0 {1: 0, 2: inf, 3: inf, 4: inf}\n",
      "2 3 5 {1: 0, 2: 3, 3: 6, 4: inf}\n",
      "3 6 10 {1: 0, 2: 3, 3: 6, 4: inf}\n",
      "Poor KCM\n"
     ]
    }
   ],
   "source": [
    "start = 1\n",
    "end = N\n",
    "hp = [(0, 0, start)]\n",
    "min_dists = {i:0 if i == 1 else math.inf for i in range(1, N + 1)}\n",
    "while hp:\n",
    "    cur_dist, cur_cost, cur_node = hq.heappop(hp)\n",
    "    print(cur_node, cur_dist, cur_cost, min_dists)\n",
    "    if cur_node in graph:\n",
    "        for dist, cost, next_node in graph[cur_node]:\n",
    "            if cur_dist + dist < min_dists[next_node] and cur_cost + cost <= M:\n",
    "                min_dists[next_node] = cur_dist + dist\n",
    "                hq.heappush(hp, (min_dists[next_node], cur_cost + cost, next_node))\n",
    "\n",
    "print(\"Poor KCM\" if min_dists[N] == math.inf else min_dists[N])"
   ]
  },
  {
   "cell_type": "code",
   "execution_count": 36,
   "metadata": {
    "ExecuteTime": {
     "end_time": "2021-10-30T14:39:16.104847Z",
     "start_time": "2021-10-30T14:39:16.088563Z"
    }
   },
   "outputs": [
    {
     "data": {
      "text/plain": [
       "{1: 0, 2: 3, 3: 6, 4: inf}"
      ]
     },
     "execution_count": 36,
     "metadata": {},
     "output_type": "execute_result"
    }
   ],
   "source": [
    "min_dists"
   ]
  }
 ],
 "metadata": {
  "hide_input": false,
  "kernelspec": {
   "display_name": "Python 3",
   "language": "python",
   "name": "python3"
  },
  "language_info": {
   "codemirror_mode": {
    "name": "ipython",
    "version": 3
   },
   "file_extension": ".py",
   "mimetype": "text/x-python",
   "name": "python",
   "nbconvert_exporter": "python",
   "pygments_lexer": "ipython3",
   "version": "3.8.5"
  },
  "toc": {
   "base_numbering": 1,
   "nav_menu": {},
   "number_sections": true,
   "sideBar": true,
   "skip_h1_title": false,
   "title_cell": "Table of Contents",
   "title_sidebar": "Contents",
   "toc_cell": false,
   "toc_position": {},
   "toc_section_display": true,
   "toc_window_display": false
  },
  "varInspector": {
   "cols": {
    "lenName": 16,
    "lenType": 16,
    "lenVar": 40
   },
   "kernels_config": {
    "python": {
     "delete_cmd_postfix": "",
     "delete_cmd_prefix": "del ",
     "library": "var_list.py",
     "varRefreshCmd": "print(var_dic_list())"
    },
    "r": {
     "delete_cmd_postfix": ") ",
     "delete_cmd_prefix": "rm(",
     "library": "var_list.r",
     "varRefreshCmd": "cat(var_dic_list()) "
    }
   },
   "types_to_exclude": [
    "module",
    "function",
    "builtin_function_or_method",
    "instance",
    "_Feature"
   ],
   "window_display": false
  }
 },
 "nbformat": 4,
 "nbformat_minor": 4
}
