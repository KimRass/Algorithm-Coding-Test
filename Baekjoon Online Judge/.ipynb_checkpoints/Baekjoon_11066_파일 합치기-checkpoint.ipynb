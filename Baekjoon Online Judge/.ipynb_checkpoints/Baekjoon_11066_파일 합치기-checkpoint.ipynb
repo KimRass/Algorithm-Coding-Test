{
 "cells": [
  {
   "cell_type": "markdown",
   "metadata": {},
   "source": [
    "Written by KimRass\n",
    "- Source: https://www.acmicpc.net/problem/11066"
   ]
  },
  {
   "cell_type": "code",
   "execution_count": 25,
   "metadata": {
    "ExecuteTime": {
     "end_time": "2021-09-30T07:32:25.442403Z",
     "start_time": "2021-09-30T07:32:25.436419Z"
    }
   },
   "outputs": [
    {
     "name": "stdout",
     "output_type": "stream",
     "text": [
      "4 [3, 4, 4, 4, 5, 5, 5, 14, 17, 21, 21, 32, 35, 98]\n",
      "7 [4, 4, 5, 5, 5, 7, 14, 17, 21, 21, 32, 35, 98]\n",
      "8 [5, 5, 5, 7, 8, 14, 17, 21, 21, 32, 35, 98]\n",
      "10 [5, 7, 8, 10, 14, 17, 21, 21, 32, 35, 98]\n",
      "12 [8, 10, 12, 14, 17, 21, 21, 32, 35, 98]\n",
      "18 [12, 14, 17, 18, 21, 21, 32, 35, 98]\n",
      "26 [17, 18, 21, 21, 26, 32, 35, 98]\n",
      "35 [21, 21, 26, 32, 35, 35, 98]\n",
      "42 [26, 32, 35, 35, 42, 98]\n",
      "58 [35, 35, 42, 58, 98]\n",
      "70 [42, 58, 70, 98]\n",
      "100 [70, 98, 100]\n",
      "168 [100, 168]\n",
      "268 [268]\n",
      "826\n"
     ]
    }
   ],
   "source": [
    "import heapq as hq\n",
    "\n",
    "T = int(input())\n",
    "for _ in range(T):\n",
    "    K = int(input())\n",
    "    arr = list(map(int, input().split()))\n",
    "\n",
    "    ans = 0\n",
    "    while len(arr) >= 2:\n",
    "        hq.heapify(arr)\n",
    "        temp = hq.heappop(arr) + hq.heappop(arr)\n",
    "        hq.heappush(arr, temp)\n",
    "        ans += temp\n",
    "    print(ans)"
   ]
  },
  {
   "cell_type": "code",
   "execution_count": null,
   "metadata": {},
   "outputs": [],
   "source": []
  },
  {
   "cell_type": "code",
   "execution_count": null,
   "metadata": {},
   "outputs": [],
   "source": []
  }
 ],
 "metadata": {
  "kernelspec": {
   "display_name": "Python 3",
   "language": "python",
   "name": "python3"
  },
  "language_info": {
   "codemirror_mode": {
    "name": "ipython",
    "version": 3
   },
   "file_extension": ".py",
   "mimetype": "text/x-python",
   "name": "python",
   "nbconvert_exporter": "python",
   "pygments_lexer": "ipython3",
   "version": "3.7.7"
  },
  "toc": {
   "base_numbering": 1,
   "nav_menu": {},
   "number_sections": true,
   "sideBar": true,
   "skip_h1_title": false,
   "title_cell": "Table of Contents",
   "title_sidebar": "Contents",
   "toc_cell": false,
   "toc_position": {},
   "toc_section_display": true,
   "toc_window_display": false
  }
 },
 "nbformat": 4,
 "nbformat_minor": 4
}
