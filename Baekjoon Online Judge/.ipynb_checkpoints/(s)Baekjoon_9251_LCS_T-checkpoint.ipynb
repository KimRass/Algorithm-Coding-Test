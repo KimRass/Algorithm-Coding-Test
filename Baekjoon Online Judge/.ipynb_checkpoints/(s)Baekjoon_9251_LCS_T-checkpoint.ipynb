{
 "cells": [
  {
   "cell_type": "markdown",
   "metadata": {
    "ExecuteTime": {
     "end_time": "2021-10-31T15:27:28.630005Z",
     "start_time": "2021-10-31T15:27:28.610556Z"
    }
   },
   "source": [
    "Written by KimRass\n",
    "- Source: https://www.acmicpc.net/problem/9251"
   ]
  },
  {
   "cell_type": "code",
   "execution_count": 55,
   "metadata": {
    "ExecuteTime": {
     "end_time": "2021-11-01T08:49:58.529426Z",
     "start_time": "2021-11-01T08:49:45.369110Z"
    }
   },
   "outputs": [
    {
     "name": "stdout",
     "output_type": "stream",
     "text": [
      "ACAYKP\n",
      "CAPCAK\n",
      "4\n"
     ]
    }
   ],
   "source": [
    "arr1 = input()\n",
    "arr2 = input()\n",
    "\n",
    "mem = [[0 for _ in range(len(arr2) + 1)] for _ in range(len(arr1) + 1)]\n",
    "maxim = 0\n",
    "for i in range(len(arr1)):\n",
    "    for j in range(len(arr2)):\n",
    "        if arr1[i] == arr2[j]:\n",
    "            mem[i + 1][j + 1] = mem[i][j] + 1\n",
    "        else:\n",
    "            mem[i + 1][j + 1] = max(mem[i][j + 1], mem[i + 1][j])\n",
    "        if mem[i + 1][j + 1] > maxim:\n",
    "            maxim = mem[i + 1][j + 1]\n",
    "            \n",
    "print(maxim)"
   ]
  }
 ],
 "metadata": {
  "hide_input": false,
  "kernelspec": {
   "display_name": "Python 3",
   "language": "python",
   "name": "python3"
  },
  "language_info": {
   "codemirror_mode": {
    "name": "ipython",
    "version": 3
   },
   "file_extension": ".py",
   "mimetype": "text/x-python",
   "name": "python",
   "nbconvert_exporter": "python",
   "pygments_lexer": "ipython3",
   "version": "3.7.7"
  },
  "toc": {
   "base_numbering": 1,
   "nav_menu": {},
   "number_sections": true,
   "sideBar": true,
   "skip_h1_title": false,
   "title_cell": "Table of Contents",
   "title_sidebar": "Contents",
   "toc_cell": false,
   "toc_position": {},
   "toc_section_display": true,
   "toc_window_display": false
  },
  "varInspector": {
   "cols": {
    "lenName": 16,
    "lenType": 16,
    "lenVar": 40
   },
   "kernels_config": {
    "python": {
     "delete_cmd_postfix": "",
     "delete_cmd_prefix": "del ",
     "library": "var_list.py",
     "varRefreshCmd": "print(var_dic_list())"
    },
    "r": {
     "delete_cmd_postfix": ") ",
     "delete_cmd_prefix": "rm(",
     "library": "var_list.r",
     "varRefreshCmd": "cat(var_dic_list()) "
    }
   },
   "types_to_exclude": [
    "module",
    "function",
    "builtin_function_or_method",
    "instance",
    "_Feature"
   ],
   "window_display": false
  }
 },
 "nbformat": 4,
 "nbformat_minor": 4
}
