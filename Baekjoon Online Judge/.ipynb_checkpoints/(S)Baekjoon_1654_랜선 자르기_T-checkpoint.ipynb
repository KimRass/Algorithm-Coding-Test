{
 "cells": [
  {
   "cell_type": "markdown",
   "metadata": {},
   "source": [
    "Written by KimRass\n",
    "- Source: https://www.acmicpc.net/problem/1654\n",
    "- 개인적으로 Parametric Search에 대해 감을 잡을 수 있었던 문제입니다."
   ]
  },
  {
   "cell_type": "code",
   "execution_count": 107,
   "metadata": {
    "ExecuteTime": {
     "end_time": "2021-12-17T16:22:30.317061Z",
     "start_time": "2021-12-17T16:22:23.696880Z"
    }
   },
   "outputs": [
    {
     "name": "stdout",
     "output_type": "stream",
     "text": [
      "4 11\n",
      "802\n",
      "743\n",
      "457\n",
      "539\n",
      "200\n"
     ]
    }
   ],
   "source": [
    "import sys\n",
    "\n",
    "K, N = list(map(int, input().split()))\n",
    "arr = [int(input()) for _ in range(K)]\n",
    "# arr = [int(sys.stdin.readline().rstrip()) for _ in range(K)]\n",
    "\n",
    "arr = sorted(arr)\n",
    "\n",
    "def count_cables(leng):\n",
    "    cnt = 0\n",
    "    for i in arr:\n",
    "        cnt += i//leng\n",
    "    return cnt\n",
    "\n",
    "left = 1\n",
    "right = max(arr)\n",
    "ans = 0\n",
    "while left <= right:\n",
    "    mid = (left + right)//2\n",
    "#     print(left, mid, right, ans)\n",
    "    if count_cables(mid) >= N:\n",
    "        left = mid + 1\n",
    "        ans = mid\n",
    "    else:\n",
    "        right = mid - 1\n",
    "\n",
    "# print(left, mid, right, ans)\n",
    "print(ans)"
   ]
  }
 ],
 "metadata": {
  "hide_input": false,
  "kernelspec": {
   "display_name": "Python 3",
   "language": "python",
   "name": "python3"
  },
  "language_info": {
   "codemirror_mode": {
    "name": "ipython",
    "version": 3
   },
   "file_extension": ".py",
   "mimetype": "text/x-python",
   "name": "python",
   "nbconvert_exporter": "python",
   "pygments_lexer": "ipython3",
   "version": "3.8.5"
  },
  "toc": {
   "base_numbering": 1,
   "nav_menu": {},
   "number_sections": true,
   "sideBar": true,
   "skip_h1_title": false,
   "title_cell": "Table of Contents",
   "title_sidebar": "Contents",
   "toc_cell": false,
   "toc_position": {},
   "toc_section_display": true,
   "toc_window_display": false
  },
  "varInspector": {
   "cols": {
    "lenName": 16,
    "lenType": 16,
    "lenVar": 40
   },
   "kernels_config": {
    "python": {
     "delete_cmd_postfix": "",
     "delete_cmd_prefix": "del ",
     "library": "var_list.py",
     "varRefreshCmd": "print(var_dic_list())"
    },
    "r": {
     "delete_cmd_postfix": ") ",
     "delete_cmd_prefix": "rm(",
     "library": "var_list.r",
     "varRefreshCmd": "cat(var_dic_list()) "
    }
   },
   "types_to_exclude": [
    "module",
    "function",
    "builtin_function_or_method",
    "instance",
    "_Feature"
   ],
   "window_display": false
  }
 },
 "nbformat": 4,
 "nbformat_minor": 4
}
