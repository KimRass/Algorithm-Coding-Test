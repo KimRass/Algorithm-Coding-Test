{
 "cells": [
  {
   "cell_type": "markdown",
   "metadata": {},
   "source": [
    "Written by KimRass\n",
    "- Source: https://www.acmicpc.net/problem/1011\n",
    "\n",
    "1 :1\n",
    "2 :1>1\n",
    "3 :1>1>1\n",
    "4 :1>2>1*\n",
    "5 :1>2>1>1\n",
    "6 :1>2>2>1\n",
    "7 :1>2>2>1>1\n",
    "8 :1>2>2>2>1\n",
    "9 :1>2>3>2>1*\n",
    "10:1>2>3>2>1>1\n",
    "11:1>2>3>2>2>1\n",
    "12:1>2>3>3>2>1\n",
    "13:1>2>3>3>2>1>1\n",
    "14:1>2>3>3>2>2>1\n",
    "15:1>2>3>3>3>2>1\n",
    "16:1>2>3>4>3>2>1*"
   ]
  },
  {
   "cell_type": "code",
   "execution_count": 35,
   "metadata": {
    "ExecuteTime": {
     "end_time": "2021-12-04T11:20:07.785282Z",
     "start_time": "2021-12-04T11:20:04.058759Z"
    }
   },
   "outputs": [
    {
     "name": "stdout",
     "output_type": "stream",
     "text": [
      "1\n",
      "0 2334124\n",
      "3055\n"
     ]
    }
   ],
   "source": [
    "T = int(input())\n",
    "for _ in range(T):\n",
    "    x, y = list(map(int, input().split()))\n",
    "    goal = y - x\n",
    "    \n",
    "    i = 1\n",
    "    while i**2 <= goal:\n",
    "        i += 1\n",
    "        \n",
    "    k = i - 1\n",
    "    goal -= k**2\n",
    "    leng = 2*k - 1\n",
    "\n",
    "    if goal == 0:\n",
    "        print(leng)\n",
    "    elif goal <= k:\n",
    "        print(leng + 1)\n",
    "    elif goal <= 2*k + 1:\n",
    "        print(leng + 2)"
   ]
  }
 ],
 "metadata": {
  "hide_input": false,
  "kernelspec": {
   "display_name": "Python 3",
   "language": "python",
   "name": "python3"
  },
  "language_info": {
   "codemirror_mode": {
    "name": "ipython",
    "version": 3
   },
   "file_extension": ".py",
   "mimetype": "text/x-python",
   "name": "python",
   "nbconvert_exporter": "python",
   "pygments_lexer": "ipython3",
   "version": "3.8.5"
  },
  "toc": {
   "base_numbering": 1,
   "nav_menu": {},
   "number_sections": true,
   "sideBar": true,
   "skip_h1_title": false,
   "title_cell": "Table of Contents",
   "title_sidebar": "Contents",
   "toc_cell": false,
   "toc_position": {},
   "toc_section_display": true,
   "toc_window_display": false
  },
  "varInspector": {
   "cols": {
    "lenName": 16,
    "lenType": 16,
    "lenVar": 40
   },
   "kernels_config": {
    "python": {
     "delete_cmd_postfix": "",
     "delete_cmd_prefix": "del ",
     "library": "var_list.py",
     "varRefreshCmd": "print(var_dic_list())"
    },
    "r": {
     "delete_cmd_postfix": ") ",
     "delete_cmd_prefix": "rm(",
     "library": "var_list.r",
     "varRefreshCmd": "cat(var_dic_list()) "
    }
   },
   "types_to_exclude": [
    "module",
    "function",
    "builtin_function_or_method",
    "instance",
    "_Feature"
   ],
   "window_display": false
  }
 },
 "nbformat": 4,
 "nbformat_minor": 4
}
