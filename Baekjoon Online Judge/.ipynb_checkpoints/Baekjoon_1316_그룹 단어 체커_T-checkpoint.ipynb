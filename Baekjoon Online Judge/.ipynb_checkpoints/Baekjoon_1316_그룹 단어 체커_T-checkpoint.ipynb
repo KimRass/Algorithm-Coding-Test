{
 "cells": [
  {
   "cell_type": "markdown",
   "metadata": {},
   "source": [
    "Written by KimRass\n",
    "- Source: https://www.acmicpc.net/problem/1316"
   ]
  },
  {
   "cell_type": "code",
   "execution_count": null,
   "metadata": {
    "ExecuteTime": {
     "end_time": "2021-09-23T06:11:40.674012Z",
     "start_time": "2021-09-23T06:11:35.851910Z"
    }
   },
   "outputs": [],
   "source": [
    "N = int(input())\n",
    "\n",
    "words = list()\n",
    "for _ in range(N):\n",
    "    words.append(input())\n",
    "\n",
    "words_join = \" \".join(words)\n",
    "for alpha in \"abcdefghijklmnopqrstuvwxyz\":\n",
    "    for _ in range(100):\n",
    "        words_join = words_join.replace(alpha*2, alpha)\n",
    "words = words_join.split()\n",
    "\n",
    "cnt = 0\n",
    "for word in words:\n",
    "    if len(set(word)) == len(word):\n",
    "        cnt += 1\n",
    "print(cnt)"
   ]
  }
 ],
 "metadata": {
  "kernelspec": {
   "display_name": "Python 3",
   "language": "python",
   "name": "python3"
  },
  "language_info": {
   "codemirror_mode": {
    "name": "ipython",
    "version": 3
   },
   "file_extension": ".py",
   "mimetype": "text/x-python",
   "name": "python",
   "nbconvert_exporter": "python",
   "pygments_lexer": "ipython3",
   "version": "3.7.7"
  },
  "toc": {
   "base_numbering": 1,
   "nav_menu": {},
   "number_sections": true,
   "sideBar": true,
   "skip_h1_title": false,
   "title_cell": "Table of Contents",
   "title_sidebar": "Contents",
   "toc_cell": false,
   "toc_position": {},
   "toc_section_display": true,
   "toc_window_display": false
  }
 },
 "nbformat": 4,
 "nbformat_minor": 4
}
