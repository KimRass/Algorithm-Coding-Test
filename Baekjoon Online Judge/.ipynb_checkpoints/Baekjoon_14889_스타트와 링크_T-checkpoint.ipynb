{
 "cells": [
  {
   "cell_type": "markdown",
   "metadata": {},
   "source": [
    "Written by KimRass\n",
    "- Source: https://www.acmicpc.net/problem/14889"
   ]
  },
  {
   "cell_type": "code",
   "execution_count": 41,
   "metadata": {
    "ExecuteTime": {
     "end_time": "2021-10-17T09:30:50.125606Z",
     "start_time": "2021-10-17T09:30:31.831886Z"
    }
   },
   "outputs": [
    {
     "name": "stdout",
     "output_type": "stream",
     "text": [
      "6\n",
      "0 1 2 3 4 5\n",
      "1 0 2 3 4 5\n",
      "1 2 0 3 4 5\n",
      "1 2 3 0 4 5\n",
      "1 2 3 4 0 5\n",
      "1 2 3 4 5 0\n",
      "2\n"
     ]
    }
   ],
   "source": [
    "import math\n",
    "from itertools import combinations, permutations \n",
    "import sys\n",
    "\n",
    "N = int(input())\n",
    "arr = list()\n",
    "for _ in range(N):\n",
    "    arr.append(list(map(int, input().split())))\n",
    "#     arr.append(list(map(int, sys.stdin.readline().rstrip().split())))\n",
    "\n",
    "min_diff = math.inf\n",
    "for team1 in combinations(range(N), N//2):\n",
    "    team1 = set(team1)\n",
    "    team2 = set(range(N)) - team1\n",
    "\n",
    "    diff = 0\n",
    "    for i, j in zip(permutations(team1, 2), permutations(team2, 2)):\n",
    "        diff += (arr[i[0]][i[1]] - arr[j[0]][j[1]])\n",
    "    diff = abs(diff)\n",
    "        \n",
    "    if diff == 0:\n",
    "        print(diff)\n",
    "        break\n",
    "    if diff < min_diff:\n",
    "        min_diff = diff\n",
    "else:\n",
    "    print(min_diff)"
   ]
  }
 ],
 "metadata": {
  "hide_input": false,
  "kernelspec": {
   "display_name": "Python 3",
   "language": "python",
   "name": "python3"
  },
  "language_info": {
   "codemirror_mode": {
    "name": "ipython",
    "version": 3
   },
   "file_extension": ".py",
   "mimetype": "text/x-python",
   "name": "python",
   "nbconvert_exporter": "python",
   "pygments_lexer": "ipython3",
   "version": "3.8.5"
  },
  "toc": {
   "base_numbering": 1,
   "nav_menu": {},
   "number_sections": true,
   "sideBar": true,
   "skip_h1_title": false,
   "title_cell": "Table of Contents",
   "title_sidebar": "Contents",
   "toc_cell": false,
   "toc_position": {},
   "toc_section_display": true,
   "toc_window_display": false
  },
  "varInspector": {
   "cols": {
    "lenName": 16,
    "lenType": 16,
    "lenVar": 40
   },
   "kernels_config": {
    "python": {
     "delete_cmd_postfix": "",
     "delete_cmd_prefix": "del ",
     "library": "var_list.py",
     "varRefreshCmd": "print(var_dic_list())"
    },
    "r": {
     "delete_cmd_postfix": ") ",
     "delete_cmd_prefix": "rm(",
     "library": "var_list.r",
     "varRefreshCmd": "cat(var_dic_list()) "
    }
   },
   "types_to_exclude": [
    "module",
    "function",
    "builtin_function_or_method",
    "instance",
    "_Feature"
   ],
   "window_display": false
  }
 },
 "nbformat": 4,
 "nbformat_minor": 4
}
