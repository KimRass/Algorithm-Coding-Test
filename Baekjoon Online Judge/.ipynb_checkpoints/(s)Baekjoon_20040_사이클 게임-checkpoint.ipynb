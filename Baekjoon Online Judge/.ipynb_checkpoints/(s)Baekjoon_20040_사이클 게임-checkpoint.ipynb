{
 "cells": [
  {
   "cell_type": "markdown",
   "metadata": {},
   "source": [
    "Written by KimRass\n",
    "- Source: https://www.acmicpc.net/problem/20040"
   ]
  },
  {
   "cell_type": "markdown",
   "metadata": {},
   "source": [
    "9 9\n",
    "0 1\n",
    "0 2\n",
    "2 3\n",
    "1 4\n",
    "0 5\n",
    "4 6\n",
    "0 7\n",
    "4 8\n",
    "1 6"
   ]
  },
  {
   "cell_type": "markdown",
   "metadata": {},
   "source": [
    "6 5\n",
    "0 1\n",
    "1 2\n",
    "2 3\n",
    "5 4\n",
    "0 4"
   ]
  },
  {
   "cell_type": "code",
   "execution_count": null,
   "metadata": {},
   "outputs": [],
   "source": [
    "6 6\n",
    "0 1\n",
    "1 2\n",
    "2 3\n",
    "5 4\n",
    "0 4\n",
    "3 4"
   ]
  },
  {
   "cell_type": "code",
   "execution_count": 46,
   "metadata": {
    "ExecuteTime": {
     "end_time": "2021-12-01T09:18:45.610422Z",
     "start_time": "2021-12-01T09:18:39.197580Z"
    }
   },
   "outputs": [
    {
     "name": "stdout",
     "output_type": "stream",
     "text": [
      "6 5\n",
      "0 1\n",
      "0 1\n",
      "[1, 1, 2, 3, 4, 5] [1, 2, 1, 1, 1, 1]\n",
      "1 2\n",
      "1 2\n",
      "[1, 2, 2, 3, 4, 5] [1, 2, 3, 1, 1, 1]\n",
      "1 3\n",
      "2 3\n",
      "[1, 2, 3, 3, 4, 5] [1, 2, 3, 4, 1, 1]\n",
      "0 3\n",
      "3 3\n",
      "[3, 3, 3, 3, 4, 5] [1, 2, 3, 4, 1, 1]\n",
      "4 5\n",
      "4 5\n",
      "[3, 3, 3, 3, 5, 5] [1, 2, 3, 4, 1, 2]\n",
      "0\n"
     ]
    }
   ],
   "source": [
    "import sys\n",
    "\n",
    "def find(x):\n",
    "    if x == parent[x]:\n",
    "        return x\n",
    "    else:\n",
    "        parent[x] = find(parent[x])\n",
    "        return parent[x]\n",
    "    \n",
    "def union(x, y):\n",
    "    x_rep = find(x)\n",
    "    y_rep = find(y)\n",
    "    \n",
    "    if x_rep < y_rep:\n",
    "        parent[x_rep] = y_rep\n",
    "        size[y_rep] += size[x_rep]\n",
    "    elif y_rep < x_rep:\n",
    "        parent[y_rep] = x_rep\n",
    "        size[x_rep] += size[y_rep]\n",
    "    print(parent, size)\n",
    "\n",
    "n, m = list(map(int, input().split()))\n",
    "parent = [i for i in range(n)]\n",
    "size = [1 for i in range(n)]\n",
    "res = 0\n",
    "for i in range(m):\n",
    "    a, b = list(map(int, input().split()))\n",
    "#     a, b = list(map(int, sys.stdin.readline().rstrip().split()))\n",
    "#     if parent[a] == parent[b] and res == 0:\n",
    "#         res = i + 1\n",
    "    print(find(a), find(b))\n",
    "    union(a, b)\n",
    "print(res)"
   ]
  },
  {
   "cell_type": "code",
   "execution_count": 37,
   "metadata": {
    "ExecuteTime": {
     "end_time": "2021-12-01T08:21:41.042463Z",
     "start_time": "2021-12-01T08:21:41.007584Z"
    }
   },
   "outputs": [
    {
     "data": {
      "text/plain": [
       "[3, 3, 3, 5, 5, 5]"
      ]
     },
     "execution_count": 37,
     "metadata": {},
     "output_type": "execute_result"
    }
   ],
   "source": [
    "parent"
   ]
  },
  {
   "cell_type": "code",
   "execution_count": 32,
   "metadata": {
    "ExecuteTime": {
     "end_time": "2021-12-01T07:39:21.772724Z",
     "start_time": "2021-12-01T07:39:21.767765Z"
    }
   },
   "outputs": [
    {
     "data": {
      "text/plain": [
       "[3, 3, 3, 5, 5, 5]"
      ]
     },
     "execution_count": 32,
     "metadata": {},
     "output_type": "execute_result"
    }
   ],
   "source": [
    "parent"
   ]
  },
  {
   "cell_type": "code",
   "execution_count": 26,
   "metadata": {
    "ExecuteTime": {
     "end_time": "2021-12-01T07:33:20.236628Z",
     "start_time": "2021-12-01T07:33:20.232639Z"
    }
   },
   "outputs": [
    {
     "data": {
      "text/plain": [
       "5"
      ]
     },
     "execution_count": 26,
     "metadata": {},
     "output_type": "execute_result"
    }
   ],
   "source": [
    "from collections import Counter\n",
    "\n",
    "if Counter(parent).most_common(1)[0][1] >= 3:\n",
    "    print(i + 1)"
   ]
  },
  {
   "cell_type": "code",
   "execution_count": 11,
   "metadata": {
    "ExecuteTime": {
     "end_time": "2021-12-01T03:42:37.838421Z",
     "start_time": "2021-12-01T03:42:37.832465Z"
    }
   },
   "outputs": [
    {
     "name": "stdout",
     "output_type": "stream",
     "text": [
      "3 3\n"
     ]
    },
    {
     "data": {
      "text/plain": [
       "[3, 3, 3, 3, 4, 5]"
      ]
     },
     "execution_count": 11,
     "metadata": {},
     "output_type": "execute_result"
    }
   ],
   "source": [
    "parent = [1, 2, 3, 3, 4, 5]\n",
    "# union(0, 3)\n",
    "# parent\n",
    "print(find(0), find(3))\n",
    "parent"
   ]
  },
  {
   "cell_type": "code",
   "execution_count": null,
   "metadata": {},
   "outputs": [],
   "source": [
    "0 1 2 3 4 5\n",
    "2 2 2 3 4 5"
   ]
  },
  {
   "cell_type": "code",
   "execution_count": 6,
   "metadata": {
    "ExecuteTime": {
     "end_time": "2021-12-01T03:24:55.958400Z",
     "start_time": "2021-12-01T03:24:55.917510Z"
    }
   },
   "outputs": [
    {
     "data": {
      "text/plain": [
       "[3, 3, 3, 3, 5, 5]"
      ]
     },
     "execution_count": 6,
     "metadata": {},
     "output_type": "execute_result"
    }
   ],
   "source": [
    "parent"
   ]
  }
 ],
 "metadata": {
  "kernelspec": {
   "display_name": "Python 3",
   "language": "python",
   "name": "python3"
  },
  "language_info": {
   "codemirror_mode": {
    "name": "ipython",
    "version": 3
   },
   "file_extension": ".py",
   "mimetype": "text/x-python",
   "name": "python",
   "nbconvert_exporter": "python",
   "pygments_lexer": "ipython3",
   "version": "3.7.7"
  },
  "toc": {
   "base_numbering": 1,
   "nav_menu": {},
   "number_sections": true,
   "sideBar": true,
   "skip_h1_title": false,
   "title_cell": "Table of Contents",
   "title_sidebar": "Contents",
   "toc_cell": false,
   "toc_position": {},
   "toc_section_display": true,
   "toc_window_display": false
  }
 },
 "nbformat": 4,
 "nbformat_minor": 4
}
