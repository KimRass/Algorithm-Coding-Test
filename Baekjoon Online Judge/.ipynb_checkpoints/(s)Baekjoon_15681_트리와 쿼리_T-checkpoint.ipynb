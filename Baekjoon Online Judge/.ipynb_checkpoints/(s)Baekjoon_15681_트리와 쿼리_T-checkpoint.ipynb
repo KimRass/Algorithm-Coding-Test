{
 "cells": [
  {
   "cell_type": "markdown",
   "metadata": {},
   "source": [
    "Written by KimRass\n",
    "- Source: https://www.acmicpc.net/problem/15681"
   ]
  },
  {
   "cell_type": "code",
   "execution_count": 64,
   "metadata": {
    "ExecuteTime": {
     "end_time": "2021-10-25T03:38:00.156699Z",
     "start_time": "2021-10-25T03:37:46.538134Z"
    }
   },
   "outputs": [
    {
     "name": "stdout",
     "output_type": "stream",
     "text": [
      "9 5 3\n",
      "1 3\n",
      "4 3\n",
      "5 4\n",
      "5 6\n",
      "6 7\n",
      "2 3\n",
      "9 6\n",
      "6 8\n",
      "5\n",
      "9\n",
      "4\n",
      "4\n",
      "8\n",
      "1\n"
     ]
    }
   ],
   "source": [
    "import sys\n",
    "\n",
    "sys.setrecursionlimit(10000000)\n",
    "\n",
    "N, R, Q = list(map(int, input().split()))\n",
    "tree = dict()\n",
    "for _ in range(N - 1):\n",
    "#     U, V = list(map(int, input().split()))\n",
    "    U, V = list(map(int, sys.stdin.readline().rstrip().split()))\n",
    "    if U not in tree:\n",
    "        tree[U] = list()\n",
    "    tree[U].append(V)\n",
    "    if V not in tree:\n",
    "        tree[V] = list()\n",
    "    tree[V].append(U)    \n",
    "\n",
    "size = dict()\n",
    "visited = {i:False for i in tree}\n",
    "visited[R] = True\n",
    "\n",
    "def subtree(cur_node) :\n",
    "    size[cur_node] = 1\n",
    "    for next_node in tree[cur_node]:\n",
    "        if visited[next_node] == False:\n",
    "            visited[next_node] = True\n",
    "            subtree(next_node)\n",
    "            size[cur_node] += size[next_node]\n",
    "            \n",
    "subtree(R)\n",
    "\n",
    "for _ in range(Q):\n",
    "#     print(size[int(input())])\n",
    "    print(size[int(sys.stdin.readline().rstrip())])"
   ]
  },
  {
   "cell_type": "code",
   "execution_count": null,
   "metadata": {},
   "outputs": [],
   "source": [
    "import sys\n",
    "\n",
    "N, R, Q = list(map(int, input().split()))\n",
    "tree = dict()\n",
    "for _ in range(N - 1):\n",
    "#     U, V = list(map(int, input().split()))\n",
    "    U, V = list(map(int, sys.stdin.readline().rstrip().split()))\n",
    "    if U not in tree:\n",
    "        tree[U] = list()\n",
    "    tree[U].append(V)\n",
    "    if V not in tree:\n",
    "        tree[V] = list()\n",
    "    tree[V].append(U)   \n",
    "\n",
    "root = R\n",
    "stack = [(root, 0)]\n",
    "visited = {i:False for i in tree}\n",
    "lvl = list()\n",
    "while stack:\n",
    "    cur_node, cur_size = stack.pop()\n",
    "    if visited[cur_node] == False:\n",
    "        visited[cur_node] = True\n",
    "        lvl.append((cur_node, cur_size))\n",
    "        for next_node in tree[cur_node]:\n",
    "            stack.append((next_node, cur_size + 1))\n",
    "\n",
    "node2size = {i:1 for i in tree}\n",
    "for i in range(N):\n",
    "    tar = lvl[i][0]\n",
    "    for j in range(i + 1, N):\n",
    "        if lvl[j][1] > lvl[i][1]:\n",
    "            node2size[tar] += 1\n",
    "        else:\n",
    "            break\n",
    "\n",
    "for _ in range(Q):\n",
    "#     print(node2size[int(input())])\n",
    "    print(node2size[int(sys.stdin.readline().rstrip())])"
   ]
  }
 ],
 "metadata": {
  "hide_input": false,
  "kernelspec": {
   "display_name": "Python 3",
   "language": "python",
   "name": "python3"
  },
  "language_info": {
   "codemirror_mode": {
    "name": "ipython",
    "version": 3
   },
   "file_extension": ".py",
   "mimetype": "text/x-python",
   "name": "python",
   "nbconvert_exporter": "python",
   "pygments_lexer": "ipython3",
   "version": "3.7.7"
  },
  "toc": {
   "base_numbering": 1,
   "nav_menu": {},
   "number_sections": true,
   "sideBar": true,
   "skip_h1_title": false,
   "title_cell": "Table of Contents",
   "title_sidebar": "Contents",
   "toc_cell": false,
   "toc_position": {},
   "toc_section_display": true,
   "toc_window_display": false
  },
  "varInspector": {
   "cols": {
    "lenName": 16,
    "lenType": 16,
    "lenVar": 40
   },
   "kernels_config": {
    "python": {
     "delete_cmd_postfix": "",
     "delete_cmd_prefix": "del ",
     "library": "var_list.py",
     "varRefreshCmd": "print(var_dic_list())"
    },
    "r": {
     "delete_cmd_postfix": ") ",
     "delete_cmd_prefix": "rm(",
     "library": "var_list.r",
     "varRefreshCmd": "cat(var_dic_list()) "
    }
   },
   "types_to_exclude": [
    "module",
    "function",
    "builtin_function_or_method",
    "instance",
    "_Feature"
   ],
   "window_display": false
  }
 },
 "nbformat": 4,
 "nbformat_minor": 4
}
