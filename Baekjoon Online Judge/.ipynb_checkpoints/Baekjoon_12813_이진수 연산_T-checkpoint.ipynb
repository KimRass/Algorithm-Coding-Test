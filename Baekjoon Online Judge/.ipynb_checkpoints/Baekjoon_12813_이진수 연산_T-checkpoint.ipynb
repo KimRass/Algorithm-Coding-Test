{
 "cells": [
  {
   "cell_type": "markdown",
   "metadata": {},
   "source": [
    "Written by KimRass\n",
    "- Source: https://www.acmicpc.net/problem/12813"
   ]
  },
  {
   "cell_type": "code",
   "execution_count": 109,
   "metadata": {
    "ExecuteTime": {
     "end_time": "2021-11-28T11:22:21.044241Z",
     "start_time": "2021-11-28T11:22:16.429915Z"
    }
   },
   "outputs": [
    {
     "name": "stdout",
     "output_type": "stream",
     "text": [
      "0001011000\n",
      "0000101111\n",
      "0000001000\n",
      "0001111111\n",
      "0001110111\n",
      "1110100111\n",
      "1111010000\n"
     ]
    }
   ],
   "source": [
    "A = int(input(), 2)\n",
    "B = int(input(), 2)\n",
    "\n",
    "# leng = 100000\n",
    "leng = 10\n",
    "mask = int(\"1\"*leng, 2)\n",
    "\n",
    "print(f\"{bin(A & B)[2:]:0>{leng}}\")\n",
    "print(f\"{bin(A | B)[2:]:0>{leng}}\")\n",
    "print(f\"{bin(A ^ B)[2:]:0>{leng}}\")\n",
    "print(f\"{bin(A ^ mask)[2:]:0>{leng}}\")\n",
    "print(f\"{bin(B ^ mask)[2:]:0>{leng}}\")"
   ]
  }
 ],
 "metadata": {
  "hide_input": false,
  "kernelspec": {
   "display_name": "Python 3",
   "language": "python",
   "name": "python3"
  },
  "language_info": {
   "codemirror_mode": {
    "name": "ipython",
    "version": 3
   },
   "file_extension": ".py",
   "mimetype": "text/x-python",
   "name": "python",
   "nbconvert_exporter": "python",
   "pygments_lexer": "ipython3",
   "version": "3.8.5"
  },
  "toc": {
   "base_numbering": 1,
   "nav_menu": {},
   "number_sections": true,
   "sideBar": true,
   "skip_h1_title": false,
   "title_cell": "Table of Contents",
   "title_sidebar": "Contents",
   "toc_cell": false,
   "toc_position": {},
   "toc_section_display": true,
   "toc_window_display": false
  },
  "varInspector": {
   "cols": {
    "lenName": 16,
    "lenType": 16,
    "lenVar": 40
   },
   "kernels_config": {
    "python": {
     "delete_cmd_postfix": "",
     "delete_cmd_prefix": "del ",
     "library": "var_list.py",
     "varRefreshCmd": "print(var_dic_list())"
    },
    "r": {
     "delete_cmd_postfix": ") ",
     "delete_cmd_prefix": "rm(",
     "library": "var_list.r",
     "varRefreshCmd": "cat(var_dic_list()) "
    }
   },
   "types_to_exclude": [
    "module",
    "function",
    "builtin_function_or_method",
    "instance",
    "_Feature"
   ],
   "window_display": false
  }
 },
 "nbformat": 4,
 "nbformat_minor": 4
}
