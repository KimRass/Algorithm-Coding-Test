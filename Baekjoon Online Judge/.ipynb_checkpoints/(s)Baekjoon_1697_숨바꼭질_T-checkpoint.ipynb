{
 "cells": [
  {
   "cell_type": "markdown",
   "metadata": {},
   "source": [
    "Written by KimRass\n",
    "- Source: https://www.acmicpc.net/problem/1463"
   ]
  },
  {
   "cell_type": "code",
   "execution_count": 12,
   "metadata": {
    "ExecuteTime": {
     "end_time": "2021-10-10T13:11:02.415345Z",
     "start_time": "2021-10-10T13:10:59.999404Z"
    }
   },
   "outputs": [
    {
     "name": "stdout",
     "output_type": "stream",
     "text": [
      "5 17\n",
      "4\n"
     ]
    }
   ],
   "source": [
    "from collections import deque\n",
    "\n",
    "N, K = list(map(int, input().split()))\n",
    "\n",
    "lim = 100000\n",
    "dq = deque([(N, 0)])\n",
    "visited = {i:False for i in range(2*lim)}\n",
    "while dq:\n",
    "    start, step = dq.popleft()\n",
    "    if start == K:\n",
    "        break\n",
    "    else:\n",
    "        if visited[start] == False:\n",
    "            visited[start] = True\n",
    "            if start <= lim -1 and visited[start + 1] == False:\n",
    "                dq.append((start + 1, step + 1))\n",
    "            if start >= 1 and visited[start - 1] == False:\n",
    "                dq.append((start - 1, step + 1))\n",
    "            if start <= lim//2 and visited[2*start] == False:\n",
    "                dq.append((2*start, step + 1))\n",
    "\n",
    "print(step)"
   ]
  }
 ],
 "metadata": {
  "hide_input": false,
  "kernelspec": {
   "display_name": "Python 3",
   "language": "python",
   "name": "python3"
  },
  "language_info": {
   "codemirror_mode": {
    "name": "ipython",
    "version": 3
   },
   "file_extension": ".py",
   "mimetype": "text/x-python",
   "name": "python",
   "nbconvert_exporter": "python",
   "pygments_lexer": "ipython3",
   "version": "3.8.5"
  },
  "toc": {
   "base_numbering": 1,
   "nav_menu": {},
   "number_sections": true,
   "sideBar": true,
   "skip_h1_title": false,
   "title_cell": "Table of Contents",
   "title_sidebar": "Contents",
   "toc_cell": false,
   "toc_position": {},
   "toc_section_display": true,
   "toc_window_display": false
  },
  "varInspector": {
   "cols": {
    "lenName": 16,
    "lenType": 16,
    "lenVar": 40
   },
   "kernels_config": {
    "python": {
     "delete_cmd_postfix": "",
     "delete_cmd_prefix": "del ",
     "library": "var_list.py",
     "varRefreshCmd": "print(var_dic_list())"
    },
    "r": {
     "delete_cmd_postfix": ") ",
     "delete_cmd_prefix": "rm(",
     "library": "var_list.r",
     "varRefreshCmd": "cat(var_dic_list()) "
    }
   },
   "types_to_exclude": [
    "module",
    "function",
    "builtin_function_or_method",
    "instance",
    "_Feature"
   ],
   "window_display": false
  }
 },
 "nbformat": 4,
 "nbformat_minor": 4
}
