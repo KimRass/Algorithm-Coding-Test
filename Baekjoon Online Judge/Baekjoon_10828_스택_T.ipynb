{
 "cells": [
  {
   "cell_type": "markdown",
   "metadata": {},
   "source": [
    "Written by KimRass\n",
    "- Source: https://www.acmicpc.net/problem/10828"
   ]
  },
  {
   "cell_type": "code",
   "execution_count": 7,
   "metadata": {
    "ExecuteTime": {
     "end_time": "2021-10-08T03:34:32.870639Z",
     "start_time": "2021-10-08T03:34:24.363399Z"
    }
   },
   "outputs": [
    {
     "name": "stdout",
     "output_type": "stream",
     "text": [
      "7\n",
      "pop\n",
      "-1\n",
      "top\n",
      "-1\n",
      "push 123\n",
      "top\n",
      "123\n",
      "pop\n",
      "123\n",
      "top\n",
      "-1\n",
      "pop\n",
      "-1\n"
     ]
    }
   ],
   "source": [
    "import sys\n",
    "\n",
    "N = int(input())\n",
    "stack = list()\n",
    "for _ in range(N):\n",
    "    cmd = input()\n",
    "#     cmd = sys.stdin.readline().rstrip()\n",
    "    if \"push\" in cmd:\n",
    "        stack.append(int(cmd.split()[1]))\n",
    "    elif cmd == \"pop\":\n",
    "        print(stack.pop() if stack else -1)\n",
    "    elif cmd == \"size\":\n",
    "        print(len(stack))\n",
    "    elif cmd == \"empty\":\n",
    "        print(0 if stack else 1)\n",
    "    elif cmd == \"top\":\n",
    "        print(stack[-1] if stack else -1)"
   ]
  }
 ],
 "metadata": {
  "kernelspec": {
   "display_name": "Python 3",
   "language": "python",
   "name": "python3"
  },
  "language_info": {
   "codemirror_mode": {
    "name": "ipython",
    "version": 3
   },
   "file_extension": ".py",
   "mimetype": "text/x-python",
   "name": "python",
   "nbconvert_exporter": "python",
   "pygments_lexer": "ipython3",
   "version": "3.7.7"
  },
  "toc": {
   "base_numbering": 1,
   "nav_menu": {},
   "number_sections": true,
   "sideBar": true,
   "skip_h1_title": false,
   "title_cell": "Table of Contents",
   "title_sidebar": "Contents",
   "toc_cell": false,
   "toc_position": {},
   "toc_section_display": true,
   "toc_window_display": false
  }
 },
 "nbformat": 4,
 "nbformat_minor": 4
}
