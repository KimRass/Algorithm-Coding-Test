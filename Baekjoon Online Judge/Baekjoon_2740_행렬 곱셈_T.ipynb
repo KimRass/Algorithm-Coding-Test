{
 "cells": [
  {
   "cell_type": "markdown",
   "metadata": {},
   "source": [
    "Written by KimRass\n",
    "- Source: https://www.acmicpc.net/problem/2740"
   ]
  },
  {
   "cell_type": "code",
   "execution_count": 22,
   "metadata": {
    "ExecuteTime": {
     "end_time": "2021-09-22T14:56:54.670184Z",
     "start_time": "2021-09-22T14:56:45.511954Z"
    }
   },
   "outputs": [
    {
     "name": "stdout",
     "output_type": "stream",
     "text": [
      "3 2\n",
      "1 2\n",
      "3 4\n",
      "5 6\n",
      "2 3\n",
      "-1 -2 0\n",
      "0 0 3\n",
      "-1 -2 6\n",
      "-3 -6 12\n",
      "-5 -10 18\n"
     ]
    }
   ],
   "source": [
    "N, M = list(map(int, input().split()))\n",
    "A = list()\n",
    "for _ in range(N):\n",
    "    A.append(list(map(int, input().split())))\n",
    "M, K = list(map(int, input().split()))\n",
    "B = list()\n",
    "for _ in range(M):\n",
    "    B.append(list(map(int, input().split())))\n",
    "\n",
    "C = [[0 for _ in range(K)] for _ in range(N)]\n",
    "\n",
    "for n in range(N):\n",
    "    for k in range(K):\n",
    "        temp = 0\n",
    "        for m in range(M):\n",
    "            temp += A[n][m]*B[m][k]\n",
    "        else:\n",
    "            C[n][k] = str(temp)\n",
    "\n",
    "for row in C:\n",
    "    print(\" \".join(row))"
   ]
  }
 ],
 "metadata": {
  "hide_input": false,
  "kernelspec": {
   "display_name": "Python 3",
   "language": "python",
   "name": "python3"
  },
  "language_info": {
   "codemirror_mode": {
    "name": "ipython",
    "version": 3
   },
   "file_extension": ".py",
   "mimetype": "text/x-python",
   "name": "python",
   "nbconvert_exporter": "python",
   "pygments_lexer": "ipython3",
   "version": "3.8.5"
  },
  "toc": {
   "base_numbering": 1,
   "nav_menu": {},
   "number_sections": true,
   "sideBar": true,
   "skip_h1_title": false,
   "title_cell": "Table of Contents",
   "title_sidebar": "Contents",
   "toc_cell": false,
   "toc_position": {},
   "toc_section_display": true,
   "toc_window_display": false
  },
  "varInspector": {
   "cols": {
    "lenName": 16,
    "lenType": 16,
    "lenVar": 40
   },
   "kernels_config": {
    "python": {
     "delete_cmd_postfix": "",
     "delete_cmd_prefix": "del ",
     "library": "var_list.py",
     "varRefreshCmd": "print(var_dic_list())"
    },
    "r": {
     "delete_cmd_postfix": ") ",
     "delete_cmd_prefix": "rm(",
     "library": "var_list.r",
     "varRefreshCmd": "cat(var_dic_list()) "
    }
   },
   "types_to_exclude": [
    "module",
    "function",
    "builtin_function_or_method",
    "instance",
    "_Feature"
   ],
   "window_display": false
  }
 },
 "nbformat": 4,
 "nbformat_minor": 4
}
