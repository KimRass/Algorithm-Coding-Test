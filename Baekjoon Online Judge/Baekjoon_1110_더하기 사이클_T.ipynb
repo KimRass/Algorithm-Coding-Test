{
 "cells": [
  {
   "cell_type": "markdown",
   "metadata": {},
   "source": [
    "Written by KimRass\n",
    "- Source: https://www.acmicpc.net/problem/1110"
   ]
  },
  {
   "cell_type": "code",
   "execution_count": 36,
   "metadata": {
    "ExecuteTime": {
     "end_time": "2021-12-03T03:59:20.087177Z",
     "start_time": "2021-12-03T03:59:19.471823Z"
    }
   },
   "outputs": [
    {
     "name": "stdout",
     "output_type": "stream",
     "text": [
      "1\n",
      "60\n"
     ]
    }
   ],
   "source": [
    "ori = int(input())\n",
    "if ori == 0:\n",
    "    print(1)\n",
    "else:\n",
    "    trans = str(ori)[-1] + str(sum(map(int, str(ori))))[-1]\n",
    "    cnt = 1\n",
    "    while trans != ori:\n",
    "        trans = int(str(trans)[-1] + str(sum(map(int, str(trans))))[-1])\n",
    "        cnt += 1\n",
    "    print(cnt)"
   ]
  }
 ],
 "metadata": {
  "kernelspec": {
   "display_name": "Python 3",
   "language": "python",
   "name": "python3"
  },
  "language_info": {
   "codemirror_mode": {
    "name": "ipython",
    "version": 3
   },
   "file_extension": ".py",
   "mimetype": "text/x-python",
   "name": "python",
   "nbconvert_exporter": "python",
   "pygments_lexer": "ipython3",
   "version": "3.7.7"
  },
  "toc": {
   "base_numbering": 1,
   "nav_menu": {},
   "number_sections": true,
   "sideBar": true,
   "skip_h1_title": false,
   "title_cell": "Table of Contents",
   "title_sidebar": "Contents",
   "toc_cell": false,
   "toc_position": {},
   "toc_section_display": true,
   "toc_window_display": false
  }
 },
 "nbformat": 4,
 "nbformat_minor": 4
}
