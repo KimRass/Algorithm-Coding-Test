{
 "cells": [
  {
   "cell_type": "code",
   "execution_count": 1,
   "metadata": {},
   "outputs": [],
   "source": [
    "def solution(answers):\n",
    "    n_q = len(answers)\n",
    "    nums1 = [1, 2, 3, 4, 5]*(n_q//5 + 1)\n",
    "    nums2 = [2, 1, 2, 3, 2, 4, 2, 5]*(n_q//8 + 1)\n",
    "    nums3 = [3, 3, 1, 1, 2, 2, 4, 4, 5, 5]*(n_q//10 + 1)\n",
    "    # print(nums1, nums2, nums3)\n",
    "    n_ans1 = sum([1 if a==b else 0 for a, b in zip(nums1, answers)])\n",
    "    n_ans2 = sum([1 if a==b else 0 for a, b in zip(nums2, answers)])\n",
    "    n_ans3 = sum([1 if a==b else 0 for a, b in zip(nums3, answers)])\n",
    "    lst = [n_ans1, n_ans2, n_ans3]\n",
    "    mx = max(lst)\n",
    "    ans = list()\n",
    "    for i, j in enumerate(lst):\n",
    "        if j == mx:\n",
    "            ans.append(i + 1)\n",
    "    return sorted(ans)"
   ]
  },
  {
   "cell_type": "code",
   "execution_count": null,
   "metadata": {},
   "outputs": [],
   "source": []
  }
 ],
 "metadata": {
  "kernelspec": {
   "display_name": "Python 3",
   "language": "python",
   "name": "python3"
  },
  "language_info": {
   "codemirror_mode": {
    "name": "ipython",
    "version": 3
   },
   "file_extension": ".py",
   "mimetype": "text/x-python",
   "name": "python",
   "nbconvert_exporter": "python",
   "pygments_lexer": "ipython3",
   "version": "3.8.5"
  }
 },
 "nbformat": 4,
 "nbformat_minor": 4
}
