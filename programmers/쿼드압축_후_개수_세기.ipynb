{
 "cells": [
  {
   "cell_type": "markdown",
   "metadata": {},
   "source": [
    "Written by KimRass\n",
    "- Source: https://programmers.co.kr/learn/courses/30/lessons/68936#"
   ]
  },
  {
   "cell_type": "code",
   "execution_count": 4,
   "metadata": {},
   "outputs": [],
   "source": [
    "def solution(arr):\n",
    "    leng = len(arr)\n",
    "    cur_leng = leng*2\n",
    "    ones = sum([sum(i) for i in arr])\n",
    "    zeros = leng**2 - ones\n",
    "    if leng == 1:\n",
    "        return [zeros, ones]\n",
    "    elif leng == 2:\n",
    "        return [zeros//4, ones//4]\n",
    "    else:\n",
    "        while cur_leng != 2:\n",
    "            cur_leng //= 2\n",
    "            for i in range(leng//cur_leng):\n",
    "                for j in range(leng//cur_leng):\n",
    "                    sub_arr = [col for row in arr[cur_leng*i:cur_leng*(i + 1)] for col in row[cur_leng*j:cur_leng*(j + 1)]]\n",
    "                    if sum(sub_arr) == 0:\n",
    "                        zeros -= (len(sub_arr) - 1)\n",
    "                        for p in range(cur_leng*i, cur_leng*(i + 1)):\n",
    "                            for q in range(cur_leng*j, cur_leng*(j + 1)):\n",
    "                                arr[p][q] = 2\n",
    "                    elif sum(sub_arr) == len(sub_arr):\n",
    "                        ones -= (len(sub_arr) - 1)\n",
    "                        for p in range(cur_leng*i, cur_leng*(i + 1)):\n",
    "                            for q in range(cur_leng*j, cur_leng*(j + 1)):\n",
    "                                arr[p][q] = 2\n",
    "    return [zeros, ones]"
   ]
  },
  {
   "cell_type": "code",
   "execution_count": 5,
   "metadata": {},
   "outputs": [
    {
     "data": {
      "text/plain": [
       "[10, 15]"
      ]
     },
     "execution_count": 5,
     "metadata": {},
     "output_type": "execute_result"
    }
   ],
   "source": [
    "arr = [[1,1,1,1,1,1,1,1],[0,1,1,1,1,1,1,1],[0,0,0,0,1,1,1,1],[0,1,0,0,1,1,1,1],[0,0,0,0,0,0,1,1],[0,0,0,0,0,0,0,1],[0,0,0,0,1,0,0,1],[0,0,0,0,1,1,1,1]]\n",
    "\n",
    "solution(arr)"
   ]
  }
 ],
 "metadata": {
  "hide_input": false,
  "kernelspec": {
   "display_name": "Python 3",
   "language": "python",
   "name": "python3"
  },
  "language_info": {
   "codemirror_mode": {
    "name": "ipython",
    "version": 3
   },
   "file_extension": ".py",
   "mimetype": "text/x-python",
   "name": "python",
   "nbconvert_exporter": "python",
   "pygments_lexer": "ipython3",
   "version": "3.8.5"
  },
  "toc": {
   "base_numbering": 1,
   "nav_menu": {},
   "number_sections": true,
   "sideBar": true,
   "skip_h1_title": false,
   "title_cell": "Table of Contents",
   "title_sidebar": "Contents",
   "toc_cell": false,
   "toc_position": {},
   "toc_section_display": true,
   "toc_window_display": false
  },
  "varInspector": {
   "cols": {
    "lenName": 16,
    "lenType": 16,
    "lenVar": 40
   },
   "kernels_config": {
    "python": {
     "delete_cmd_postfix": "",
     "delete_cmd_prefix": "del ",
     "library": "var_list.py",
     "varRefreshCmd": "print(var_dic_list())"
    },
    "r": {
     "delete_cmd_postfix": ") ",
     "delete_cmd_prefix": "rm(",
     "library": "var_list.r",
     "varRefreshCmd": "cat(var_dic_list()) "
    }
   },
   "types_to_exclude": [
    "module",
    "function",
    "builtin_function_or_method",
    "instance",
    "_Feature"
   ],
   "window_display": false
  }
 },
 "nbformat": 4,
 "nbformat_minor": 4
}
