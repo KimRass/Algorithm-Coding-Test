{
 "cells": [
  {
   "cell_type": "code",
   "execution_count": null,
   "metadata": {},
   "outputs": [],
   "source": [
    "from bisect import bisect_left, bisect_right\n",
    "\n",
    "def solution(food_times, k):\n",
    "    leng = len(food_times)\n",
    "    food_times_sort = sorted(food_times)\n",
    "    p = 0\n",
    "    while True:\n",
    "        number = bisect_right(food_times_sort, p) - bisect_left(food_times_sort, p)\n",
    "        leng -= number\n",
    "        k -= leng\n",
    "        p += 1\n",
    "        if k < 0:\n",
    "            k += leng\n",
    "            p -= 1\n",
    "            break\n",
    "    \n",
    "    food_times = [i - p for i in food_times]\n",
    "    if food_times.count(0) == len(food_times):\n",
    "        return -1\n",
    "    else:\n",
    "        i = 0\n",
    "        j = 0\n",
    "        for num in food_times:\n",
    "            i += 1\n",
    "            if num > 0:\n",
    "                j += 1\n",
    "            if j == k + 1:\n",
    "                return i\n",
    "    # return None\n",
    "        "
   ]
  }
 ],
 "metadata": {
  "kernelspec": {
   "display_name": "Python 3",
   "language": "python",
   "name": "python3"
  },
  "language_info": {
   "codemirror_mode": {
    "name": "ipython",
    "version": 3
   },
   "file_extension": ".py",
   "mimetype": "text/x-python",
   "name": "python",
   "nbconvert_exporter": "python",
   "pygments_lexer": "ipython3",
   "version": "3.8.5"
  }
 },
 "nbformat": 4,
 "nbformat_minor": 4
}
