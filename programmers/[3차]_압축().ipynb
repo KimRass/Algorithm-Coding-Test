{
 "cells": [
  {
   "cell_type": "markdown",
   "metadata": {},
   "source": [
    "- Source: https://programmers.co.kr/learn/courses/30/lessons/17684"
   ]
  },
  {
   "cell_type": "code",
   "execution_count": 1,
   "metadata": {},
   "outputs": [],
   "source": [
    "def solution(msg):\n",
    "    dic = {j:i + 1 for i, j in enumerate(\"ABCDEFGHIJKLMNOPQRSTUVWXYZ\")}\n",
    "    ans = list()\n",
    "    word = \"\"\n",
    "    i = 0\n",
    "    j = 1\n",
    "    while True:\n",
    "        word = msg[i:j]\n",
    "        if word in dic:\n",
    "            if j == len(msg):\n",
    "                ans.append(dic[word])\n",
    "                break\n",
    "            else:\n",
    "                j += 1\n",
    "        else:\n",
    "            dic.update({word:len(dic) + 1})\n",
    "            ans.append(dic[word[:-1]])\n",
    "            i = j - 1\n",
    "            j = i + 1\n",
    "    return ans"
   ]
  },
  {
   "cell_type": "code",
   "execution_count": 3,
   "metadata": {},
   "outputs": [
    {
     "data": {
      "text/plain": [
       "[20, 15, 2, 5, 15, 18, 14, 15, 20, 27, 29, 31, 36, 30, 32, 34]"
      ]
     },
     "execution_count": 3,
     "metadata": {},
     "output_type": "execute_result"
    }
   ],
   "source": [
    "msg = \"TOBEORNOTTOBEORTOBEORNOT\"\n",
    "\n",
    "solution(msg)"
   ]
  }
 ],
 "metadata": {
  "kernelspec": {
   "display_name": "Python 3",
   "language": "python",
   "name": "python3"
  },
  "language_info": {
   "codemirror_mode": {
    "name": "ipython",
    "version": 3
   },
   "file_extension": ".py",
   "mimetype": "text/x-python",
   "name": "python",
   "nbconvert_exporter": "python",
   "pygments_lexer": "ipython3",
   "version": "3.8.5"
  }
 },
 "nbformat": 4,
 "nbformat_minor": 4
}
