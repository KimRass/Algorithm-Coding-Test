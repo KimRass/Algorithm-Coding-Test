{
 "cells": [
  {
   "cell_type": "code",
   "execution_count": 3,
   "metadata": {},
   "outputs": [],
   "source": [
    "def solution(dirs):\n",
    "    cur = (0, 0)\n",
    "    route = list()\n",
    "    dic = {\"L\":(-1, 0), \"R\":(1, 0), \"U\":(0, 1), \"D\":(0, -1)}\n",
    "    for dir in dirs:\n",
    "        del_x = dic[dir][0]\n",
    "        del_y = dic[dir][1]\n",
    "        next_x = max(-5, min(5, cur[0] + del_x))\n",
    "        next_y = max(-5, min(5, cur[1] + del_y))\n",
    "        next = (next_x, next_y)\n",
    "        step = {cur, next}\n",
    "        if len(step) == 2 and step not in route:\n",
    "            route.append(step)\n",
    "        cur = next\n",
    "    return len(route)"
   ]
  },
  {
   "cell_type": "code",
   "execution_count": 4,
   "metadata": {},
   "outputs": [
    {
     "data": {
      "text/plain": [
       "7"
      ]
     },
     "execution_count": 4,
     "metadata": {},
     "output_type": "execute_result"
    }
   ],
   "source": [
    "dirs = \"LULLLLLLU\"\n",
    "\n",
    "solution(dirs)"
   ]
  }
 ],
 "metadata": {
  "kernelspec": {
   "display_name": "Python 3",
   "language": "python",
   "name": "python3"
  },
  "language_info": {
   "codemirror_mode": {
    "name": "ipython",
    "version": 3
   },
   "file_extension": ".py",
   "mimetype": "text/x-python",
   "name": "python",
   "nbconvert_exporter": "python",
   "pygments_lexer": "ipython3",
   "version": "3.7.7"
  }
 },
 "nbformat": 4,
 "nbformat_minor": 4
}
