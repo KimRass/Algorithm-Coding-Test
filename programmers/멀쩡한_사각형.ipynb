{
 "cells": [
  {
   "cell_type": "code",
   "execution_count": null,
   "metadata": {},
   "outputs": [],
   "source": [
    "import math\n",
    "\n",
    "def solution(w, h):\n",
    "    if w == h:\n",
    "        return w*h - w\n",
    "    if w == 1 or h == 1:\n",
    "        return 0\n",
    "    tot_sum = 0\n",
    "    for i in range(1, w//2 + 1):\n",
    "        sub_sum = math.ceil(h*i/w) - math.floor(h*(i - 1)/w)\n",
    "        tot_sum += 2*sub_sum\n",
    "    if w%2 == 1:\n",
    "        tot_sum += math.ceil(h*(w//2 + 1)/w) - math.floor(h*((w//2 + 1) - 1)/w)\n",
    "    return w*h - tot_sum"
   ]
  }
 ],
 "metadata": {
  "kernelspec": {
   "display_name": "Python 3",
   "language": "python",
   "name": "python3"
  },
  "language_info": {
   "codemirror_mode": {
    "name": "ipython",
    "version": 3
   },
   "file_extension": ".py",
   "mimetype": "text/x-python",
   "name": "python",
   "nbconvert_exporter": "python",
   "pygments_lexer": "ipython3",
   "version": "3.8.5"
  }
 },
 "nbformat": 4,
 "nbformat_minor": 4
}
