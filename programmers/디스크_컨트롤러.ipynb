{
 "cells": [
  {
   "cell_type": "code",
   "execution_count": 28,
   "metadata": {},
   "outputs": [],
   "source": [
    "import heapq as hq\n",
    "\n",
    "def solution(jobs):\n",
    "    hq.heapify(jobs)\n",
    "    end = jobs[0][0]\n",
    "    tot_time = list()\n",
    "    process = False\n",
    "    w = list()\n",
    "    while jobs:\n",
    "        if process == False:\n",
    "            work = hq.heappop(jobs)\n",
    "            end = work[0] + work[1]\n",
    "        else:\n",
    "            wo = [i for i in jobs_rev if i[1] > end]\n",
    "            work = hq.heappop(w)[::-1]\n",
    "            jobs = [i[::-1] for i in w + wo]\n",
    "            end += work[1]\n",
    "        jobs_rev = [i[::-1] for i in jobs]\n",
    "        hq.heapify(jobs_rev)\n",
    "        w = [i for i in jobs_rev if i[1] <= end]\n",
    "        hq.heapify(w)\n",
    "        process = True if w else False\n",
    "        tot_time.append(end - work[0])\n",
    "    return sum(tot_time)//len(tot_time)"
   ]
  },
  {
   "cell_type": "code",
   "execution_count": 29,
   "metadata": {},
   "outputs": [
    {
     "data": {
      "text/plain": [
       "72"
      ]
     },
     "execution_count": 29,
     "metadata": {},
     "output_type": "execute_result"
    }
   ],
   "source": [
    "jobs = [[24, 10], [28, 39], [43, 20], [37, 5], [47, 22], [20, 47], [15, 34], [15, 2], [35, 43], [26, 1]]\n",
    "\n",
    "solution(jobs)"
   ]
  },
  {
   "cell_type": "code",
   "execution_count": 30,
   "metadata": {},
   "outputs": [
    {
     "data": {
      "text/plain": [
       "6"
      ]
     },
     "execution_count": 30,
     "metadata": {},
     "output_type": "execute_result"
    }
   ],
   "source": [
    "jobs = [[0, 5], [2, 10], [1000, 2]]\n",
    "\n",
    "solution(jobs)"
   ]
  }
 ],
 "metadata": {
  "kernelspec": {
   "display_name": "Python 3",
   "language": "python",
   "name": "python3"
  },
  "language_info": {
   "codemirror_mode": {
    "name": "ipython",
    "version": 3
   },
   "file_extension": ".py",
   "mimetype": "text/x-python",
   "name": "python",
   "nbconvert_exporter": "python",
   "pygments_lexer": "ipython3",
   "version": "3.8.5"
  }
 },
 "nbformat": 4,
 "nbformat_minor": 4
}
