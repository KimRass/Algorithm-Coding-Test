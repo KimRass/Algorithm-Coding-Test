{
 "cells": [
  {
   "cell_type": "code",
   "execution_count": null,
   "metadata": {},
   "outputs": [],
   "source": [
    "from bisect import bisect_left, bisect_right\n",
    "\n",
    "def solution(people, limit):\n",
    "    people = sorted(people)\n",
    "    cnt = 0\n",
    "    while people:\n",
    "        a = people.pop()\n",
    "        rest = limit - a\n",
    "        idx = bisect_right(people, rest)\n",
    "        people = [j for i, j in enumerate(people) if i != idx - 1]\n",
    "        cnt += 1\n",
    "    return cnt"
   ]
  },
  {
   "cell_type": "code",
   "execution_count": null,
   "metadata": {},
   "outputs": [],
   "source": [
    "from collections import deque\n",
    "\n",
    "def solution(people, limit):\n",
    "    people = deque(sorted(people))\n",
    "    cnt = 0\n",
    "    while people:\n",
    "        a = people.popleft()\n",
    "        if not people:\n",
    "            cnt += 1\n",
    "        else:\n",
    "            i = -1\n",
    "            rest = limit - a\n",
    "            if people[0] <= rest:\n",
    "                while i != -(len(people) + 1):\n",
    "                    b = people[i]\n",
    "                    if b <= rest:\n",
    "                        people.remove(b)\n",
    "                        cnt += 1\n",
    "                        break\n",
    "                    else:\n",
    "                        i -= 1\n",
    "            else:\n",
    "                cnt += 1\n",
    "                continue\n",
    "    return cnt"
   ]
  }
 ],
 "metadata": {
  "kernelspec": {
   "display_name": "Python 3",
   "language": "python",
   "name": "python3"
  },
  "language_info": {
   "codemirror_mode": {
    "name": "ipython",
    "version": 3
   },
   "file_extension": ".py",
   "mimetype": "text/x-python",
   "name": "python",
   "nbconvert_exporter": "python",
   "pygments_lexer": "ipython3",
   "version": "3.8.5"
  }
 },
 "nbformat": 4,
 "nbformat_minor": 4
}
