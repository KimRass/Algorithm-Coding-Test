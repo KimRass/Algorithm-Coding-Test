{
 "cells": [
  {
   "cell_type": "markdown",
   "metadata": {},
   "source": [
    "- Source: https://programmers.co.kr/learn/courses/30/lessons/77486"
   ]
  },
  {
   "cell_type": "code",
   "execution_count": null,
   "metadata": {},
   "outputs": [],
   "source": [
    "def solution(enroll, referral, seller, amount):\n",
    "    mbr2money = {mbr:0 for mbr in enroll + [\"-\"]}\n",
    "    start2end = {start:end for start, end in zip(enroll, referral)}\n",
    "    amount = [i*100 for i in amount]\n",
    "    # print(start2end)\n",
    "    \n",
    "    for se, money in zip(seller, amount):\n",
    "        start = se\n",
    "        mbr2money[start] += money\n",
    "        while True:\n",
    "            # print(money)\n",
    "            if start in enroll:\n",
    "                end = start2end[start]\n",
    "            money = money//10\n",
    "            if money == 0:\n",
    "                break\n",
    "            else:\n",
    "                mbr2money[start] -= money\n",
    "                mbr2money[end] += money\n",
    "                start = end\n",
    "    return list(mbr2money.values())[:-1]"
   ]
  }
 ],
 "metadata": {
  "kernelspec": {
   "display_name": "Python 3",
   "language": "python",
   "name": "python3"
  },
  "language_info": {
   "codemirror_mode": {
    "name": "ipython",
    "version": 3
   },
   "file_extension": ".py",
   "mimetype": "text/x-python",
   "name": "python",
   "nbconvert_exporter": "python",
   "pygments_lexer": "ipython3",
   "version": "3.8.5"
  }
 },
 "nbformat": 4,
 "nbformat_minor": 4
}
