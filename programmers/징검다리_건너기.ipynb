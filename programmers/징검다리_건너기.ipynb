{
 "cells": [
  {
   "cell_type": "code",
   "execution_count": 2,
   "metadata": {},
   "outputs": [],
   "source": [
    "def solution(stones, k):\n",
    "    #print(\"0\"*k)\n",
    "    #stones = [str(i) for i in stones]\n",
    "    s = \"\".join(map(str, stones))\n",
    "    cnt = 0\n",
    "    minim = min([i for i in stones if i != 0])\n",
    "    while True:\n",
    "        if \"0\"*k in s:\n",
    "            return cnt\n",
    "        else:\n",
    "            # print(minim)\n",
    "            cnt += minim\n",
    "        minim = min([i for i in stones if i != 0])\n",
    "        stones = [0 if i == 0 else i - minim for i in stones]\n",
    "        #print(stones)\n",
    "        s = \"\".join(map(str, stones))\n",
    "        #print(s)"
   ]
  },
  {
   "cell_type": "code",
   "execution_count": null,
   "metadata": {},
   "outputs": [],
   "source": []
  }
 ],
 "metadata": {
  "kernelspec": {
   "display_name": "Python 3",
   "language": "python",
   "name": "python3"
  },
  "language_info": {
   "codemirror_mode": {
    "name": "ipython",
    "version": 3
   },
   "file_extension": ".py",
   "mimetype": "text/x-python",
   "name": "python",
   "nbconvert_exporter": "python",
   "pygments_lexer": "ipython3",
   "version": "3.7.7"
  }
 },
 "nbformat": 4,
 "nbformat_minor": 4
}
