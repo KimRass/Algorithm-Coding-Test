{
 "cells": [
  {
   "cell_type": "code",
   "execution_count": 1,
   "metadata": {},
   "outputs": [],
   "source": [
    "name = \"ABABAAAAAAABA\""
   ]
  },
  {
   "cell_type": "code",
   "execution_count": null,
   "metadata": {},
   "outputs": [],
   "source": [
    "[0 1 0 1 0 0 0 0 0 0 0 1 0]"
   ]
  },
  {
   "cell_type": "code",
   "execution_count": null,
   "metadata": {},
   "outputs": [],
   "source": [
    "[0 1 2 3 4 5 6 7 8 ...]"
   ]
  },
  {
   "cell_type": "code",
   "execution_count": 27,
   "metadata": {},
   "outputs": [],
   "source": [
    "from collections import deque\n",
    "\n",
    "def solution(name):\n",
    "    nums = [min(ord(char) - ord(\"A\"), ord(\"Z\") - ord(char) + 1) for char in name]\n",
    "    idxs = deque([idx for idx, num in zip(range(len(nums)), nums) if num!=0])\n",
    "    if nums[0] != 0:\n",
    "        idxs.popleft() \n",
    "    tot_len = 0\n",
    "    idx = 0\n",
    "    length = len(nums)\n",
    "    while True:\n",
    "        r_len = idxs[0]\n",
    "        l_len = length - idxs[-1]\n",
    "        if r_len >= l_len:\n",
    "            idxs.pop()\n",
    "            idx -= l_len\n",
    "            length -= 1\n",
    "        else:\n",
    "            idxs.popleft()\n",
    "            idx += r_len\n",
    "        tot_len += l_len\n",
    "        if len(idxs) == 0:\n",
    "            break\n",
    "    return sum(nums) + tot_len"
   ]
  },
  {
   "cell_type": "code",
   "execution_count": 21,
   "metadata": {},
   "outputs": [
    {
     "data": {
      "text/plain": [
       "17"
      ]
     },
     "execution_count": 21,
     "metadata": {},
     "output_type": "execute_result"
    }
   ],
   "source": [
    "solution(name)"
   ]
  },
  {
   "cell_type": "code",
   "execution_count": null,
   "metadata": {},
   "outputs": [],
   "source": [
    "[1 2 3 4]"
   ]
  },
  {
   "cell_type": "code",
   "execution_count": 28,
   "metadata": {},
   "outputs": [
    {
     "data": {
      "text/plain": [
       "56"
      ]
     },
     "execution_count": 28,
     "metadata": {},
     "output_type": "execute_result"
    }
   ],
   "source": [
    "solution(\"JEROEN\")"
   ]
  }
 ],
 "metadata": {
  "kernelspec": {
   "display_name": "Python 3",
   "language": "python",
   "name": "python3"
  },
  "language_info": {
   "codemirror_mode": {
    "name": "ipython",
    "version": 3
   },
   "file_extension": ".py",
   "mimetype": "text/x-python",
   "name": "python",
   "nbconvert_exporter": "python",
   "pygments_lexer": "ipython3",
   "version": "3.8.5"
  }
 },
 "nbformat": 4,
 "nbformat_minor": 4
}
