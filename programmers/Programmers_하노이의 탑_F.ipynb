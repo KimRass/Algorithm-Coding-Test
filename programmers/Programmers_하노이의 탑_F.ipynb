{
 "cells": [
  {
   "cell_type": "code",
   "execution_count": null,
   "metadata": {},
   "outputs": [],
   "source": [
    "n == 3:\n",
    "    [[1, 3], [1, 2], [3, 2], [1, 3]] + [[2, 1], [2, 3], [1, 3]]\n",
    "n == 4:\n",
    "    [[1, 2], [1, 3], [2, 3], [1, 2], [3, 1], [3, 2], [1, 2], [1, 3]] + solution(3)에서 1과 2 교체\n",
    "n == n:\n",
    "    4*(n - 2)개 + solution(n - 1)에서 1과 2 교체\n",
    "def solution(n):\n",
    "    mem = [0]*(n + 1)\n",
    "    # if n == 2:\n",
    "        # return\n",
    "    mem[2] = [[1, 2], [1, 3], [2, 3]]\n",
    "    for n in range(3, n + 1):\n",
    "        mem[n] = + [[2, j] if i == 1 else ([1, j] if i == 2for i, j in mem[n - 1]]\n",
    "    \n",
    "    else:\n",
    "        return answer"
   ]
  }
 ],
 "metadata": {
  "kernelspec": {
   "display_name": "Python 3",
   "language": "python",
   "name": "python3"
  },
  "language_info": {
   "codemirror_mode": {
    "name": "ipython",
    "version": 3
   },
   "file_extension": ".py",
   "mimetype": "text/x-python",
   "name": "python",
   "nbconvert_exporter": "python",
   "pygments_lexer": "ipython3",
   "version": "3.8.5"
  }
 },
 "nbformat": 4,
 "nbformat_minor": 4
}
