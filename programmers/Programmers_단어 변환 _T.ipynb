{
 "cells": [
  {
   "cell_type": "markdown",
   "metadata": {},
   "source": [
    "Written by KimRass\n",
    "- Source: https://programmers.co.kr/learn/courses/30/lessons/43163"
   ]
  },
  {
   "cell_type": "code",
   "execution_count": 122,
   "metadata": {},
   "outputs": [],
   "source": [
    "from collections import deque\n",
    "\n",
    "def solution(begin, target, words):\n",
    "    words += [begin]\n",
    "    length = len(words[0])\n",
    "    trans = dict()\n",
    "    for w1 in words:\n",
    "        trans[w1] = deque()\n",
    "        for w2 in words:\n",
    "            temp = list()\n",
    "            for c1, c2 in zip(w1, w2):\n",
    "                temp.append(c1 != c2)\n",
    "            if sum(temp) == 1:\n",
    "                trans[w1].append(w2)\n",
    "    print(trans)\n",
    "    \n",
    "    stack = [begin]\n",
    "    process = list()\n",
    "    while True:\n",
    "        try:\n",
    "            fr = stack[-1]\n",
    "            if trans[fr]:\n",
    "                if target in trans[fr]:\n",
    "                    break\n",
    "                to = trans[fr].popleft()\n",
    "                if to in stack:\n",
    "                    pass\n",
    "                else:\n",
    "                    stack.append(to)\n",
    "            else:\n",
    "                to = stack.pop()\n",
    "                process.append(to)\n",
    "        except:\n",
    "            return 0\n",
    "    process += list(reversed(stack))\n",
    "    return len(process)"
   ]
  },
  {
   "cell_type": "code",
   "execution_count": 123,
   "metadata": {},
   "outputs": [
    {
     "name": "stdout",
     "output_type": "stream",
     "text": [
      "{'hot': deque(['dot', 'lot', 'hit']), 'dot': deque(['hot', 'dog', 'lot']), 'dog': deque(['dot', 'log', 'cog']), 'lot': deque(['hot', 'dot', 'log']), 'log': deque(['dog', 'lot', 'cog']), 'cog': deque(['dog', 'log']), 'hit': deque(['hot'])}\n"
     ]
    },
    {
     "data": {
      "text/plain": [
       "4"
      ]
     },
     "execution_count": 123,
     "metadata": {},
     "output_type": "execute_result"
    }
   ],
   "source": [
    "begin = \"hit\"\n",
    "target = \"cog\"\n",
    "words = [\"hot\", \"dot\", \"dog\", \"lot\", \"log\", \"cog\"]\n",
    "\n",
    "solution(begin, target, words)"
   ]
  },
  {
   "cell_type": "code",
   "execution_count": 124,
   "metadata": {},
   "outputs": [
    {
     "name": "stdout",
     "output_type": "stream",
     "text": [
      "{'hot': deque(['dot', 'lot', 'hit']), 'dot': deque(['hot', 'dog', 'lot']), 'dog': deque(['dot', 'log']), 'lot': deque(['hot', 'dot', 'log']), 'log': deque(['dog', 'lot']), 'hit': deque(['hot'])}\n"
     ]
    },
    {
     "data": {
      "text/plain": [
       "0"
      ]
     },
     "execution_count": 124,
     "metadata": {},
     "output_type": "execute_result"
    }
   ],
   "source": [
    "begin = \"hit\"\n",
    "target = \"cog\"\n",
    "words = [\"hot\", \"dot\", \"dog\", \"lot\", \"log\"]\n",
    "\n",
    "solution(begin, target, words)"
   ]
  },
  {
   "cell_type": "code",
   "execution_count": 125,
   "metadata": {},
   "outputs": [
    {
     "name": "stdout",
     "output_type": "stream",
     "text": [
      "{'hot': deque(['lot', 'hit']), 'dog': deque(['log', 'cog']), 'lot': deque(['hot', 'log']), 'log': deque(['dog', 'lot', 'cog']), 'cog': deque(['dog', 'log']), 'hit': deque(['hot'])}\n"
     ]
    },
    {
     "data": {
      "text/plain": [
       "4"
      ]
     },
     "execution_count": 125,
     "metadata": {},
     "output_type": "execute_result"
    }
   ],
   "source": [
    "begin = \"hit\"\n",
    "target = \"cog\"\n",
    "words = [\"hot\", \"dog\", \"lot\", \"log\", \"cog\"]\n",
    "\n",
    "solution(begin, target, words)"
   ]
  }
 ],
 "metadata": {
  "hide_input": false,
  "kernelspec": {
   "display_name": "Python 3",
   "language": "python",
   "name": "python3"
  },
  "language_info": {
   "codemirror_mode": {
    "name": "ipython",
    "version": 3
   },
   "file_extension": ".py",
   "mimetype": "text/x-python",
   "name": "python",
   "nbconvert_exporter": "python",
   "pygments_lexer": "ipython3",
   "version": "3.8.5"
  },
  "toc": {
   "base_numbering": 1,
   "nav_menu": {},
   "number_sections": true,
   "sideBar": true,
   "skip_h1_title": false,
   "title_cell": "Table of Contents",
   "title_sidebar": "Contents",
   "toc_cell": false,
   "toc_position": {},
   "toc_section_display": true,
   "toc_window_display": false
  },
  "varInspector": {
   "cols": {
    "lenName": 16,
    "lenType": 16,
    "lenVar": 40
   },
   "kernels_config": {
    "python": {
     "delete_cmd_postfix": "",
     "delete_cmd_prefix": "del ",
     "library": "var_list.py",
     "varRefreshCmd": "print(var_dic_list())"
    },
    "r": {
     "delete_cmd_postfix": ") ",
     "delete_cmd_prefix": "rm(",
     "library": "var_list.r",
     "varRefreshCmd": "cat(var_dic_list()) "
    }
   },
   "types_to_exclude": [
    "module",
    "function",
    "builtin_function_or_method",
    "instance",
    "_Feature"
   ],
   "window_display": false
  }
 },
 "nbformat": 4,
 "nbformat_minor": 4
}
