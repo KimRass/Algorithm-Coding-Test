{
 "cells": [
  {
   "cell_type": "markdown",
   "metadata": {},
   "source": [
    "- Source: https://programmers.co.kr/learn/courses/30/lessons/17677"
   ]
  },
  {
   "cell_type": "code",
   "execution_count": 5,
   "metadata": {},
   "outputs": [],
   "source": [
    "from collections import Counter\n",
    "\n",
    "def solution(str1, str2):\n",
    "    const = 65536\n",
    "    bigram1 = Counter([str1[idx:idx + 2].upper() for idx in range(len(str1)) if idx <= len(str1) - 2 and str1[idx:idx + 2].isalpha()])\n",
    "    bigram2 = Counter([str2[idx:idx + 2].upper() for idx in range(len(str2)) if idx <= len(str2) - 2 and str2[idx:idx + 2].isalpha()])\n",
    "    union = Counter()\n",
    "    intersec = Counter()\n",
    "    for key in (bigram1 + bigram2).keys():\n",
    "        union[key] = max(bigram1[key], bigram2[key])\n",
    "        intersec[key] = min(bigram1[key], bigram2[key])\n",
    "    if sum(union.values()) == 0:\n",
    "        return const\n",
    "    else:\n",
    "        return int(sum(intersec.values())/sum(union.values())*const)"
   ]
  },
  {
   "cell_type": "code",
   "execution_count": 6,
   "metadata": {},
   "outputs": [
    {
     "data": {
      "text/plain": [
       "65536"
      ]
     },
     "execution_count": 6,
     "metadata": {},
     "output_type": "execute_result"
    }
   ],
   "source": [
    "str1 = \"handshake\"\n",
    "str2 = \"shake hands\"\n",
    "solution(str1, str2)"
   ]
  }
 ],
 "metadata": {
  "kernelspec": {
   "display_name": "Python 3",
   "language": "python",
   "name": "python3"
  },
  "language_info": {
   "codemirror_mode": {
    "name": "ipython",
    "version": 3
   },
   "file_extension": ".py",
   "mimetype": "text/x-python",
   "name": "python",
   "nbconvert_exporter": "python",
   "pygments_lexer": "ipython3",
   "version": "3.8.5"
  }
 },
 "nbformat": 4,
 "nbformat_minor": 4
}
