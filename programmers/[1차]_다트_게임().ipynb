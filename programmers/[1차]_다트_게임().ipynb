{
 "cells": [
  {
   "cell_type": "code",
   "execution_count": 6,
   "metadata": {},
   "outputs": [],
   "source": [
    "import re\n",
    "\n",
    "def solution(dartResult):\n",
    "    res = re.findall(r\"\\d+[A-Z][#*]*\", dartResult)\n",
    "\n",
    "    ans = 0\n",
    "    num_bef = 0\n",
    "    for score in res:\n",
    "        score = [re.search(r\"(\\d+)([A-Z])([#*]*)\", score).group(p) for p in range(1, 4)]\n",
    "        num = int(score[0])\n",
    "        multi = 1 if score[1] == \"S\" else (2 if score[1] == \"D\" else 3)\n",
    "        num **= multi\n",
    "        bonus = 1 if score[2] == \"\" else (2 if score[2] == \"*\" else -1)        \n",
    "        num *= bonus\n",
    "        if bonus == 2:\n",
    "            num_bef *= bonus\n",
    "        ans += num_bef\n",
    "        num_bef = num\n",
    "    ans += num\n",
    "    return ans"
   ]
  },
  {
   "cell_type": "code",
   "execution_count": 7,
   "metadata": {},
   "outputs": [
    {
     "data": {
      "text/plain": [
       "9"
      ]
     },
     "execution_count": 7,
     "metadata": {},
     "output_type": "execute_result"
    }
   ],
   "source": [
    "dartResult = \"1D2S#10S\"\n",
    "\n",
    "solution(dartResult)"
   ]
  }
 ],
 "metadata": {
  "kernelspec": {
   "display_name": "Python 3",
   "language": "python",
   "name": "python3"
  },
  "language_info": {
   "codemirror_mode": {
    "name": "ipython",
    "version": 3
   },
   "file_extension": ".py",
   "mimetype": "text/x-python",
   "name": "python",
   "nbconvert_exporter": "python",
   "pygments_lexer": "ipython3",
   "version": "3.8.5"
  }
 },
 "nbformat": 4,
 "nbformat_minor": 4
}
