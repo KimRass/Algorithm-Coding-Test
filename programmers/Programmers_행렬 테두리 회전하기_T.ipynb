{
 "cells": [
  {
   "cell_type": "code",
   "execution_count": 1,
   "metadata": {},
   "outputs": [],
   "source": [
    "def solution(rows, columns, queries):\n",
    "    square = [[columns*row + col + 1 for col in range(columns)] for row in range(rows)]\n",
    "    queries = [[i - 1 for i in row] for row in queries]\n",
    "\n",
    "    ans = list()\n",
    "    for a, b, c, d in queries:\n",
    "        row = a\n",
    "        col = b\n",
    "        past = square[row][col]\n",
    "        nums = list()\n",
    "        while True:\n",
    "            if row == a and col != d:\n",
    "                col += 1\n",
    "            elif col == d and row != c:\n",
    "                row += 1\n",
    "            elif row == c and col != b:\n",
    "                col -= 1\n",
    "            elif col == b and row != a:\n",
    "                row -= 1\n",
    "            cur = square[row][col]\n",
    "            nums.append(cur)\n",
    "            square[row][col] = past\n",
    "            past = cur\n",
    "            \n",
    "            if row == a and col == b:\n",
    "                break\n",
    "        ans.append(min(nums))  \n",
    "    return ans"
   ]
  },
  {
   "cell_type": "code",
   "execution_count": 2,
   "metadata": {},
   "outputs": [
    {
     "data": {
      "text/plain": [
       "[8, 10, 25]"
      ]
     },
     "execution_count": 2,
     "metadata": {},
     "output_type": "execute_result"
    }
   ],
   "source": [
    "rows = 6\n",
    "columns = 6\n",
    "queries = [[2,2,5,4],[3,3,6,6],[5,1,6,3]]\n",
    "\n",
    "solution(rows, columns, queries)"
   ]
  }
 ],
 "metadata": {
  "kernelspec": {
   "display_name": "Python 3",
   "language": "python",
   "name": "python3"
  },
  "language_info": {
   "codemirror_mode": {
    "name": "ipython",
    "version": 3
   },
   "file_extension": ".py",
   "mimetype": "text/x-python",
   "name": "python",
   "nbconvert_exporter": "python",
   "pygments_lexer": "ipython3",
   "version": "3.8.5"
  }
 },
 "nbformat": 4,
 "nbformat_minor": 4
}
