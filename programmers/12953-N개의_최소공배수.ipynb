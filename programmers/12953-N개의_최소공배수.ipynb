{
 "cells": [
  {
   "cell_type": "markdown",
   "metadata": {},
   "source": [
    "- Source: https://programmers.co.kr/learn/courses/30/lessons/12953#"
   ]
  },
  {
   "cell_type": "code",
   "execution_count": 5,
   "metadata": {},
   "outputs": [],
   "source": [
    "def solution(arr):\n",
    "    primes = set([i for i in range(2, 101)])\n",
    "    i = 2\n",
    "    while i != 100:\n",
    "        primes -= set(range(2*i, 101, i))\n",
    "        i += 1\n",
    "    \n",
    "    lcm = 1\n",
    "    for i in primes:\n",
    "        most = 0\n",
    "        for num in arr:\n",
    "            cnt = 0\n",
    "            while num%i == 0:\n",
    "                num //= i\n",
    "                cnt += 1\n",
    "                if cnt > most:\n",
    "                    most = cnt\n",
    "        lcm *= i**most\n",
    "    return lcm"
   ]
  },
  {
   "cell_type": "code",
   "execution_count": 7,
   "metadata": {},
   "outputs": [
    {
     "data": {
      "text/plain": [
       "1378222560"
      ]
     },
     "execution_count": 7,
     "metadata": {},
     "output_type": "execute_result"
    }
   ],
   "source": [
    "arr = [12, 32, 78, 54, 97, 11, 23, 15]\n",
    "\n",
    "solution(arr)"
   ]
  }
 ],
 "metadata": {
  "kernelspec": {
   "display_name": "Python 3",
   "language": "python",
   "name": "python3"
  },
  "language_info": {
   "codemirror_mode": {
    "name": "ipython",
    "version": 3
   },
   "file_extension": ".py",
   "mimetype": "text/x-python",
   "name": "python",
   "nbconvert_exporter": "python",
   "pygments_lexer": "ipython3",
   "version": "3.8.5"
  }
 },
 "nbformat": 4,
 "nbformat_minor": 4
}
