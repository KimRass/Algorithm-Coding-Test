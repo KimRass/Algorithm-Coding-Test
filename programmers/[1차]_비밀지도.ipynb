{
 "cells": [
  {
   "cell_type": "code",
   "execution_count": 22,
   "metadata": {},
   "outputs": [],
   "source": [
    "def solution(n, arr1, arr2):\n",
    "    map1 = list()\n",
    "    for i in arr1:\n",
    "        for j in [2**i for i in range(n-1, -1, -1)]:\n",
    "            if i >= j:\n",
    "                map1.append(\"#\")\n",
    "                i -= j\n",
    "            else:\n",
    "                map1.append(\" \")\n",
    "    map2 = list()\n",
    "    for i in arr2:\n",
    "        for j in [2**i for i in range(n-1, -1, -1)]:\n",
    "            if i >= j:\n",
    "                map2.append(\"#\")\n",
    "                i -= j\n",
    "            else:\n",
    "                map2.append(\" \")\n",
    "    string = \"\".join([\" \" if a == \" \" and b == \" \" else \"#\" for a, b in zip(map1, map2)])\n",
    "    ans = list()\n",
    "    while True:\n",
    "        ans.append(string[:n])\n",
    "        string = string[n:]\n",
    "        if len(string) == 0:\n",
    "            break\n",
    "    return ans"
   ]
  },
  {
   "cell_type": "code",
   "execution_count": 23,
   "metadata": {},
   "outputs": [
    {
     "data": {
      "text/plain": [
       "['#####', '# # #', '### #', '#  ##', '#####']"
      ]
     },
     "execution_count": 23,
     "metadata": {},
     "output_type": "execute_result"
    }
   ],
   "source": [
    "solution(5, [9, 20, 28, 18, 11], [30, 1, 21, 17, 28])"
   ]
  },
  {
   "cell_type": "code",
   "execution_count": null,
   "metadata": {},
   "outputs": [],
   "source": []
  }
 ],
 "metadata": {
  "kernelspec": {
   "display_name": "Python 3",
   "language": "python",
   "name": "python3"
  },
  "language_info": {
   "codemirror_mode": {
    "name": "ipython",
    "version": 3
   },
   "file_extension": ".py",
   "mimetype": "text/x-python",
   "name": "python",
   "nbconvert_exporter": "python",
   "pygments_lexer": "ipython3",
   "version": "3.8.5"
  }
 },
 "nbformat": 4,
 "nbformat_minor": 4
}
