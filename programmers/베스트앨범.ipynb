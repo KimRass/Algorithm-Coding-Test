{
 "cells": [
  {
   "cell_type": "code",
   "execution_count": 1,
   "metadata": {},
   "outputs": [],
   "source": [
    "def solution(genres, plays):\n",
    "    genre2play = {genre:0 for genre in set(genres)}\n",
    "    for genre, play in zip(genres, plays):\n",
    "        genre2play[genre] += play\n",
    "    genres_sort = list(dict(sorted(genre2play.items(), key=lambda x:x[1], reverse=True)).keys())\n",
    "\n",
    "    ans = list()\n",
    "    for genre in genres_sort:\n",
    "        idx_genre_play = sorted([(i, g, p) for i, (g, p) in enumerate(zip(genres, plays)) if g == genre], key=lambda x:x[2], reverse=True)\n",
    "        ans.extend([i[0] for i in idx_genre_play][:2])\n",
    "    return ans"
   ]
  },
  {
   "cell_type": "code",
   "execution_count": 2,
   "metadata": {},
   "outputs": [
    {
     "data": {
      "text/plain": [
       "[4, 1, 3, 0]"
      ]
     },
     "execution_count": 2,
     "metadata": {},
     "output_type": "execute_result"
    }
   ],
   "source": [
    "genres = [\"classic\", \"pop\", \"classic\", \"classic\", \"pop\"]\n",
    "plays = [500, 600, 150, 800, 2500]\n",
    "\n",
    "solution(genres, plays)"
   ]
  }
 ],
 "metadata": {
  "kernelspec": {
   "display_name": "Python 3",
   "language": "python",
   "name": "python3"
  },
  "language_info": {
   "codemirror_mode": {
    "name": "ipython",
    "version": 3
   },
   "file_extension": ".py",
   "mimetype": "text/x-python",
   "name": "python",
   "nbconvert_exporter": "python",
   "pygments_lexer": "ipython3",
   "version": "3.8.5"
  }
 },
 "nbformat": 4,
 "nbformat_minor": 4
}
