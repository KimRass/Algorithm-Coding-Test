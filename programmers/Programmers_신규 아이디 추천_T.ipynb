{
 "cells": [
  {
   "cell_type": "code",
   "execution_count": 1,
   "metadata": {},
   "outputs": [],
   "source": [
    "import re\n",
    "\n",
    "def solution(new_id):\n",
    "    string = \"\"\n",
    "    for char in new_id:\n",
    "        if char.isupper():\n",
    "            char = char.lower()\n",
    "        elif char.islower() or char in [str(num) for num in range(10)] + [\"-\", \"_\", \".\"]:\n",
    "            pass\n",
    "        else:\n",
    "            char = \"\"\n",
    "        string += char\n",
    "    string = re.sub(r\"\\.+\", \".\", string)\n",
    "    if len(string) >= 1 and string[0] == \".\":\n",
    "        string = string[1:]\n",
    "    if len(string) >= 1 and string[-1] == \".\":\n",
    "        string = string[:-1]\n",
    "    if len(string) == 0:\n",
    "        string += \"a\"\n",
    "    if len(string) >= 16:\n",
    "        string = string[:15]\n",
    "    if string[-1] == \".\":\n",
    "        string = string[:-1]\n",
    "    while len(string) <= 2:\n",
    "        string += string[-1]\n",
    "    new_id = new_id.lower()\n",
    "    return string"
   ]
  },
  {
   "cell_type": "code",
   "execution_count": null,
   "metadata": {},
   "outputs": [],
   "source": []
  }
 ],
 "metadata": {
  "kernelspec": {
   "display_name": "Python 3",
   "language": "python",
   "name": "python3"
  },
  "language_info": {
   "codemirror_mode": {
    "name": "ipython",
    "version": 3
   },
   "file_extension": ".py",
   "mimetype": "text/x-python",
   "name": "python",
   "nbconvert_exporter": "python",
   "pygments_lexer": "ipython3",
   "version": "3.8.5"
  }
 },
 "nbformat": 4,
 "nbformat_minor": 4
}
