{
 "cells": [
  {
   "cell_type": "code",
   "execution_count": 1,
   "metadata": {},
   "outputs": [],
   "source": [
    "from itertools import combinations\n",
    "\n",
    "def solution(relation):\n",
    "    n_samples = len(relation)\n",
    "    n_cols = len(relation[0])\n",
    "    cols = [i for i in range(n_cols)]\n",
    "    \n",
    "    success = list()\n",
    "    for k in range(1, n_cols + 1):\n",
    "        combi = list(combinations(cols, k))\n",
    "        for tup in combi:\n",
    "            temp = [tuple([row[col] for col in tup]) for row in relation]\n",
    "            if len(set(temp)) == n_samples:\n",
    "                for el in success:\n",
    "                    if set(el) & set(tup) == set(el):\n",
    "                        break\n",
    "                else:\n",
    "                    success.append(tup)\n",
    "    return len(success)"
   ]
  },
  {
   "cell_type": "code",
   "execution_count": 3,
   "metadata": {},
   "outputs": [
    {
     "data": {
      "text/plain": [
       "2"
      ]
     },
     "execution_count": 3,
     "metadata": {},
     "output_type": "execute_result"
    }
   ],
   "source": [
    "relation = [[\"100\",\"ryan\",\"music\",\"2\"],[\"200\",\"apeach\",\"math\",\"2\"],[\"300\",\"tube\",\"computer\",\"3\"],[\"400\",\"con\",\"computer\",\"4\"],[\"500\",\"muzi\",\"music\",\"3\"],[\"600\",\"apeach\",\"music\",\"2\"]]\n",
    "\n",
    "solution(relation)"
   ]
  }
 ],
 "metadata": {
  "kernelspec": {
   "display_name": "Python 3",
   "language": "python",
   "name": "python3"
  },
  "language_info": {
   "codemirror_mode": {
    "name": "ipython",
    "version": 3
   },
   "file_extension": ".py",
   "mimetype": "text/x-python",
   "name": "python",
   "nbconvert_exporter": "python",
   "pygments_lexer": "ipython3",
   "version": "3.8.5"
  }
 },
 "nbformat": 4,
 "nbformat_minor": 4
}
