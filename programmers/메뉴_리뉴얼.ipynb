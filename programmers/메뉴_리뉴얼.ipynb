{
 "cells": [
  {
   "cell_type": "code",
   "execution_count": 1,
   "metadata": {},
   "outputs": [],
   "source": [
    "from itertools import combinations\n",
    "from collections import Counter\n",
    "\n",
    "def solution(orders, course):\n",
    "    orders = [sorted(menu) for menu in orders]\n",
    "    most_ordered = list()\n",
    "    for k in course:\n",
    "        combi = [list(combinations(order, k)) for order in orders]\n",
    "        counter = Counter(sum(combi, []))\n",
    "        max_cnt = [key for key, value in counter.items() if value == max(counter.values()) and value >= 2]\n",
    "        if len(max_cnt) != 0:\n",
    "            most_ordered.append(max_cnt)\n",
    "    most_ordered = sum(most_ordered, [])\n",
    "    return sorted([\"\".join(el) for el in most_ordered])"
   ]
  },
  {
   "cell_type": "code",
   "execution_count": 2,
   "metadata": {},
   "outputs": [
    {
     "data": {
      "text/plain": [
       "['ACD', 'AD', 'ADE', 'CD', 'XYZ']"
      ]
     },
     "execution_count": 2,
     "metadata": {},
     "output_type": "execute_result"
    }
   ],
   "source": [
    "orders = [\"ABCDE\", \"AB\", \"CD\", \"ADE\", \"XYZ\", \"XYZ\", \"ACD\"]\n",
    "course = [2, 3, 5]\n",
    "\n",
    "solution(orders, course)"
   ]
  }
 ],
 "metadata": {
  "kernelspec": {
   "display_name": "Python 3",
   "language": "python",
   "name": "python3"
  },
  "language_info": {
   "codemirror_mode": {
    "name": "ipython",
    "version": 3
   },
   "file_extension": ".py",
   "mimetype": "text/x-python",
   "name": "python",
   "nbconvert_exporter": "python",
   "pygments_lexer": "ipython3",
   "version": "3.8.5"
  }
 },
 "nbformat": 4,
 "nbformat_minor": 4
}
